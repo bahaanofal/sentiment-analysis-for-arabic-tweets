{
 "cells": [
  {
   "cell_type": "markdown",
   "id": "b873dbc5",
   "metadata": {
    "papermill": {
     "duration": 0.00336,
     "end_time": "2022-12-12T22:51:43.049334",
     "exception": false,
     "start_time": "2022-12-12T22:51:43.045974",
     "status": "completed"
    },
    "tags": []
   },
   "source": [
    "# Sentiment Analysis of Twitter Data"
   ]
  },
  {
   "cell_type": "markdown",
   "id": "17285440",
   "metadata": {
    "papermill": {
     "duration": 0.002192,
     "end_time": "2022-12-12T22:51:43.054327",
     "exception": false,
     "start_time": "2022-12-12T22:51:43.052135",
     "status": "completed"
    },
    "tags": []
   },
   "source": [
    "### installing required libraries\n",
    "twint library used for colliction data from twitter without API."
   ]
  },
  {
   "cell_type": "code",
   "execution_count": 1,
   "id": "f6c85867",
   "metadata": {
    "collapsed": true,
    "execution": {
     "iopub.execute_input": "2022-12-12T22:51:43.060998Z",
     "iopub.status.busy": "2022-12-12T22:51:43.060513Z",
     "iopub.status.idle": "2022-12-12T22:52:21.353519Z",
     "shell.execute_reply": "2022-12-12T22:52:21.352027Z"
    },
    "jupyter": {
     "outputs_hidden": true
    },
    "papermill": {
     "duration": 38.299275,
     "end_time": "2022-12-12T22:52:21.356039",
     "exception": false,
     "start_time": "2022-12-12T22:51:43.056764",
     "status": "completed"
    },
    "tags": []
   },
   "outputs": [
    {
     "name": "stdout",
     "output_type": "stream",
     "text": [
      "Collecting twint\r\n",
      "  Downloading twint-2.1.20.tar.gz (31 kB)\r\n",
      "  Preparing metadata (setup.py) ... \u001b[?25l-\b \bdone\r\n",
      "\u001b[?25hRequirement already satisfied: aiohttp in /opt/conda/lib/python3.7/site-packages (from twint) (3.8.1)\r\n",
      "Collecting aiodns\r\n",
      "  Downloading aiodns-3.0.0-py3-none-any.whl (5.0 kB)\r\n",
      "Requirement already satisfied: beautifulsoup4 in /opt/conda/lib/python3.7/site-packages (from twint) (4.11.1)\r\n",
      "Collecting cchardet\r\n",
      "  Downloading cchardet-2.1.7-cp37-cp37m-manylinux2010_x86_64.whl (263 kB)\r\n",
      "\u001b[2K     \u001b[90m━━━━━━━━━━━━━━━━━━━━━━━━━━━━━━━━━━━━━━━\u001b[0m \u001b[32m263.7/263.7 kB\u001b[0m \u001b[31m1.3 MB/s\u001b[0m eta \u001b[36m0:00:00\u001b[0m\r\n",
      "\u001b[?25hCollecting elasticsearch\r\n",
      "  Downloading elasticsearch-8.5.3-py3-none-any.whl (385 kB)\r\n",
      "\u001b[2K     \u001b[90m━━━━━━━━━━━━━━━━━━━━━━━━━━━━━━━━━━━━━━━\u001b[0m \u001b[32m385.3/385.3 kB\u001b[0m \u001b[31m3.7 MB/s\u001b[0m eta \u001b[36m0:00:00\u001b[0m\r\n",
      "\u001b[?25hRequirement already satisfied: pysocks in /opt/conda/lib/python3.7/site-packages (from twint) (1.7.1)\r\n",
      "Requirement already satisfied: pandas in /opt/conda/lib/python3.7/site-packages (from twint) (1.3.5)\r\n",
      "Collecting aiohttp_socks\r\n",
      "  Downloading aiohttp_socks-0.7.1-py3-none-any.whl (9.3 kB)\r\n",
      "Collecting schedule\r\n",
      "  Downloading schedule-1.1.0-py2.py3-none-any.whl (10 kB)\r\n",
      "Requirement already satisfied: geopy in /opt/conda/lib/python3.7/site-packages (from twint) (2.2.0)\r\n",
      "Collecting fake-useragent\r\n",
      "  Downloading fake_useragent-1.1.1-py3-none-any.whl (50 kB)\r\n",
      "\u001b[2K     \u001b[90m━━━━━━━━━━━━━━━━━━━━━━━━━━━━━━━━━━━━━━━━\u001b[0m \u001b[32m50.4/50.4 kB\u001b[0m \u001b[31m3.7 MB/s\u001b[0m eta \u001b[36m0:00:00\u001b[0m\r\n",
      "\u001b[?25hCollecting googletransx\r\n",
      "  Downloading googletransx-2.4.2.tar.gz (13 kB)\r\n",
      "  Preparing metadata (setup.py) ... \u001b[?25l-\b \bdone\r\n",
      "\u001b[?25hCollecting pycares>=4.0.0\r\n",
      "  Downloading pycares-4.3.0-cp37-cp37m-manylinux_2_17_x86_64.manylinux2014_x86_64.whl (288 kB)\r\n",
      "\u001b[2K     \u001b[90m━━━━━━━━━━━━━━━━━━━━━━━━━━━━━━━━━━━━━━\u001b[0m \u001b[32m288.1/288.1 kB\u001b[0m \u001b[31m12.0 MB/s\u001b[0m eta \u001b[36m0:00:00\u001b[0m\r\n",
      "\u001b[?25hRequirement already satisfied: async-timeout<5.0,>=4.0.0a3 in /opt/conda/lib/python3.7/site-packages (from aiohttp->twint) (4.0.2)\r\n",
      "Requirement already satisfied: charset-normalizer<3.0,>=2.0 in /opt/conda/lib/python3.7/site-packages (from aiohttp->twint) (2.1.0)\r\n",
      "Requirement already satisfied: aiosignal>=1.1.2 in /opt/conda/lib/python3.7/site-packages (from aiohttp->twint) (1.2.0)\r\n",
      "Requirement already satisfied: frozenlist>=1.1.1 in /opt/conda/lib/python3.7/site-packages (from aiohttp->twint) (1.3.0)\r\n",
      "Requirement already satisfied: attrs>=17.3.0 in /opt/conda/lib/python3.7/site-packages (from aiohttp->twint) (21.4.0)\r\n",
      "Requirement already satisfied: yarl<2.0,>=1.0 in /opt/conda/lib/python3.7/site-packages (from aiohttp->twint) (1.7.2)\r\n",
      "Requirement already satisfied: asynctest==0.13.0 in /opt/conda/lib/python3.7/site-packages (from aiohttp->twint) (0.13.0)\r\n",
      "Requirement already satisfied: multidict<7.0,>=4.5 in /opt/conda/lib/python3.7/site-packages (from aiohttp->twint) (6.0.2)\r\n",
      "Requirement already satisfied: typing-extensions>=3.7.4 in /opt/conda/lib/python3.7/site-packages (from aiohttp->twint) (4.4.0)\r\n",
      "Collecting python-socks[asyncio]<3.0.0,>=2.0.0\r\n",
      "  Downloading python_socks-2.0.3-py3-none-any.whl (49 kB)\r\n",
      "\u001b[2K     \u001b[90m━━━━━━━━━━━━━━━━━━━━━━━━━━━━━━━━━━━━━━━━\u001b[0m \u001b[32m49.2/49.2 kB\u001b[0m \u001b[31m4.3 MB/s\u001b[0m eta \u001b[36m0:00:00\u001b[0m\r\n",
      "\u001b[?25hRequirement already satisfied: soupsieve>1.2 in /opt/conda/lib/python3.7/site-packages (from beautifulsoup4->twint) (2.3.1)\r\n",
      "Collecting elastic-transport<9,>=8\r\n",
      "  Downloading elastic_transport-8.4.0-py3-none-any.whl (59 kB)\r\n",
      "\u001b[2K     \u001b[90m━━━━━━━━━━━━━━━━━━━━━━━━━━━━━━━━━━━━━━━━\u001b[0m \u001b[32m59.5/59.5 kB\u001b[0m \u001b[31m5.3 MB/s\u001b[0m eta \u001b[36m0:00:00\u001b[0m\r\n",
      "\u001b[?25hRequirement already satisfied: importlib-metadata~=4.0 in /opt/conda/lib/python3.7/site-packages (from fake-useragent->twint) (4.13.0)\r\n",
      "Requirement already satisfied: importlib-resources>=5.0 in /opt/conda/lib/python3.7/site-packages (from fake-useragent->twint) (5.8.0)\r\n",
      "Requirement already satisfied: geographiclib<2,>=1.49 in /opt/conda/lib/python3.7/site-packages (from geopy->twint) (1.52)\r\n",
      "Requirement already satisfied: requests in /opt/conda/lib/python3.7/site-packages (from googletransx->twint) (2.28.1)\r\n",
      "Requirement already satisfied: python-dateutil>=2.7.3 in /opt/conda/lib/python3.7/site-packages (from pandas->twint) (2.8.2)\r\n",
      "Requirement already satisfied: pytz>=2017.3 in /opt/conda/lib/python3.7/site-packages (from pandas->twint) (2022.1)\r\n",
      "Requirement already satisfied: numpy>=1.17.3 in /opt/conda/lib/python3.7/site-packages (from pandas->twint) (1.21.6)\r\n",
      "Requirement already satisfied: certifi in /opt/conda/lib/python3.7/site-packages (from elastic-transport<9,>=8->elasticsearch->twint) (2022.9.24)\r\n",
      "Requirement already satisfied: urllib3<2,>=1.26.2 in /opt/conda/lib/python3.7/site-packages (from elastic-transport<9,>=8->elasticsearch->twint) (1.26.12)\r\n",
      "Requirement already satisfied: zipp>=0.5 in /opt/conda/lib/python3.7/site-packages (from importlib-metadata~=4.0->fake-useragent->twint) (3.8.0)\r\n",
      "Requirement already satisfied: cffi>=1.5.0 in /opt/conda/lib/python3.7/site-packages (from pycares>=4.0.0->aiodns->twint) (1.15.0)\r\n",
      "Requirement already satisfied: six>=1.5 in /opt/conda/lib/python3.7/site-packages (from python-dateutil>=2.7.3->pandas->twint) (1.15.0)\r\n",
      "Requirement already satisfied: idna>=2.0 in /opt/conda/lib/python3.7/site-packages (from yarl<2.0,>=1.0->aiohttp->twint) (3.3)\r\n",
      "Requirement already satisfied: pycparser in /opt/conda/lib/python3.7/site-packages (from cffi>=1.5.0->pycares>=4.0.0->aiodns->twint) (2.21)\r\n",
      "Building wheels for collected packages: twint, googletransx\r\n",
      "  Building wheel for twint (setup.py) ... \u001b[?25l-\b \b\\\b \bdone\r\n",
      "\u001b[?25h  Created wheel for twint: filename=twint-2.1.20-py3-none-any.whl size=33929 sha256=18fd96d9da04be852152bae2ba08546b52d7b5b668467cd8fc92b012a3dc64a9\r\n",
      "  Stored in directory: /root/.cache/pip/wheels/44/fc/77/99887a36b5c265a87516158858697d1a0b8f32c4d4dbddbb24\r\n",
      "  Building wheel for googletransx (setup.py) ... \u001b[?25l-\b \b\\\b \bdone\r\n",
      "\u001b[?25h  Created wheel for googletransx: filename=googletransx-2.4.2-py3-none-any.whl size=15968 sha256=03d61b3017f9c93016e0844d5893d512d0cb769f4963c49b5236f16405f6c2fa\r\n",
      "  Stored in directory: /root/.cache/pip/wheels/66/d5/b1/31104b338f7fd45aa8f7d22587765db06773b13df48a89735f\r\n",
      "Successfully built twint googletransx\r\n",
      "Installing collected packages: python-socks, cchardet, schedule, elastic-transport, pycares, googletransx, fake-useragent, elasticsearch, aiohttp_socks, aiodns, twint\r\n",
      "Successfully installed aiodns-3.0.0 aiohttp_socks-0.7.1 cchardet-2.1.7 elastic-transport-8.4.0 elasticsearch-8.5.3 fake-useragent-1.1.1 googletransx-2.4.2 pycares-4.3.0 python-socks-2.0.3 schedule-1.1.0 twint-2.1.20\r\n",
      "\u001b[33mWARNING: Running pip as the 'root' user can result in broken permissions and conflicting behaviour with the system package manager. It is recommended to use a virtual environment instead: https://pip.pypa.io/warnings/venv\u001b[0m\u001b[33m\r\n",
      "\u001b[0mCollecting twint\r\n",
      "  Cloning https://github.com/twintproject/twint.git (to revision origin/master) to /tmp/pip-install-nopztvsb/twint_d4327895338e4efcb19043a02f6389de\r\n",
      "  Running command git clone --filter=blob:none --quiet https://github.com/twintproject/twint.git /tmp/pip-install-nopztvsb/twint_d4327895338e4efcb19043a02f6389de\r\n",
      "\u001b[33m  WARNING: Did not find branch or tag 'origin/master', assuming revision or ref.\u001b[0m\u001b[33m\r\n",
      "\u001b[0m  Running command git checkout -q origin/master\r\n",
      "  Resolved https://github.com/twintproject/twint.git to commit origin/master\r\n",
      "  Preparing metadata (setup.py) ... \u001b[?25l-\b \bdone\r\n",
      "\u001b[?25hRequirement already satisfied: aiohttp in /opt/conda/lib/python3.7/site-packages (from twint) (3.8.1)\r\n",
      "Requirement already satisfied: aiodns in /opt/conda/lib/python3.7/site-packages (from twint) (3.0.0)\r\n",
      "Requirement already satisfied: beautifulsoup4 in /opt/conda/lib/python3.7/site-packages (from twint) (4.11.1)\r\n",
      "Requirement already satisfied: cchardet in /opt/conda/lib/python3.7/site-packages (from twint) (2.1.7)\r\n",
      "Requirement already satisfied: dataclasses in /opt/conda/lib/python3.7/site-packages (from twint) (0.8)\r\n",
      "Requirement already satisfied: elasticsearch in /opt/conda/lib/python3.7/site-packages (from twint) (8.5.3)\r\n",
      "Requirement already satisfied: pysocks in /opt/conda/lib/python3.7/site-packages (from twint) (1.7.1)\r\n",
      "Requirement already satisfied: pandas in /opt/conda/lib/python3.7/site-packages (from twint) (1.3.5)\r\n",
      "Requirement already satisfied: aiohttp_socks in /opt/conda/lib/python3.7/site-packages (from twint) (0.7.1)\r\n",
      "Requirement already satisfied: schedule in /opt/conda/lib/python3.7/site-packages (from twint) (1.1.0)\r\n",
      "Requirement already satisfied: geopy in /opt/conda/lib/python3.7/site-packages (from twint) (2.2.0)\r\n",
      "Requirement already satisfied: fake-useragent in /opt/conda/lib/python3.7/site-packages (from twint) (1.1.1)\r\n",
      "Requirement already satisfied: googletransx in /opt/conda/lib/python3.7/site-packages (from twint) (2.4.2)\r\n",
      "Requirement already satisfied: pycares>=4.0.0 in /opt/conda/lib/python3.7/site-packages (from aiodns->twint) (4.3.0)\r\n",
      "Requirement already satisfied: frozenlist>=1.1.1 in /opt/conda/lib/python3.7/site-packages (from aiohttp->twint) (1.3.0)\r\n",
      "Requirement already satisfied: async-timeout<5.0,>=4.0.0a3 in /opt/conda/lib/python3.7/site-packages (from aiohttp->twint) (4.0.2)\r\n",
      "Requirement already satisfied: charset-normalizer<3.0,>=2.0 in /opt/conda/lib/python3.7/site-packages (from aiohttp->twint) (2.1.0)\r\n",
      "Requirement already satisfied: multidict<7.0,>=4.5 in /opt/conda/lib/python3.7/site-packages (from aiohttp->twint) (6.0.2)\r\n",
      "Requirement already satisfied: aiosignal>=1.1.2 in /opt/conda/lib/python3.7/site-packages (from aiohttp->twint) (1.2.0)\r\n",
      "Requirement already satisfied: typing-extensions>=3.7.4 in /opt/conda/lib/python3.7/site-packages (from aiohttp->twint) (4.4.0)\r\n",
      "Requirement already satisfied: yarl<2.0,>=1.0 in /opt/conda/lib/python3.7/site-packages (from aiohttp->twint) (1.7.2)\r\n",
      "Requirement already satisfied: attrs>=17.3.0 in /opt/conda/lib/python3.7/site-packages (from aiohttp->twint) (21.4.0)\r\n",
      "Requirement already satisfied: asynctest==0.13.0 in /opt/conda/lib/python3.7/site-packages (from aiohttp->twint) (0.13.0)\r\n",
      "Requirement already satisfied: python-socks[asyncio]<3.0.0,>=2.0.0 in /opt/conda/lib/python3.7/site-packages (from aiohttp_socks->twint) (2.0.3)\r\n",
      "Requirement already satisfied: soupsieve>1.2 in /opt/conda/lib/python3.7/site-packages (from beautifulsoup4->twint) (2.3.1)\r\n",
      "Requirement already satisfied: elastic-transport<9,>=8 in /opt/conda/lib/python3.7/site-packages (from elasticsearch->twint) (8.4.0)\r\n",
      "Requirement already satisfied: importlib-resources>=5.0 in /opt/conda/lib/python3.7/site-packages (from fake-useragent->twint) (5.8.0)\r\n",
      "Requirement already satisfied: importlib-metadata~=4.0 in /opt/conda/lib/python3.7/site-packages (from fake-useragent->twint) (4.13.0)\r\n",
      "Requirement already satisfied: geographiclib<2,>=1.49 in /opt/conda/lib/python3.7/site-packages (from geopy->twint) (1.52)\r\n",
      "Requirement already satisfied: requests in /opt/conda/lib/python3.7/site-packages (from googletransx->twint) (2.28.1)\r\n",
      "Requirement already satisfied: python-dateutil>=2.7.3 in /opt/conda/lib/python3.7/site-packages (from pandas->twint) (2.8.2)\r\n",
      "Requirement already satisfied: pytz>=2017.3 in /opt/conda/lib/python3.7/site-packages (from pandas->twint) (2022.1)\r\n",
      "Requirement already satisfied: numpy>=1.17.3 in /opt/conda/lib/python3.7/site-packages (from pandas->twint) (1.21.6)\r\n",
      "Requirement already satisfied: certifi in /opt/conda/lib/python3.7/site-packages (from elastic-transport<9,>=8->elasticsearch->twint) (2022.9.24)\r\n",
      "Requirement already satisfied: urllib3<2,>=1.26.2 in /opt/conda/lib/python3.7/site-packages (from elastic-transport<9,>=8->elasticsearch->twint) (1.26.12)\r\n",
      "Requirement already satisfied: zipp>=0.5 in /opt/conda/lib/python3.7/site-packages (from importlib-metadata~=4.0->fake-useragent->twint) (3.8.0)\r\n",
      "Requirement already satisfied: cffi>=1.5.0 in /opt/conda/lib/python3.7/site-packages (from pycares>=4.0.0->aiodns->twint) (1.15.0)\r\n",
      "Requirement already satisfied: six>=1.5 in /opt/conda/lib/python3.7/site-packages (from python-dateutil>=2.7.3->pandas->twint) (1.15.0)\r\n",
      "Requirement already satisfied: idna>=2.0 in /opt/conda/lib/python3.7/site-packages (from yarl<2.0,>=1.0->aiohttp->twint) (3.3)\r\n",
      "Requirement already satisfied: pycparser in /opt/conda/lib/python3.7/site-packages (from cffi>=1.5.0->pycares>=4.0.0->aiodns->twint) (2.21)\r\n",
      "Building wheels for collected packages: twint\r\n",
      "  Building wheel for twint (setup.py) ... \u001b[?25l-\b \bdone\r\n",
      "\u001b[?25h  Created wheel for twint: filename=twint-2.1.21-py3-none-any.whl size=38871 sha256=9024d0e5d4ee2eed9d1a59fedd4e305b4bbb9d0e768a60352f4ea6646b00485e\r\n",
      "  Stored in directory: /tmp/pip-ephem-wheel-cache-bnpdmx5u/wheels/8d/dc/9f/74b4483d5f997036f04aec7f42bd4b3c80f04264920c368068\r\n",
      "Successfully built twint\r\n",
      "Installing collected packages: twint\r\n",
      "  Attempting uninstall: twint\r\n",
      "    Found existing installation: twint 2.1.20\r\n",
      "    Uninstalling twint-2.1.20:\r\n",
      "      Successfully uninstalled twint-2.1.20\r\n",
      "Successfully installed twint-2.1.21\r\n",
      "\u001b[33mWARNING: Running pip as the 'root' user can result in broken permissions and conflicting behaviour with the system package manager. It is recommended to use a virtual environment instead: https://pip.pypa.io/warnings/venv\u001b[0m\u001b[33m\r\n",
      "\u001b[0mRequirement already satisfied: nest_asyncio in /opt/conda/lib/python3.7/site-packages (1.5.5)\r\n",
      "\u001b[33mWARNING: Running pip as the 'root' user can result in broken permissions and conflicting behaviour with the system package manager. It is recommended to use a virtual environment instead: https://pip.pypa.io/warnings/venv\u001b[0m\u001b[33m\r\n",
      "\u001b[0m"
     ]
    }
   ],
   "source": [
    "!pip install twint\n",
    "!pip install --upgrade git+https://github.com/twintproject/twint.git@origin/master#egg=twint\n",
    "#this prevents async problems/ runtime errors\n",
    "!pip install nest_asyncio"
   ]
  },
  {
   "cell_type": "markdown",
   "id": "7a4f4d56",
   "metadata": {
    "papermill": {
     "duration": 0.005906,
     "end_time": "2022-12-12T22:52:21.368327",
     "exception": false,
     "start_time": "2022-12-12T22:52:21.362421",
     "status": "completed"
    },
    "tags": []
   },
   "source": [
    "### import required libraries"
   ]
  },
  {
   "cell_type": "code",
   "execution_count": 2,
   "id": "7bdcb66d",
   "metadata": {
    "execution": {
     "iopub.execute_input": "2022-12-12T22:52:21.382146Z",
     "iopub.status.busy": "2022-12-12T22:52:21.381807Z",
     "iopub.status.idle": "2022-12-12T22:52:21.887361Z",
     "shell.execute_reply": "2022-12-12T22:52:21.885766Z"
    },
    "papermill": {
     "duration": 0.515763,
     "end_time": "2022-12-12T22:52:21.890171",
     "exception": false,
     "start_time": "2022-12-12T22:52:21.374408",
     "status": "completed"
    },
    "tags": []
   },
   "outputs": [],
   "source": [
    "import twint\n",
    "import nest_asyncio\n",
    "nest_asyncio.apply()\n",
    "import json\n",
    "import re"
   ]
  },
  {
   "cell_type": "markdown",
   "id": "a1c8b60b",
   "metadata": {
    "papermill": {
     "duration": 0.005817,
     "end_time": "2022-12-12T22:52:21.902886",
     "exception": false,
     "start_time": "2022-12-12T22:52:21.897069",
     "status": "completed"
    },
    "tags": []
   },
   "source": [
    "### Collection data\n",
    "Instantiate and configure the twint-object for get data from twitter.\n"
   ]
  },
  {
   "cell_type": "code",
   "execution_count": 3,
   "id": "b13bc7ff",
   "metadata": {
    "_kg_hide-output": false,
    "execution": {
     "iopub.execute_input": "2022-12-12T22:52:21.916792Z",
     "iopub.status.busy": "2022-12-12T22:52:21.916159Z",
     "iopub.status.idle": "2022-12-12T22:52:29.181886Z",
     "shell.execute_reply": "2022-12-12T22:52:29.180114Z"
    },
    "papermill": {
     "duration": 7.275469,
     "end_time": "2022-12-12T22:52:29.184388",
     "exception": false,
     "start_time": "2022-12-12T22:52:21.908919",
     "status": "completed"
    },
    "tags": []
   },
   "outputs": [
    {
     "name": "stdout",
     "output_type": "stream",
     "text": [
      "1602425573820596224 2022-12-12 22:10:03 +0000 <pro_travel1> ندعوك للاستمتاع باجواء الصيف معانا فى جورجيا واتساب: 00995596355000 #سياحة #سفر  https://t.co/RChE1Qkmyf\n",
      "1602423571984228352 2022-12-12 22:02:05 +0000 <QalWQalt> افضل #سياحة عائلية في اذربيجان واتساب: 00994508225050  https://t.co/EwXSgILFpE\n",
      "1602412284629946375 2022-12-12 21:17:14 +0000 <safari_news> بالصور .. استمتع بجولة سياحية في مدينة #بوردو الفرنسية   https://t.co/iP6mmFZg3W  #سياحة  https://t.co/CBifB82g9B\n",
      "1602411766205530113 2022-12-12 21:15:11 +0000 <Nkhatiib> السلام عليكم ،  شركة سياحية تحتاج موظفين سعودين لهم خبرة في المجال ، الي مهتم ياليت يتواصل معاي على الخاص وشكرًا . #وظائف #سياحة #سفر #تنظيم #منظمين.\n",
      "1602409197274124288 2022-12-12 21:04:58 +0000 <safari_news> #زامبيا تعفي #السعوديين من تأشيرة الدخول لأراضيها   https://t.co/AfD1g10AUq  #سياحة  https://t.co/IP6AHulZys\n",
      "1602406697347256322 2022-12-12 20:55:02 +0000 <safari_news> روكسي سينما تفتتح شاشتها السينمائية على سطح غاليريا مول البرشاء   https://t.co/IL3vJC9S63  #سياحة  https://t.co/ijTm0iFU3D\n",
      "1602402962940301320 2022-12-12 20:40:12 +0000 <safari_news> نصائح يجب تجنبها خلال رحلتك لشهر العسل   https://t.co/7eW9sCKG7t  #سياحة  https://t.co/vIS00F9vQZ\n",
      "1602402930316886016 2022-12-12 20:40:04 +0000 <_1llilo> 🔴✈️Trip around #Georgia!!!  🔴📞What&amp;rsquo;s app : 00995596366000  🔴🚗Car With Driver  🔴🏢 Rent flats &amp;amp; Reserve hotels  🔴💲Cheapest Service #hash   #سياحة_في_جورجيا #تبليسي #باتومي #المسافرون_العرب #سياحة #عروض_سياحية  https://t.co/JqsRbmkmap\n",
      "1602402810032701441 2022-12-12 20:39:35 +0000 <safari_news> بالصور .. أجمل المزارات السياحية في #جورجيا لشهر عسل رومانسي   https://t.co/rwF7rvZp3I  #سياحة  https://t.co/01NHszlVqa\n",
      "1602402691778486272 2022-12-12 20:39:07 +0000 <safari_news> بالصور .. أجمل المعالم السياحية في #الغردقة   https://t.co/1Abw1eAITC  #سياحة  https://t.co/FszEr7py7N\n",
      "1602402258582388737 2022-12-12 20:37:24 +0000 <safari_news> بالصور .. أجمل 5 جزر رائعة في #اليونان ننصحك بزيارتها   https://t.co/6TQFrePGMW  #سياحة  https://t.co/MFcJeO975S\n",
      "1602401864393363469 2022-12-12 20:35:50 +0000 <safari_news> بالصور .. استمتع بشهر عسل رومانسي في جزيرة لورد هاو   https://t.co/3mgx5KKvSW  #سياحة  https://t.co/44WUT1GfvQ\n",
      "1602401672185135104 2022-12-12 20:35:04 +0000 <safari_news> بالصور .. استمتع بعطلة عائلية في مدينة #الصويرة المغربية   https://t.co/FeJEiu09XI  #سياحة  https://t.co/PRkMdLkoSA\n",
      "1602401495076556800 2022-12-12 20:34:22 +0000 <SsSswrb> يوم..ال2..12..12..2022 #صوره_من_تصويري. #صورة_اليوم  #سياحه  # #امطار_جدة #السيسى #المغرب_فرنسا #كأس_العالم #الكويت #فرنسا #اليمن  https://t.co/SS9LJm7Hgn\n",
      "1602400151967920128 2022-12-12 20:29:02 +0000 <_1llilo> قال رسول الله ﷺ(من كان له ذبح يذبحه، فإذا أهل هلال ذي الحجة، فلا يأخذن من شعره ولا من أظفاره شيئا حتى يضحي) رياض الصالحين #سياحة #دبي\n",
      "1602396567197057074 2022-12-12 20:14:47 +0000 <abdulluh55555> #عسير #الحريضه  #الجنوب #شتاء_السعودية   #سياحه . شاطيء الحريضه ..  https://t.co/N0zegZ7p4d\n",
      "1602396522057957395 2022-12-12 20:14:36 +0000 <salmanjeddah4> للسياح المتنطعين  للي يغثك اذا جيت بتروح تاكل ، عطوه هالفتوى #سفر #سياحه #اوروبا #اكل  https://t.co/hAvF3FKARp\n",
      "1602392806353506305 2022-12-12 19:59:50 +0000 <safari_news> بالصور .. تجارب مميزة ننصحك بها في شهر العسل جزيرة #فريجاتي   https://t.co/SF0hkIaBgq  #سياحة  https://t.co/dl8ZjDhUt8\n",
      "1602391908290002981 2022-12-12 19:56:16 +0000 <safari_news> بالصور .. أفضل المدن الاسبانية للسياحة في فصل الشتاء   https://t.co/te9uuUU76B  #سياحة  https://t.co/FjIGoy0GAx\n",
      "1602389837360791579 2022-12-12 19:48:02 +0000 <safari_news> أسباب السفر إلى #توسكانا في موسم الشتاء   https://t.co/ViBdrkcWFh  #سياحة  https://t.co/jEvqwtCyxt\n",
      "1602386022934904872 2022-12-12 19:32:53 +0000 <aldiwanalyamani> عروض دهب 🤩🏖  ☀️ إقامة كاملة 4 ايام / 3 ليالي للفرد  ( جميع الوجبات - مشروبات وسناكس )   🔺 إضافة التنقلات 450 ج   للتواصل: 📞 01551278917  واتساب:  https://t.co/tRigiidzft 📍 فيصل - شارع العشرين - مقابل المروني للعطاره #الديوان_اليمني #مصر #دهب #عروض #سياحة  #شرم_الشيخ #الغردقة  https://t.co/oT7r0cmIUP\n",
      "1602382348216987648 2022-12-12 19:18:17 +0000 <QalWQalt> Trip around  Georgia!!!  What app : 00995514205050 ✔ Car With Driver  ✔apartment Rent  ✔ flats Reserve  ✔hotels #سياحة #سفر #جورجيا #باتومي  https://t.co/Ulkacym3Ux\n",
      "1602380654188060675 2022-12-12 19:11:33 +0000 <TravelTimes_Sa> *رحلة راس السنة استمتع في #أذربيجان 7 ليالي 8 أيام *من 28 ديسمبر الى 4 يناير* 2023 يشمل :  *الطيران الدولي من المدينة * *الإقامة الفندقية بالافطار* *الاستقبال والتوديع* *التنقل بين المدن* *جولات سياحية * #اوقات_السفر #جدة #المدينة #راس_السنة #باكو #سفر #سياحة #رحلة #ينبع  https://t.co/DwTUJwYy3R\n",
      "1602379270231232512 2022-12-12 19:06:03 +0000 <_1llilo> السياحة في جورجيا و اذربيجان  اهم الاماكن السياحية المناسبة للعائلة او الشباب  اتصل علي : 00995596366000 #سياحة #سفر  https://t.co/gopoybo8lM\n",
      "1602377513853980673 2022-12-12 18:59:04 +0000 <hananebettache> مهرجان ليالي مسرح الصحراء الدولية بأدرار ورشات فنية وتكريم للفنانين الجزائريين الراحلين عنا #الجزائر  #مسرح #سياحة @AqwasHb  https://t.co/IOKwsGTwYq\n",
      "1602372482576457728 2022-12-12 18:39:05 +0000 <QalWQalt> 🔴✈️Trip around #Georgia!!!  🔴📞Whats app : 00995514205050  🔴🚗Car With Driver  🔴🏢 Rent flats &amp;amp; Reserve hotels  🔴💲Cheapest Service #سياحة_في_جورجيا #تبليسي #باتومي #المسافرون_العرب #سياحة #عروض_سياحية  #عرض_سياحي  https://t.co/WSx041WXvl\n",
      "1602371660396593152 2022-12-12 18:35:49 +0000 <Sama_Almosafer> #تيرانا - عاصمة #البانيا 🇦🇱  هناك العديد من الأنشطة  في تيرانا.  وسترى تأثير الإمبراطوريات والثقافات فيها ،  من المتاحف إلى المباني التاريخية والمتنزهات الوطنية. فكل ما تريده ستجده في تيرانا 😍.  #سياحة #رحلات #سما_المسافر  https://t.co/2rwprcY1xu\n",
      "1602366530850738177 2022-12-12 18:15:26 +0000 <QalWQalt> اختار برنامجك السياحي الي جورجيا من عدة برامج 00995514205050 واتساب #سياحة #سفر  https://t.co/RNOC1G3tYQ\n",
      "1602364304946495488 2022-12-12 18:06:35 +0000 <JazzarRaja> #الأردن #سياحة بانتظار الاحصاءات الرسمية لأعداد سياح المبيت من أوروبا من بداية السنة ولغاية نهاية شهر نوفمبر وباقي الجنسيات لنرى نجاعة الأموال الأردنية المصروفة على كل سوق وعدد السياح منه والدخل للبلد #نجاعة_التسويق\n",
      "1602362655531945984 2022-12-12 18:00:02 +0000 <safaraqtourism> البقلاوة التركية الشهية، فخر الحلويات التركية.  #حلويات #تركيا #سياحة  https://t.co/VvnYHMec7d\n",
      "1602355866388164608 2022-12-12 17:33:03 +0000 <ger_capital> رحلة الي جورجيا  احجز رحلتك معنا وأحصل علي تأمين السفر وشرايح انترنت مجانااااااا  للحجز او التواصل كلمنا واتساب على 00995514205050 تبليسى #جورجيا #جورجيا_تبليسي #سياحة #عطلات #اجازة #سافر  https://t.co/mk1NDjTHg2\n",
      "1602354843657830400 2022-12-12 17:28:59 +0000 <sunshin62823963> #تصويري  #سياحة  #سلطنة_عمان  https://t.co/L9Z50eYjS7\n",
      "1602348867458154502 2022-12-12 17:05:14 +0000 <TheDigitalEngi1> لله كمال الشكر🤲🏻  تم اختيارنا ضمن الفرق الفائزة في هاكثون #رواد_السياحة   مبروك لجميع المشاركين في المعسكر🙌  ممتنين لكل من أسهم في هذا النجاح✨  @Saudi_MT @sttimksa @WTTC @wtm @UNWTO  #السياحة #سياحة #ريادة_الأعمال #وزارة_السياحة #رؤية_2030 #سفر #رواد_السياحة #رؤية_السعودية_2030  https://t.co/I6SgZNe5g0\n",
      "1602345947312300032 2022-12-12 16:53:38 +0000 <abdelsalam012>  https://t.co/NOPhVzAGEe #pyramids #Egypt #walking #cairo #الاهرامات #مصر #سياحة #القاهرة\n",
      "1602343825514459162 2022-12-12 16:45:12 +0000 <ger_capital> السياحة في دولة جورجيا  أفضل العروض بأفضل ألأسعار مع جورجيا كابيتال  واتساب: 00995514205050 تبليسى #جورجيا #جورجيا_تبليسي #سياحة #عطلات #اجازة #سافر #رحلات_طوال_العام  https://t.co/je7xmaMcKE\n",
      "1602339975139303424 2022-12-12 16:29:54 +0000 <naeerwahman> المخنثين هو اللفظ الشرعي لما يحاولون ترويجة باسم الشذوذ او المثـ لية هناك مخنثين يودون أن تشيع الفاحشة في اللذين آمنوا من خلال إعلاناتهم التجارية #المغرب_البرتغال  #تبليسى #جورجيا #جورجيا_تبليسي #سياحة #عطلات #اجازة #سافر #رحلات_طوال_العام #رحلات #عوايل  https://t.co/Jqmem8XzJ7\n",
      "1602339774974394368 2022-12-12 16:29:07 +0000 <QalWQalt> افضل #سياحة عائلية في اذربيجان واتساب: 00994508225050  https://t.co/f64yhWMRGl\n",
      "1602339004996648961 2022-12-12 16:26:03 +0000 <_1llilo> #تبليسى #جورجيا #جورجيا_تبليسي #سياحة #عطلات #اجازة #سافر #رحلات_طوال_العام #رحلات #عوايل #عوائل #للحجز #عروض #السعودية #عدستى #قطر #الامارات #البحرين #عمان #باتومي #المسافرون_العرب #المسافرون #سياحةوسفر #جورجيا_بعيون_عربية #السياحة_في_جورجيا  https://t.co/EKBIVOkpa6\n",
      "1602336389781409792 2022-12-12 16:15:39 +0000 <husein_bali> هذا في  #جزيرة_بالي 🏖 انا سواق و مرشد سياحي مسلم في جزيرة بالي اندونيسيا📍 أطلب/للاستفسار افضل على واتساب؛  https://t.co/TK1e8PMeIZ  من اخيكم مسلم من جزيرة بالي اندونيسيا #سواق_بالي #جزيرة_بالي #سفر #سياحة   #سائق #اندونيسيا #جبل_ #شلال  https://t.co/K0f6CwcKvt\n",
      "1602336250983088136 2022-12-12 16:15:06 +0000 <ger_capital> افضل عروض في جورجيا مع جورجيا كابيتال للتواصل واتساب: 00995514205050 #سياحة #سفر  https://t.co/Kb28Ujl2SH\n",
      "1602335368849854465 2022-12-12 16:11:36 +0000 <TourismGateYSN> دا الكتاب حلو لمحبين السفر ..فيه معلومات مختصرة وبسيطة عن عالم الطيران 🌧👍🏼  كيف تستغلوا الوقت أثناء الرحلة سواءً رحلتكم في((طيارة،سيارة،….))؟ شاركونا 🌧😊 #معرض_جدة_الدولي_للكتاب #جده_lلان #سياحة #سفر #موسم_الرياض  https://t.co/WOExB0PEJy\n",
      "1602334927852376064 2022-12-12 16:09:51 +0000 <hosam_andijani> للمسافرين إلى #بريطانيا خلال الإجازة القادمة فيجب توخي الحذر بخصوص الإضرابات المتوقع حدوثها والتي قد تسبب في تعطلكم ، هذا جدول الإضرابات القادمة #لندن #سياحة  https://t.co/oG8XukIsUV\n",
      "1602334222877790208 2022-12-12 16:07:03 +0000 <DaniaHosny> ندعوك للاستمتاع باجواء الصيف معانا فى جورجيا واتساب: 00995596355000 #سياحة #سفر  https://t.co/ngOoj29mmq\n",
      "1602332589959913472 2022-12-12 16:00:34 +0000 <almulhimtravel> نجهزلك البرنامج السياحي بـ ٥٠ ريال فقط 🤩✅  * قابل للتعديل مرة واحدة فقط  * نخصم لك قيمة البرنامج في حال حجزت من عندنا ✈️🏨  #سفر #سياحة #الاحساء #شهر_العسل  https://t.co/0V1LZTrYi1\n",
      "1602332495671742464 2022-12-12 16:00:11 +0000 <_1llilo> تبليسى #جورجيا #جورجيا_تبليسي #سياحة #عطلات #اجازة #سافر #رحلات_طوال_العام #رحلات #عوائل #للحجز #عروض #السعودية #عدستى #قطر #الامارات #البحرين #عمان #باتومي #المسافرون_العرب #المسافرون #جورجيا_بعيون_عربية #جورجيا_كابيتال #السياحة_في_جورجيا  https://t.co/B1jRPpoAm0\n",
      "1602329189499035648 2022-12-12 15:47:03 +0000 <pro_travel1> اقوى البرامج السياحية بي جورجيا واتساب: 00995596355000 #سياحة #سفر  https://t.co/4lT0f7ZaPh\n",
      "1602325954063650817 2022-12-12 15:34:11 +0000 <France_TravelEU> ألخص موضوع التزلج و #سياحة #الشتاء😊  -اكبر محطة تزلج قريبة من #فرنسا و #سويسرا  تجيها ساعتين عن مطار #جنيف أو #ليون . Les 3 Vallée´📍  -لا تحدثني على كورشوفال لغلاء أسعارها!  -لاتشتري المعدات بل أجر! - من ليون  وانت رايح يوجد اوتلات ضخم فيه ما تحتاج👌 - نوفر نقل ٢٤/٢٤س احجز بس.  https://t.co/FbQByu3Krv\n",
      "1602325506287878144 2022-12-12 15:32:25 +0000 <Point_agency1> بوينت للسفر والسياحة ✈️ #سفر #سياحة  https://t.co/4v0PkJ9Gxc\n",
      "1602325174283603970 2022-12-12 15:31:05 +0000 <almulhimtravel> كنصيحة ⚠️ لاتستخدم التوك توك في #بوكيت #تايلاند 🇹🇭 #سفر #سياحة  https://t.co/p7jn2WKukZ\n",
      "1602321835101659138 2022-12-12 15:17:49 +0000 <almulhimtravel> #ايطاليا 🇮🇹 ( ٨ ليالي )  تشمل : 🏢 الأقامة في فندق مع وجبة الأفطار 🚘 الأستقبال في مطار #روما 🗺️ جولة سياحية #روما #فلورنس #ميلان 🚇 تذاكر القطار بين المدن 🚘 التوصيل من الفندق الي مطار ميلان  - غير شامل : فيزا الشنغن - تذاكر الطيران  #سفر #سياحة #الاحساء #وكالة #ديسمبر  https://t.co/9rtnFoDh3F\n",
      "1602321688200642561 2022-12-12 15:17:14 +0000 <almulhimtravel> #فرنسا 🇫🇷 و #سويسرا 🇨🇭 ( ٨ ليالي )  تشمل : 🏢 الأقامة في فندق مع وجبة الأفطار 🚘 الأستقبال في مطار #باريس 🗺️ جولة سياحية #باريس #جنيف 🚇 تذاكر القطار بين المدن 🚘 التوصيل من جنيف الى المطار  - غير شامل : فيزا الشنغن - تذاكر الطيران  #سفر #سياحة #الاحساء #ديسمبر  https://t.co/RNCChl3LWc\n",
      "1602321532130398208 2022-12-12 15:16:37 +0000 <almulhimtravel> #إسبانيا 🇪🇸 ( ٨ ليالي )  تشمل : 🏢 الأقامة في فندق مع وجبة الأفطار 🚘 الأستقبال في مطار #برشلونه 🗺️ جولة سياحية #برشلونه و #مدريد 🚇 تذاكر القطار من برشلونه لمدريد 🚘 التوصيل من الفندق الي مطار مدريد  - غير شامل : فيزا الشنغن - تذاكر الطيران  #سفر #سياحة #الاحساء #وكالة #ديسمبر  https://t.co/9lzmWx1SlK\n",
      "1602316863580516354 2022-12-12 14:58:04 +0000 <pro_travel1> 🔴✈️Trip around #Georgia!!!  🔴📞Whats app : 00995596355000 🔴🚗Car With Driver  🔴🏢 Rent flats &amp;amp; Reserve hotels  🔴💲Cheapest Service  #سياحة #دبي  https://t.co/ctDpS8wSsL\n",
      "1602311833481752578 2022-12-12 14:38:05 +0000 <QalWQalt> استفسر عن عروض جورجيا  خصومات خاصة للحجز المسبق واتساب: 00995514205050 #سياحة #سفر  https://t.co/JTwBgNfhr2\n",
      "1602308113096491008 2022-12-12 14:23:18 +0000 <Ialgeria3> 📍 Mostaganem City, #Algeria 🇩🇿 📍مدينة مُـستغانم #الجزائر 🇩🇿  #mapofalgeria #Algeria #Travel #Welcome_to_Algeria #explorepage #beautifuldestinations  #سياحة #سفر  https://t.co/uGopxu9WKC\n",
      "1602305525525274624 2022-12-12 14:13:01 +0000 <_1llilo> قال رسول الله ﷺ(إياك والالتفات في الصلاة، فإن الالتفات في الصلاة هلكة، فإن كان لا بد، ففي التطوع لا في الفريضة) رياض الصالحين #سياحة #سفر\n",
      "1602303166418067456 2022-12-12 14:03:38 +0000 <GreatsTravel> باقة شهر عسل ولا اروع 🤩 اقضي شهر عسل لاينسى مع شركة جريتس ترافل  تجد دائما فخامه لسفرك  للحجز تواصل معنا : +60 11-1236 1360 #سفر #سافر #سياحة #كوالالمبور #ماليزيا #السعودية #اليمن #الامارات #عمان #السودان #صلالة #مسقط #جده_lلان #شهر_عسل  https://t.co/uARtWeju5s\n",
      "1602298798713151488 2022-12-12 13:46:17 +0000 <QalWQalt> جورجيا هنساعدك في توفير أحسن برنامج سياحي لك مع جورجيا كابيتال  هتحصل أفضل العروض بمناسبة اول الرحلات بعد كورونا.  للتواصل واتساب:  https://t.co/ySIIh2izkK #سياحة #سفر  https://t.co/gfQzuFluNd\n",
      "1602298720489553920 2022-12-12 13:45:58 +0000 <almulhimtravel> أجمل الأماكن في قلب #براغ #التشيك 🇨🇿  #سفر #سياحة  https://t.co/9dbfWR9Mse\n",
      "1602296073929732096 2022-12-12 13:35:27 +0000 <_1llilo> 🔴✈️Trip around #Georgia!!!  🔴📞What&amp;rsquo;s app : 00995596366000  🔴🚗Car With Driver  🔴🏢 Rent flats &amp;amp; Reserve hotels  🔴💲Cheapest Service #hash   #سياحة_في_جورجيا #تبليسي #باتومي #المسافرون_العرب #سياحة #عروض_سياحية  https://t.co/Qnle1wmtpX\n",
      "1602291694942097413 2022-12-12 13:18:03 +0000 <QalWQalt> Trip around  Georgia!!!  What app : 00995514205050 ✔ Car With Driver  ✔apartment Rent  ✔ flats Reserve  ✔hotels #سياحة #سفر #رمضان_كريم  https://t.co/9z9avatyj2\n",
      "1602287167086075904 2022-12-12 13:00:04 +0000 <_1llilo> اسال عن عروض الصيف فى جورجيا واتساب: 00995596366000 #سياحة #سفر  https://t.co/eReiaeudWR\n",
      "1602287152330674182 2022-12-12 13:00:00 +0000 <safaraqtourism> رحلة مضيق البوسفور مع سفرك متعة لا حدود لها. تابعونا لنفتح لكم أبواب الجمال في تركيا.  #سياحة #تركيا #طرابزون #السياحة_في_تركيا  https://t.co/Ceftzob7vG\n",
      "1602286464838078469 2022-12-12 12:57:16 +0000 <Suudi_turist> #تركيا #اسطنبول #سياحة #سفر #سائح_سعودي_في_اسطنبول  https://t.co/GSnapQQi4b\n",
      "1602283481471455233 2022-12-12 12:45:25 +0000 <QalWQalt> 🔴✈️Trip around #Georgia!!!  🔴📞Whats app : 00995514205050  🔴🚗Car With Driver  🔴🏢 Rent flats &amp;amp; Reserve hotels  🔴💲Cheapest Service #سياحة_في_جورجيا #تبليسي #باتومي #المسافرون_العرب #سياحة #عروض_سياحية  #سياحة #سفر  https://t.co/3y9LJjq0I0\n",
      "1602272236638961664 2022-12-12 12:00:44 +0000 <tourinlibya> أكبر كهف في شمال أفريقيا ومن اقدم كهوف العالم يقع بمدينة سوسة في ليبيا 🇱🇾   The largest cave in North Africa and one of the oldest caves in the world is located in the city of Sousse in Libya  #ليبيا #libya #السياحة_في_ليبيا #سياحة #سفر #tourinlibya #tourisminlibya #toursim  https://t.co/M3vEZGUEde\n",
      "1602270989542375424 2022-12-12 11:55:47 +0000 <rlalg1> جورجيا 🇬🇪 Tourist programs start from 4 days Contact Us 📲Whatsapp  https://t.co/PyGyqMWdwD  #ملتقى_الرحالة #سياحة #جورجيا  https://t.co/yMIhTt4RRS\n",
      "1602268624340803587 2022-12-12 11:46:23 +0000 <Vimfayihs> ما هي الأمراض التي يعالجها قسم جراحة المخ والأعصاب؟ * * #تركيا #الصحة  #سياحة #صحية #الاطباء #الاتراك #الطب  *  https://t.co/PUw9ZRqEGM\n",
      "1602256922282819587 2022-12-12 10:59:53 +0000 <AL24newschannel> #صور | الطبعة الخامسة من #المهرجان_الدولي_للسياحة_الصحراوية بـ #غرداية  #الجزائر #سياحة #موروث_ثقافي  https://t.co/zF0HflTfLu\n",
      "1602256850799443970 2022-12-12 10:59:36 +0000 <AL24newschannel> #صور | الطبعة الخامسة من #المهرجان_الدولي_للسياحة_الصحراوية بـ #غرداية  #الجزائر #سياحة #موروث_ثقافي  https://t.co/9sz9yQgFSe\n",
      "1602255707482443776 2022-12-12 10:55:03 +0000 <QalWQalt> افضل #سياحة عائلية في اذربيجان واتساب: 00994508225050  https://t.co/XccIzDVKIp\n",
      "1602245529508913152 2022-12-12 10:14:37 +0000 <smiletravel01> #سلطنةعمان  #سياحة ✈ ✔  Tours in Georgia  ✅Hotel bookings 🏠🏢  ✅ Luxury apartment bookings 🏠🏢 Trip around Georgia  📞 WhatsApp:  https://t.co/xFvXBbXtdj  #السعودية #المغرب_البرتغال  #طفشانه  #امطار_جده  https://t.co/1nik1A7S0a\n",
      "1602245468993748992 2022-12-12 10:14:22 +0000 <Labradorite_sa> إقامة هادئة وسعيدة وأكلك يصل إلى غرفتك في فندق لابرادوريت. . . _______ #فندق_لابرادوريت #فنادق_جدة #سياحة #سفر #رحلات  https://t.co/P6OKS0G057\n",
      "1602241859228606465 2022-12-12 10:00:02 +0000 <parlmany> #برلماني | \" #سياحه #النواب \": مطارات #الغردقه و #مرسى_علم تستقبل أعلى معدلات وصول أسبوعية  https://t.co/Al9TrY2xDq\n",
      "1602241284432969728 2022-12-12 09:57:45 +0000 <AbdullaHoty> @FumioIwai  #الجبيل عندما تنطق ببعض جمالها  افضل بنية تحتية في الشرق الاوسط  شواطئ وصناعة .. طبيعة  و #سياحة  #الجمال  #الهيئة_الملكية_بالجبيل  #السعودية   #المستشار_عبدالله_الحوطي  https://t.co/jUJfgopMQD\n",
      "1602239536461144064 2022-12-12 09:50:48 +0000 <Onism_sa> #جاك_العلم #onism #سفر #سياحة  https://t.co/TbxNC3EqaL\n",
      "1602231799244988417 2022-12-12 09:20:03 +0000 <_1llilo> #تبليسى #جورجيا #جورجيا_تبليسي #سياحة #عطلات #اجازة #سافر #رحلات_طوال_العام #رحلات #عوايل #عوائل #للحجز #عروض #السعودية #عدستى #قطر #الامارات #البحرين #عمان #باتومي #المسافرون_العرب #المسافرون #سياحةوسفر #جورجيا_بعيون_عربية #السياحة_في_جورجيا  https://t.co/9YYjFS1S6o\n",
      "1602225004963188738 2022-12-12 08:53:03 +0000 <_1llilo> تبليسى #جورجيا #جورجيا_تبليسي #سياحة #عطلات #اجازة #سافر #رحلات_طوال_العام #رحلات #عوائل #للحجز #عروض #السعودية #عدستى #قطر #الامارات #البحرين #عمان #باتومي #المسافرون_العرب #المسافرون #جورجيا_بعيون_عربية #جورجيا_كابيتال #السياحة_في_جورجيا  https://t.co/IXN0ftuSAX\n",
      "1602223767060553728 2022-12-12 08:48:08 +0000 <_1llilo> TOURS AROUND #GEORGIA  CONTACT US ON  WHATSAPP 00995596366000 #سياحة #دبي  https://t.co/qukRYVGfFt\n",
      "1602221894043844609 2022-12-12 08:40:42 +0000 <saharjawhari> بلدة روجوزنيكا هي بلدة صغيرة تقع في خليج صغير بين مدينتي سيبينيك وسبليت في كرواتيا. #سياحة  https://t.co/4rQqPpTmwQ\n",
      "1602219202798051330 2022-12-12 08:30:00 +0000 <safaraqtourism> طرابزون سويسرا تركيا سحر الطبيعة والريف التركي الساحر.  #طرابزون #سياحة #السياحة_في_تركيا  https://t.co/03070o2p7e\n",
      "1602215202572967936 2022-12-12 08:14:06 +0000 <Aalamalsafr> #سفر #رحلات #رحلة #إجازة #زيارة #عطلة #متعة #سياحة #سائح #بر #بحر #جو #فضاء #تركيا #اسطنبول  https://t.co/0LKZwzyyks\n",
      "1602215073832902658 2022-12-12 08:13:35 +0000 <Aalamalsafr> #سفر #رحلات #رحلة #إجازة #زيارة #عطلة #متعة #سياحة #سائح #بر #بحر #جو #فضاء #تركيا #اسطنبول  https://t.co/R9JiWFT09O\n",
      "1602214988248227843 2022-12-12 08:13:15 +0000 <Aalamalsafr> #سفر #رحلات #رحلة #إجازة #زيارة #عطلة #متعة #سياحة #سائح #بر #بحر #جو #فضاء #تركيا #اسطنبول  https://t.co/kPwhnESL5L\n",
      "1602214545833050113 2022-12-12 08:11:30 +0000 <Aalamalsafr> #سفر #رحلات #رحلة #إجازة #زيارة #عطلة #متعة #سياحة #سائح #بر #بحر #جو #فضاء #تركيا #اسطنبول  https://t.co/jUBvrDdgs1\n",
      "1602214440316936193 2022-12-12 08:11:04 +0000 <Aalamalsafr> #سفر #رحلات #رحلة #إجازة #زيارة #عطلة #متعة #سياحة #سائح #بر #بحر #جو #فضاء #تركيا #اسطنبول  https://t.co/fq3e3iky08\n",
      "1602214394112479232 2022-12-12 08:10:53 +0000 <mosaferarabi11> جورجيا Trip around  Georgia   Rent Car With driver  Rent flats &amp; hotels with best Service Contact Us 📲Whatsapp  https://t.co/ab7N014ySG  #سياحة #وين_بتقضي_اجازتك #أسفار  https://t.co/liymugq13m\n",
      "1602214325053259777 2022-12-12 08:10:37 +0000 <Aalamalsafr> #سفر #رحلات #رحلة #إجازة #زيارة #عطلة #متعة #سياحة #سائح #بر #بحر #جو #فضاء #تركيا #اسطنبول  https://t.co/4246z4lor9\n",
      "1602213190531969027 2022-12-12 08:06:06 +0000 <Vimfayihs> تعد أنقرة من نواحٍ كثيرة واحدة من المدن التي تتمتع بخدمة طبية جيدة. يمكنك الاتصال بنا للحصول على الخدمة الطبية في أنقرة. * * #تركيا #الصحة #سياحة #صحية #الاطباء #الاتراك #الطب #الحديث #السياحة #العلاجية #المستشفيات  https://t.co/PRRRZHMdpn\n",
      "1602211797586522114 2022-12-12 08:00:34 +0000 <geo_travels1> &amp;rlm;✈️Trip around #georgia🇬🇪 🔴📞Whatsapp : 00995558205050 🔴🚗 Rent Car With driver 🔴🏢 Rent flats &amp;amp; hotels 🔴💲Cheapest Service #جورجيا #تبليسي #باتومي #جبال_قوقاز #سياحة #سعوديه #رياض #الامارات #قطر #الكويت #الخليج  https://t.co/kkyJqwK54V\n",
      "1602208140497342464 2022-12-12 07:46:02 +0000 <_1llilo> اسال عن عروض الصيف فى جورجيا واتساب: 00995596366000 #سياحة #دبي  https://t.co/WCwdwNZukh\n",
      "1602207631548071937 2022-12-12 07:44:01 +0000 <khaledaltaie> أشوف السّفر ما بين فتره وفتره زين أنا بحاجة غياب أتفحّص به أشواقي #السفر #سياحه  https://t.co/pnnn4YIE8t\n",
      "1602203776483528704 2022-12-12 07:28:42 +0000 <De4ent> #أذربيجان #غابالا #سياحة  https://t.co/bScxQOlkIw\n",
      "1602200346146709504 2022-12-12 07:15:04 +0000 <QalWQalt> Trip around  Georgia!!!  What app : 00995514205050 ✔ Car With Driver  ✔apartment Rent  ✔ flats Reserve  ✔hotels #سياحة #سفر #حجزفنادق  https://t.co/TweYbqAZMW\n",
      "1602199911839121408 2022-12-12 07:13:21 +0000 <SrilankaTour5> كن معنا لتجد افضل العروض السياحية في سريلانكا 0094763009649 #SriLanka #سياحة #سريلانكا #حجوزات #العرب_المسافرون  https://t.co/RNYD4NJBMc\n",
      "1602190809347997697 2022-12-12 06:37:10 +0000 <QalWQalt> 🔴✈️Trip around #Georgia!!!  🔴📞Whats app : 00995514205050  🔴🚗Car With Driver  🔴🏢 Rent flats &amp;amp; Reserve hotels  🔴💲Cheapest Service #سياحة_في_جورجيا #تبليسي #باتومي #المسافرون_العرب #سياحة #عروض_سياحية  #رمضان  https://t.co/gFWqNNKkEH\n",
      "1602190789378916353 2022-12-12 06:37:06 +0000 <_1llilo> استمتع بالطبيعة الخلابة والمكان الجميل في جورجيا واتساب: 00995596366000 #سياحة #سفر  https://t.co/GkR0hjfztu\n",
      "1602188262184955904 2022-12-12 06:27:03 +0000 <_1llilo> 🔴✈️Trip around #Georgia!!!  🔴📞What&amp;rsquo;s app : 00995596366000  🔴🚗Car With Driver  🔴🏢 Rent flats &amp;amp; Reserve hotels  🔴💲Cheapest Service #hash   #سياحة_في_جورجيا #تبليسي #باتومي #المسافرون_العرب #سياحة #عروض_سياحية  https://t.co/6IyfLDKgpo\n",
      "1602171154600693760 2022-12-12 05:19:04 +0000 <QalWQalt> افضل #سياحة عائلية في اذربيجان واتساب: 00994508225050  https://t.co/i4OHlhMNrp\n",
      "1602170379354652674 2022-12-12 05:15:59 +0000 <travelzad> 🌐 خرائط مترو المدن الاوروبية ..   https://t.co/RcxHlZrZ5O #خرائط #احداثيات #رحلات #سياحة #اوروبية #زاد_المسافر  https://t.co/6f3NsBIbyw\n",
      "1602170027528318977 2022-12-12 05:14:36 +0000 <travelzad> مطوية بوخارست 🎁 هدية الزاد لكم ..  https://t.co/PatVq8sqvC #رحلات #مطويات #زاد_المسافر #بوخارست #سياحة  https://t.co/694ZAMFDVt\n",
      "1602166877223931904 2022-12-12 05:02:05 +0000 <QalWQalt> ايجار سيارات مع سائق وبدون سائق في جورجيا 00995514205050 واتساب #سياحة #سفر  https://t.co/9Fj348oPTK\n",
      "1602166354232037376 2022-12-12 05:00:00 +0000 <safaraqtourism> أجمل 5 جولات سياحية في اسطنبول  تمثل إسطنبول نقطة الانطلاق الرئيسية التي نرتكز عليها لتقديم الخدمات السياحية في تركيا، ولا زالت المدينة على قائمة أهم البرامج السياحية، فلنتعرف على أجمل برامج سفرك السياحية في إسطنبول من المقال:  https://t.co/Yn7JamHm8f  #اسطنبول #سياحة #جولات  https://t.co/fK0dyCYuRZ\n",
      "1602162604599693312 2022-12-12 04:45:06 +0000 <ger_capital> رحلة الي جورجيا  احجز رحلتك معنا وأحصل علي تأمين السفر وشرايح انترنت مجانااااااا  للحجز او التواصل كلمنا واتساب على 00995514205050 تبليسى #جورجيا #جورجيا_تبليسي #سياحة #عطلات #اجازة #سافر  https://t.co/o3esR0GnP2\n"
     ]
    }
   ],
   "source": [
    "c = twint.Config()\n",
    "c.Store_object = True\n",
    "c.Pandas =True\n",
    "c.Search = \"#سياحة\"\n",
    "# c.Since = '2022-01-01'\n",
    "# c.Until = '2022-11-30'\n",
    "c.Limit = 100\n",
    "c.Lang = 'ar'\n",
    "c.Filter_retweets = False\n",
    "c.Store_json = True\n",
    "c.Output = \"1_tweets.json\"\n",
    "twint.run.Search(c)\n",
    "# Quick check\n",
    "# twint.storage.panda.Tweets_df.head(20)"
   ]
  },
  {
   "cell_type": "markdown",
   "id": "ff78d8cd",
   "metadata": {
    "papermill": {
     "duration": 0.007287,
     "end_time": "2022-12-12T22:52:29.199433",
     "exception": false,
     "start_time": "2022-12-12T22:52:29.192146",
     "status": "completed"
    },
    "tags": []
   },
   "source": [
    "## 1- Loading and Cleaning Twitter Data"
   ]
  },
  {
   "cell_type": "code",
   "execution_count": 4,
   "id": "16bb271a",
   "metadata": {
    "execution": {
     "iopub.execute_input": "2022-12-12T22:52:29.217096Z",
     "iopub.status.busy": "2022-12-12T22:52:29.216662Z",
     "iopub.status.idle": "2022-12-12T22:52:29.254504Z",
     "shell.execute_reply": "2022-12-12T22:52:29.253788Z"
    },
    "papermill": {
     "duration": 0.049046,
     "end_time": "2022-12-12T22:52:29.256696",
     "exception": false,
     "start_time": "2022-12-12T22:52:29.207650",
     "status": "completed"
    },
    "tags": []
   },
   "outputs": [],
   "source": [
    "# Open the input file\n",
    "input_file = open('/kaggle/input/sentiment-arabic-tweets/1_tweets.json','r', encoding=\"utf-8\")\n",
    "clean_tweets = open('/kaggle/working/clean_tweets.txt','w', encoding=\"utf-8\")\n",
    "\n",
    "\n",
    "# Load the first few lines\n",
    "for line in input_file:\n",
    "    tweet = json.loads(line)\n",
    "    temp = re.sub(\"@[A-Za-z0-9_]+\",\"@User\", tweet['tweet'])\n",
    "    temp = re.sub(r\"http\\S+\", \"URL\", temp)\n",
    "    temp = re.sub(r\"www.\\S+\", \"URL\", temp)\n",
    "    temp = re.sub('[()!\\'?]', '', temp)\n",
    "    temp = re.sub('\\[.*?\\]','', temp)\n",
    "    temp = re.sub(\"[^أ-يA-z0-9@]\",\" \", temp)\n",
    "    clean_tweets.write(temp + '\\n')\n",
    "\n",
    "# Close the input file\n",
    "input_file.close()\n",
    "clean_tweets.close()"
   ]
  },
  {
   "cell_type": "code",
   "execution_count": null,
   "id": "d72ef556",
   "metadata": {
    "papermill": {
     "duration": 0.007673,
     "end_time": "2022-12-12T22:52:29.273071",
     "exception": false,
     "start_time": "2022-12-12T22:52:29.265398",
     "status": "completed"
    },
    "tags": []
   },
   "outputs": [],
   "source": []
  }
 ],
 "metadata": {
  "kernelspec": {
   "display_name": "Python 3",
   "language": "python",
   "name": "python3"
  },
  "language_info": {
   "codemirror_mode": {
    "name": "ipython",
    "version": 3
   },
   "file_extension": ".py",
   "mimetype": "text/x-python",
   "name": "python",
   "nbconvert_exporter": "python",
   "pygments_lexer": "ipython3",
   "version": "3.7.12"
  },
  "papermill": {
   "default_parameters": {},
   "duration": 54.408379,
   "end_time": "2022-12-12T22:52:30.001517",
   "environment_variables": {},
   "exception": null,
   "input_path": "__notebook__.ipynb",
   "output_path": "__notebook__.ipynb",
   "parameters": {},
   "start_time": "2022-12-12T22:51:35.593138",
   "version": "2.3.4"
  }
 },
 "nbformat": 4,
 "nbformat_minor": 5
}
