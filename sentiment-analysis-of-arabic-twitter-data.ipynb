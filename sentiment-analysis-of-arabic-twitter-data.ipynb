{
 "cells": [
  {
   "cell_type": "markdown",
   "id": "4d17963f",
   "metadata": {
    "papermill": {
     "duration": 0.007152,
     "end_time": "2022-12-21T14:11:24.810420",
     "exception": false,
     "start_time": "2022-12-21T14:11:24.803268",
     "status": "completed"
    },
    "tags": []
   },
   "source": [
    "# Sentiment Analysis of Twitter Data"
   ]
  },
  {
   "cell_type": "markdown",
   "id": "8a465d5b",
   "metadata": {
    "papermill": {
     "duration": 0.005134,
     "end_time": "2022-12-21T14:11:24.821421",
     "exception": false,
     "start_time": "2022-12-21T14:11:24.816287",
     "status": "completed"
    },
    "tags": []
   },
   "source": [
    "### installing required libraries\n",
    "twint library used for colliction data from twitter without API."
   ]
  },
  {
   "cell_type": "code",
   "execution_count": 1,
   "id": "15e10942",
   "metadata": {
    "execution": {
     "iopub.execute_input": "2022-12-21T14:11:24.835460Z",
     "iopub.status.busy": "2022-12-21T14:11:24.834692Z",
     "iopub.status.idle": "2022-12-21T14:12:11.896758Z",
     "shell.execute_reply": "2022-12-21T14:12:11.895395Z"
    },
    "papermill": {
     "duration": 47.073095,
     "end_time": "2022-12-21T14:12:11.900026",
     "exception": false,
     "start_time": "2022-12-21T14:11:24.826931",
     "status": "completed"
    },
    "tags": []
   },
   "outputs": [
    {
     "name": "stdout",
     "output_type": "stream",
     "text": [
      "Collecting twint\r\n",
      "  Downloading twint-2.1.20.tar.gz (31 kB)\r\n",
      "  Preparing metadata (setup.py) ... \u001b[?25l-\b \bdone\r\n",
      "\u001b[?25hRequirement already satisfied: aiohttp in /opt/conda/lib/python3.7/site-packages (from twint) (3.8.1)\r\n",
      "Collecting aiodns\r\n",
      "  Downloading aiodns-3.0.0-py3-none-any.whl (5.0 kB)\r\n",
      "Requirement already satisfied: beautifulsoup4 in /opt/conda/lib/python3.7/site-packages (from twint) (4.11.1)\r\n",
      "Collecting cchardet\r\n",
      "  Downloading cchardet-2.1.7-cp37-cp37m-manylinux2010_x86_64.whl (263 kB)\r\n",
      "\u001b[2K     \u001b[90m━━━━━━━━━━━━━━━━━━━━━━━━━━━━━━━━━━━━━━━\u001b[0m \u001b[32m263.7/263.7 kB\u001b[0m \u001b[31m2.0 MB/s\u001b[0m eta \u001b[36m0:00:00\u001b[0m\r\n",
      "\u001b[?25hCollecting elasticsearch\r\n",
      "  Downloading elasticsearch-8.5.3-py3-none-any.whl (385 kB)\r\n",
      "\u001b[2K     \u001b[90m━━━━━━━━━━━━━━━━━━━━━━━━━━━━━━━━━━━━━━━\u001b[0m \u001b[32m385.3/385.3 kB\u001b[0m \u001b[31m5.8 MB/s\u001b[0m eta \u001b[36m0:00:00\u001b[0m\r\n",
      "\u001b[?25hRequirement already satisfied: pysocks in /opt/conda/lib/python3.7/site-packages (from twint) (1.7.1)\r\n",
      "Requirement already satisfied: pandas in /opt/conda/lib/python3.7/site-packages (from twint) (1.3.5)\r\n",
      "Collecting aiohttp_socks\r\n",
      "  Downloading aiohttp_socks-0.7.1-py3-none-any.whl (9.3 kB)\r\n",
      "Collecting schedule\r\n",
      "  Downloading schedule-1.1.0-py2.py3-none-any.whl (10 kB)\r\n",
      "Requirement already satisfied: geopy in /opt/conda/lib/python3.7/site-packages (from twint) (2.2.0)\r\n",
      "Collecting fake-useragent\r\n",
      "  Downloading fake_useragent-1.1.1-py3-none-any.whl (50 kB)\r\n",
      "\u001b[2K     \u001b[90m━━━━━━━━━━━━━━━━━━━━━━━━━━━━━━━━━━━━━━━━\u001b[0m \u001b[32m50.4/50.4 kB\u001b[0m \u001b[31m4.2 MB/s\u001b[0m eta \u001b[36m0:00:00\u001b[0m\r\n",
      "\u001b[?25hCollecting googletransx\r\n",
      "  Downloading googletransx-2.4.2.tar.gz (13 kB)\r\n",
      "  Preparing metadata (setup.py) ... \u001b[?25l-\b \bdone\r\n",
      "\u001b[?25hCollecting pycares>=4.0.0\r\n",
      "  Downloading pycares-4.3.0-cp37-cp37m-manylinux_2_17_x86_64.manylinux2014_x86_64.whl (288 kB)\r\n",
      "\u001b[2K     \u001b[90m━━━━━━━━━━━━━━━━━━━━━━━━━━━━━━━━━━━━━━\u001b[0m \u001b[32m288.1/288.1 kB\u001b[0m \u001b[31m17.6 MB/s\u001b[0m eta \u001b[36m0:00:00\u001b[0m\r\n",
      "\u001b[?25hRequirement already satisfied: typing-extensions>=3.7.4 in /opt/conda/lib/python3.7/site-packages (from aiohttp->twint) (4.4.0)\r\n",
      "Requirement already satisfied: multidict<7.0,>=4.5 in /opt/conda/lib/python3.7/site-packages (from aiohttp->twint) (6.0.2)\r\n",
      "Requirement already satisfied: frozenlist>=1.1.1 in /opt/conda/lib/python3.7/site-packages (from aiohttp->twint) (1.3.0)\r\n",
      "Requirement already satisfied: aiosignal>=1.1.2 in /opt/conda/lib/python3.7/site-packages (from aiohttp->twint) (1.2.0)\r\n",
      "Requirement already satisfied: charset-normalizer<3.0,>=2.0 in /opt/conda/lib/python3.7/site-packages (from aiohttp->twint) (2.1.0)\r\n",
      "Requirement already satisfied: attrs>=17.3.0 in /opt/conda/lib/python3.7/site-packages (from aiohttp->twint) (21.4.0)\r\n",
      "Requirement already satisfied: yarl<2.0,>=1.0 in /opt/conda/lib/python3.7/site-packages (from aiohttp->twint) (1.7.2)\r\n",
      "Requirement already satisfied: asynctest==0.13.0 in /opt/conda/lib/python3.7/site-packages (from aiohttp->twint) (0.13.0)\r\n",
      "Requirement already satisfied: async-timeout<5.0,>=4.0.0a3 in /opt/conda/lib/python3.7/site-packages (from aiohttp->twint) (4.0.2)\r\n",
      "Collecting python-socks[asyncio]<3.0.0,>=2.0.0\r\n",
      "  Downloading python_socks-2.1.1-py3-none-any.whl (49 kB)\r\n",
      "\u001b[2K     \u001b[90m━━━━━━━━━━━━━━━━━━━━━━━━━━━━━━━━━━━━━━━━\u001b[0m \u001b[32m49.7/49.7 kB\u001b[0m \u001b[31m3.9 MB/s\u001b[0m eta \u001b[36m0:00:00\u001b[0m\r\n",
      "\u001b[?25hRequirement already satisfied: soupsieve>1.2 in /opt/conda/lib/python3.7/site-packages (from beautifulsoup4->twint) (2.3.1)\r\n",
      "Collecting elastic-transport<9,>=8\r\n",
      "  Downloading elastic_transport-8.4.0-py3-none-any.whl (59 kB)\r\n",
      "\u001b[2K     \u001b[90m━━━━━━━━━━━━━━━━━━━━━━━━━━━━━━━━━━━━━━━━\u001b[0m \u001b[32m59.5/59.5 kB\u001b[0m \u001b[31m4.8 MB/s\u001b[0m eta \u001b[36m0:00:00\u001b[0m\r\n",
      "\u001b[?25hRequirement already satisfied: importlib-metadata~=4.0 in /opt/conda/lib/python3.7/site-packages (from fake-useragent->twint) (4.13.0)\r\n",
      "Requirement already satisfied: importlib-resources>=5.0 in /opt/conda/lib/python3.7/site-packages (from fake-useragent->twint) (5.8.0)\r\n",
      "Requirement already satisfied: geographiclib<2,>=1.49 in /opt/conda/lib/python3.7/site-packages (from geopy->twint) (1.52)\r\n",
      "Requirement already satisfied: requests in /opt/conda/lib/python3.7/site-packages (from googletransx->twint) (2.28.1)\r\n",
      "Requirement already satisfied: python-dateutil>=2.7.3 in /opt/conda/lib/python3.7/site-packages (from pandas->twint) (2.8.2)\r\n",
      "Requirement already satisfied: pytz>=2017.3 in /opt/conda/lib/python3.7/site-packages (from pandas->twint) (2022.1)\r\n",
      "Requirement already satisfied: numpy>=1.17.3 in /opt/conda/lib/python3.7/site-packages (from pandas->twint) (1.21.6)\r\n",
      "Requirement already satisfied: urllib3<2,>=1.26.2 in /opt/conda/lib/python3.7/site-packages (from elastic-transport<9,>=8->elasticsearch->twint) (1.26.12)\r\n",
      "Requirement already satisfied: certifi in /opt/conda/lib/python3.7/site-packages (from elastic-transport<9,>=8->elasticsearch->twint) (2022.9.24)\r\n",
      "Requirement already satisfied: zipp>=0.5 in /opt/conda/lib/python3.7/site-packages (from importlib-metadata~=4.0->fake-useragent->twint) (3.8.0)\r\n",
      "Requirement already satisfied: cffi>=1.5.0 in /opt/conda/lib/python3.7/site-packages (from pycares>=4.0.0->aiodns->twint) (1.15.0)\r\n",
      "Requirement already satisfied: six>=1.5 in /opt/conda/lib/python3.7/site-packages (from python-dateutil>=2.7.3->pandas->twint) (1.15.0)\r\n",
      "Requirement already satisfied: idna>=2.0 in /opt/conda/lib/python3.7/site-packages (from yarl<2.0,>=1.0->aiohttp->twint) (3.3)\r\n",
      "Requirement already satisfied: pycparser in /opt/conda/lib/python3.7/site-packages (from cffi>=1.5.0->pycares>=4.0.0->aiodns->twint) (2.21)\r\n",
      "Building wheels for collected packages: twint, googletransx\r\n",
      "  Building wheel for twint (setup.py) ... \u001b[?25l-\b \b\\\b \bdone\r\n",
      "\u001b[?25h  Created wheel for twint: filename=twint-2.1.20-py3-none-any.whl size=33929 sha256=8b4c44051d8875bdd0b87eb9dfc7e4f7dd1d5926347c0a09f36c27314d11cd36\r\n",
      "  Stored in directory: /root/.cache/pip/wheels/44/fc/77/99887a36b5c265a87516158858697d1a0b8f32c4d4dbddbb24\r\n",
      "  Building wheel for googletransx (setup.py) ... \u001b[?25l-\b \b\\\b \bdone\r\n",
      "\u001b[?25h  Created wheel for googletransx: filename=googletransx-2.4.2-py3-none-any.whl size=15968 sha256=365c4fe35a77bd333ebdc952564823be1593e25b4d345aa0dd1ed598d43edf48\r\n",
      "  Stored in directory: /root/.cache/pip/wheels/66/d5/b1/31104b338f7fd45aa8f7d22587765db06773b13df48a89735f\r\n",
      "Successfully built twint googletransx\r\n",
      "Installing collected packages: python-socks, cchardet, schedule, elastic-transport, pycares, googletransx, fake-useragent, elasticsearch, aiohttp_socks, aiodns, twint\r\n",
      "Successfully installed aiodns-3.0.0 aiohttp_socks-0.7.1 cchardet-2.1.7 elastic-transport-8.4.0 elasticsearch-8.5.3 fake-useragent-1.1.1 googletransx-2.4.2 pycares-4.3.0 python-socks-2.1.1 schedule-1.1.0 twint-2.1.20\r\n",
      "\u001b[33mWARNING: Running pip as the 'root' user can result in broken permissions and conflicting behaviour with the system package manager. It is recommended to use a virtual environment instead: https://pip.pypa.io/warnings/venv\u001b[0m\u001b[33m\r\n",
      "\u001b[0mCollecting twint\r\n",
      "  Cloning https://github.com/twintproject/twint.git (to revision origin/master) to /tmp/pip-install-1jizao4i/twint_41596c06f8e14a8caa8f436d7d11c571\r\n",
      "  Running command git clone --filter=blob:none --quiet https://github.com/twintproject/twint.git /tmp/pip-install-1jizao4i/twint_41596c06f8e14a8caa8f436d7d11c571\r\n",
      "\u001b[33m  WARNING: Did not find branch or tag 'origin/master', assuming revision or ref.\u001b[0m\u001b[33m\r\n",
      "\u001b[0m  Running command git checkout -q origin/master\r\n",
      "  Resolved https://github.com/twintproject/twint.git to commit origin/master\r\n",
      "  Preparing metadata (setup.py) ... \u001b[?25l-\b \bdone\r\n",
      "\u001b[?25hRequirement already satisfied: aiohttp in /opt/conda/lib/python3.7/site-packages (from twint) (3.8.1)\r\n",
      "Requirement already satisfied: aiodns in /opt/conda/lib/python3.7/site-packages (from twint) (3.0.0)\r\n",
      "Requirement already satisfied: beautifulsoup4 in /opt/conda/lib/python3.7/site-packages (from twint) (4.11.1)\r\n",
      "Requirement already satisfied: cchardet in /opt/conda/lib/python3.7/site-packages (from twint) (2.1.7)\r\n",
      "Requirement already satisfied: dataclasses in /opt/conda/lib/python3.7/site-packages (from twint) (0.8)\r\n",
      "Requirement already satisfied: elasticsearch in /opt/conda/lib/python3.7/site-packages (from twint) (8.5.3)\r\n",
      "Requirement already satisfied: pysocks in /opt/conda/lib/python3.7/site-packages (from twint) (1.7.1)\r\n",
      "Requirement already satisfied: pandas in /opt/conda/lib/python3.7/site-packages (from twint) (1.3.5)\r\n",
      "Requirement already satisfied: aiohttp_socks in /opt/conda/lib/python3.7/site-packages (from twint) (0.7.1)\r\n",
      "Requirement already satisfied: schedule in /opt/conda/lib/python3.7/site-packages (from twint) (1.1.0)\r\n",
      "Requirement already satisfied: geopy in /opt/conda/lib/python3.7/site-packages (from twint) (2.2.0)\r\n",
      "Requirement already satisfied: fake-useragent in /opt/conda/lib/python3.7/site-packages (from twint) (1.1.1)\r\n",
      "Requirement already satisfied: googletransx in /opt/conda/lib/python3.7/site-packages (from twint) (2.4.2)\r\n",
      "Requirement already satisfied: pycares>=4.0.0 in /opt/conda/lib/python3.7/site-packages (from aiodns->twint) (4.3.0)\r\n",
      "Requirement already satisfied: attrs>=17.3.0 in /opt/conda/lib/python3.7/site-packages (from aiohttp->twint) (21.4.0)\r\n",
      "Requirement already satisfied: frozenlist>=1.1.1 in /opt/conda/lib/python3.7/site-packages (from aiohttp->twint) (1.3.0)\r\n",
      "Requirement already satisfied: async-timeout<5.0,>=4.0.0a3 in /opt/conda/lib/python3.7/site-packages (from aiohttp->twint) (4.0.2)\r\n",
      "Requirement already satisfied: yarl<2.0,>=1.0 in /opt/conda/lib/python3.7/site-packages (from aiohttp->twint) (1.7.2)\r\n",
      "Requirement already satisfied: charset-normalizer<3.0,>=2.0 in /opt/conda/lib/python3.7/site-packages (from aiohttp->twint) (2.1.0)\r\n",
      "Requirement already satisfied: multidict<7.0,>=4.5 in /opt/conda/lib/python3.7/site-packages (from aiohttp->twint) (6.0.2)\r\n",
      "Requirement already satisfied: asynctest==0.13.0 in /opt/conda/lib/python3.7/site-packages (from aiohttp->twint) (0.13.0)\r\n",
      "Requirement already satisfied: typing-extensions>=3.7.4 in /opt/conda/lib/python3.7/site-packages (from aiohttp->twint) (4.4.0)\r\n",
      "Requirement already satisfied: aiosignal>=1.1.2 in /opt/conda/lib/python3.7/site-packages (from aiohttp->twint) (1.2.0)\r\n",
      "Requirement already satisfied: python-socks[asyncio]<3.0.0,>=2.0.0 in /opt/conda/lib/python3.7/site-packages (from aiohttp_socks->twint) (2.1.1)\r\n",
      "Requirement already satisfied: soupsieve>1.2 in /opt/conda/lib/python3.7/site-packages (from beautifulsoup4->twint) (2.3.1)\r\n",
      "Requirement already satisfied: elastic-transport<9,>=8 in /opt/conda/lib/python3.7/site-packages (from elasticsearch->twint) (8.4.0)\r\n",
      "Requirement already satisfied: importlib-resources>=5.0 in /opt/conda/lib/python3.7/site-packages (from fake-useragent->twint) (5.8.0)\r\n",
      "Requirement already satisfied: importlib-metadata~=4.0 in /opt/conda/lib/python3.7/site-packages (from fake-useragent->twint) (4.13.0)\r\n",
      "Requirement already satisfied: geographiclib<2,>=1.49 in /opt/conda/lib/python3.7/site-packages (from geopy->twint) (1.52)\r\n",
      "Requirement already satisfied: requests in /opt/conda/lib/python3.7/site-packages (from googletransx->twint) (2.28.1)\r\n",
      "Requirement already satisfied: python-dateutil>=2.7.3 in /opt/conda/lib/python3.7/site-packages (from pandas->twint) (2.8.2)\r\n",
      "Requirement already satisfied: pytz>=2017.3 in /opt/conda/lib/python3.7/site-packages (from pandas->twint) (2022.1)\r\n",
      "Requirement already satisfied: numpy>=1.17.3 in /opt/conda/lib/python3.7/site-packages (from pandas->twint) (1.21.6)\r\n",
      "Requirement already satisfied: certifi in /opt/conda/lib/python3.7/site-packages (from elastic-transport<9,>=8->elasticsearch->twint) (2022.9.24)\r\n",
      "Requirement already satisfied: urllib3<2,>=1.26.2 in /opt/conda/lib/python3.7/site-packages (from elastic-transport<9,>=8->elasticsearch->twint) (1.26.12)\r\n",
      "Requirement already satisfied: zipp>=0.5 in /opt/conda/lib/python3.7/site-packages (from importlib-metadata~=4.0->fake-useragent->twint) (3.8.0)\r\n",
      "Requirement already satisfied: cffi>=1.5.0 in /opt/conda/lib/python3.7/site-packages (from pycares>=4.0.0->aiodns->twint) (1.15.0)\r\n",
      "Requirement already satisfied: six>=1.5 in /opt/conda/lib/python3.7/site-packages (from python-dateutil>=2.7.3->pandas->twint) (1.15.0)\r\n",
      "Requirement already satisfied: idna>=2.0 in /opt/conda/lib/python3.7/site-packages (from yarl<2.0,>=1.0->aiohttp->twint) (3.3)\r\n",
      "Requirement already satisfied: pycparser in /opt/conda/lib/python3.7/site-packages (from cffi>=1.5.0->pycares>=4.0.0->aiodns->twint) (2.21)\r\n",
      "Building wheels for collected packages: twint\r\n",
      "  Building wheel for twint (setup.py) ... \u001b[?25l-\b \b\\\b \bdone\r\n",
      "\u001b[?25h  Created wheel for twint: filename=twint-2.1.21-py3-none-any.whl size=38871 sha256=da8b0ac9ec817bed0792060b1506ffcbd41163f497b04b136fcccbb435116698\r\n",
      "  Stored in directory: /tmp/pip-ephem-wheel-cache-4vpym6y4/wheels/8d/dc/9f/74b4483d5f997036f04aec7f42bd4b3c80f04264920c368068\r\n",
      "Successfully built twint\r\n",
      "Installing collected packages: twint\r\n",
      "  Attempting uninstall: twint\r\n",
      "    Found existing installation: twint 2.1.20\r\n",
      "    Uninstalling twint-2.1.20:\r\n",
      "      Successfully uninstalled twint-2.1.20\r\n",
      "Successfully installed twint-2.1.21\r\n",
      "\u001b[33mWARNING: Running pip as the 'root' user can result in broken permissions and conflicting behaviour with the system package manager. It is recommended to use a virtual environment instead: https://pip.pypa.io/warnings/venv\u001b[0m\u001b[33m\r\n",
      "\u001b[0mRequirement already satisfied: nest_asyncio in /opt/conda/lib/python3.7/site-packages (1.5.5)\r\n",
      "\u001b[33mWARNING: Running pip as the 'root' user can result in broken permissions and conflicting behaviour with the system package manager. It is recommended to use a virtual environment instead: https://pip.pypa.io/warnings/venv\u001b[0m\u001b[33m\r\n",
      "\u001b[0m"
     ]
    }
   ],
   "source": [
    "!pip install twint\n",
    "!pip install --upgrade git+https://github.com/twintproject/twint.git@origin/master#egg=twint\n",
    "#this prevents async problems/ runtime errors\n",
    "!pip install nest_asyncio"
   ]
  },
  {
   "cell_type": "markdown",
   "id": "582e8417",
   "metadata": {
    "papermill": {
     "duration": 0.009253,
     "end_time": "2022-12-21T14:12:11.919241",
     "exception": false,
     "start_time": "2022-12-21T14:12:11.909988",
     "status": "completed"
    },
    "tags": []
   },
   "source": [
    "### import required libraries"
   ]
  },
  {
   "cell_type": "code",
   "execution_count": 2,
   "id": "670d026c",
   "metadata": {
    "execution": {
     "iopub.execute_input": "2022-12-21T14:12:11.941791Z",
     "iopub.status.busy": "2022-12-21T14:12:11.940771Z",
     "iopub.status.idle": "2022-12-21T14:12:14.441227Z",
     "shell.execute_reply": "2022-12-21T14:12:14.440121Z"
    },
    "papermill": {
     "duration": 2.515377,
     "end_time": "2022-12-21T14:12:14.444427",
     "exception": false,
     "start_time": "2022-12-21T14:12:11.929050",
     "status": "completed"
    },
    "tags": []
   },
   "outputs": [],
   "source": [
    "import twint\n",
    "import nest_asyncio\n",
    "nest_asyncio.apply()\n",
    "import json\n",
    "import re\n",
    "from nltk import ngrams\n",
    "import csv\n",
    "import pandas as pd\n",
    "from sklearn.svm import SVC\n",
    "from sklearn.model_selection import train_test_split\n",
    "from sklearn.feature_extraction.text import CountVectorizer\n",
    "from sklearn.metrics import accuracy_score, classification_report, confusion_matrix, ConfusionMatrixDisplay\n",
    "from textblob import TextBlob\n",
    "import matplotlib.pyplot as plt\n",
    "import seaborn as sns; sns.set() # for plot styling"
   ]
  },
  {
   "cell_type": "markdown",
   "id": "dc52c212",
   "metadata": {
    "papermill": {
     "duration": 0.010013,
     "end_time": "2022-12-21T14:12:14.466935",
     "exception": false,
     "start_time": "2022-12-21T14:12:14.456922",
     "status": "completed"
    },
    "tags": []
   },
   "source": [
    "### Collection data\n",
    "Instantiate and configure the twint-object for get data from twitter.\n"
   ]
  },
  {
   "cell_type": "code",
   "execution_count": 3,
   "id": "4f134499",
   "metadata": {
    "_kg_hide-output": false,
    "execution": {
     "iopub.execute_input": "2022-12-21T14:12:14.489689Z",
     "iopub.status.busy": "2022-12-21T14:12:14.488808Z",
     "iopub.status.idle": "2022-12-21T14:12:20.938383Z",
     "shell.execute_reply": "2022-12-21T14:12:20.937024Z"
    },
    "papermill": {
     "duration": 6.464515,
     "end_time": "2022-12-21T14:12:20.941520",
     "exception": false,
     "start_time": "2022-12-21T14:12:14.477005",
     "status": "completed"
    },
    "tags": []
   },
   "outputs": [
    {
     "name": "stdout",
     "output_type": "stream",
     "text": [
      "1605561887231549440 2022-12-21 13:52:38 +0000 <gtravel001> #سياحة  Georgia Travels Tourism Company trips   for families, youth and grooms  ✔ driver with private cars  ✔ reception from Tbilisi airport tourist guide in Georgia 🇬🇪 WhatsApp📱 00995599997016 #جديد_المجد   #السياحة_العلاجية ✅ 🏥  #جورجيا  https://t.co/o8cKdGRjGZ\n",
      "1605555954879451137 2022-12-21 13:29:04 +0000 <_1llilo> #تبليسى #جورجيا #جورجيا_تبليسي #سياحة #عطلات #اجازة #سافر #رحلات_طوال_العام #رحلات #عوايل #عوائل #للحجز #عروض #السعودية #عدستى #قطر #الامارات #البحرين #عمان #باتومي #المسافرون_العرب #المسافرون #سياحةوسفر #جورجيا_بعيون_عربية #السياحة_في_جورجيا  https://t.co/dttQSNnRhF\n",
      "1605555710804123649 2022-12-21 13:28:05 +0000 <Formula_KSA> -  كمل فرحتك و #فورمولا ترتب رحلتك واحلى هدايا من فورمولا للعرسان 💜 🎁   ✈️🌍. ____  #formula_ksa  @formula_ksa  #باكجات_شهر_العسل_مع_فورمولا   #سياحة #سفر #شهرالعسل #سياحة_سفر #شهر_العسل #جزرالمالديف #المالديف #بالي #ماليزيا #البوسنة #تايلند #موريشيوس #سيشل  https://t.co/tKW4nSZeiL\n",
      "1605554857850675200 2022-12-21 13:24:42 +0000 <GooddReads> اماكن مجانية بالرياض او باسعار رمزية  #سياحة  https://t.co/w5gkJKfCPB\n",
      "1605548402304987143 2022-12-21 12:59:03 +0000 <_1llilo> تبليسى #جورجيا #جورجيا_تبليسي #سياحة #عطلات #اجازة #سافر #رحلات_طوال_العام #رحلات #عوائل #للحجز #عروض #السعودية #عدستى #قطر #الامارات #البحرين #عمان #باتومي #المسافرون_العرب #المسافرون #جورجيا_بعيون_عربية #جورجيا_كابيتال #السياحة_في_جورجيا  https://t.co/GdMiddME2t\n",
      "1605539377655922692 2022-12-21 12:23:11 +0000 <As0533416394> #سياحه #جورجيا #برجومي ❤️  https://t.co/65UYpRAlaD\n",
      "1605535865739939842 2022-12-21 12:09:14 +0000 <pro_travel1> هدايا للعرسان الجداد لأحلي #شهر_عسل في جورجيا رحلتك الي جورجيا معانا بأفضل ترتيب للبرنامج السياحي 00995596355000  #سياحة #سفر  https://t.co/BVOFvdcVZ6\n",
      "1605535236963672069 2022-12-21 12:06:44 +0000 <GardenPalmera> أبذر الخير تحت أي أرض🏜️ وتحت أي سماء🌦️ ومع أي أحد🌻  مساهمة حديقة النخلة في ملتقى العلوم الأول في ولاية محوت بمدرسة مديرة🌴🤍  #palmera_botanic_garden #حديقة_النخلة #بوشر #مدارس #رحلات #تعليم #وزارة_التربية_والتعليم #وزارة_التعليم_العالي #مدارس #مدرسة_مديرة #ملتقى_العلوم #سياحة  https://t.co/UV6pIWSw5V\n",
      "1605533831326482433 2022-12-21 12:01:09 +0000 <tourinlibya> جزيرة بسيس بمنطقة قماطة في ليبيا 🇱🇾  Bsis Island, Qamata region, Libya 🇱🇾  #ليبيا #libya #السياحة_في_ليبيا #سياحة #سفر #tourinlibya #tourisminlibya #toursim  https://t.co/uaYvdMEqap\n",
      "1605533304408592385 2022-12-21 11:59:03 +0000 <QalWQalt> Trip around  Georgia!!!  What app : 00995514205050 ✔ Car With Driver  ✔apartment Rent  ✔ flats Reserve  ✔hotels #سياحة #سفر #سياحة_في_جورجيا  https://t.co/9vnRD1sNHC\n",
      "1605531281579704320 2022-12-21 11:51:01 +0000 <ATrabzn> فندق وأجنحة مارينا قرين #طرابزون قريب من كل الخدمات المطار والمول وطريق #اوزنجول  اسعار خياليه في موسم الشتاء #سياحة #تركيا #اسطنبول #رأس_السنة  https://t.co/GyM73g8tyd\n",
      "1605531014733758467 2022-12-21 11:49:57 +0000 <ATrabzn> فندق وأجنحة مارينا قرين #طرابزون قريب من كل الخدمات المطار والمول وطريق #اوزنجول  اسعار خياليه في موسم الشتاء #سياحة #تركيا #اسطنبول #رأس_السنة  https://t.co/1GVWa6Pnwi\n",
      "1605525185095794690 2022-12-21 11:26:47 +0000 <EldoniaShoof> نخدمكم بأعيننا ✈️  https://t.co/cYQjYVQ35d #سفر  #سياحة #شهر_العسل  https://t.co/WzVzcnewOX\n",
      "1605523278746877954 2022-12-21 11:19:13 +0000 <QalWQalt> 🔴✈️Trip around #Georgia!!!  🔴📞Whats app : 00995514205050  🔴🚗Car With Driver  🔴🏢 Rent flats &amp;amp; Reserve hotels  🔴💲Cheapest Service #سياحة_في_جورجيا #تبليسي #باتومي #المسافرون_العرب #سياحة #عروض_سياحية  #السياحة #الامارات #جورجيا  https://t.co/PuD1ltis8F\n",
      "1605523265488769027 2022-12-21 11:19:10 +0000 <pro_travel1> اسال عن عروض السياحة فى جورجيا 00995596355000 واتس اب #سياحة #سفر  https://t.co/i2HFibRv9q\n",
      "1605523239958040580 2022-12-21 11:19:04 +0000 <QalWQalt> افضل #سياحة عائلية في اذربيجان واتساب: 00994508225050  https://t.co/1u7FeZlFmx\n",
      "1605522005016526848 2022-12-21 11:14:09 +0000 <mercurejeddah> #mercurehotels #jeddah #travel  #vacation #jeddahwaterfront #jeddahhotels #jeddahseason #familyholiday #mercure #mercurehotel #travelblogger #jeddah_ksa #travelblogs #جدة #فنادق #سفر #سياحة #مركيور_جده_الحمراء #مركيور  #واجهة_جدة_البحرية #موسم_جدة #الكورنيش #الواجهة_البحرية\n",
      "1605520499718574081 2022-12-21 11:08:10 +0000 <ger_capital> أستمتع بأحلي الأماكن لل السياحة في جورجيا مع جورجيا كابيتال هتزور أحلي الاماكن للاستفسار: 00995514205050 #سياحة #دبي  https://t.co/8ZMm4SrBFw\n",
      "1605515237850877954 2022-12-21 10:47:16 +0000 <ATrabzn> #trabzon #طرابزون #اوزونجول #uzungol #تركيا #سياحة #حجوزات  https://t.co/aOmZ0YQtVv\n",
      "1605512426996146176 2022-12-21 10:36:06 +0000 <_1llilo> 🔴✈️Trip around #Georgia!!!  🔴📞What&amp;rsquo;s app : 00995596366000  🔴🚗Car With Driver  🔴🏢 Rent flats &amp;amp; Reserve hotels  🔴💲Cheapest Service #hash   #سياحة_في_جورجيا #تبليسي #باتومي #المسافرون_العرب #سياحة #عروض_سياحية  https://t.co/CpD5g1H1Nd\n",
      "1605506197947265025 2022-12-21 10:11:21 +0000 <china_travel1> فندق دالي سونغيون بانشان  مدينة دالي مقاطعة #يونان   بحير ارهاي   ما فية وقت #الصين   #السعودية #سياحة  @saudiinchinacom  https://t.co/Faytp52IZO\n",
      "1605504739201777664 2022-12-21 10:05:33 +0000 <nile_air> fly to discover the most beautiful views 🤩✈  #NileAir #Plane #family #Travel #tourist #egypt #holiday #سفر #سياحة  https://t.co/ATeQW8qhvL\n",
      "1605503352095363072 2022-12-21 10:00:02 +0000 <jakskysa> …  A natural wonder in the South of Turkey.   استمتع بواحدة من أجمل العجائب الطبيعية في تركيا.  #jaksky #Travel #Travelling #hotels #vacation #booking  #السفر #سفر #فنادق #إجازة #حجوزات #سياحة\n",
      "1605500900016934912 2022-12-21 09:50:17 +0000 <TheClockTowers> تمتع بأجنحة قصر مكة رافلز - أبراج الساعة.  Enjoy the Raffles Makkah Palace suites - The Clock Towers.  #مكة #مكة_المكرمة #فندق #فنادق #سياحة #Makkah #Hotel #Hotels #Tourism  https://t.co/RJqtVX6mvW\n",
      "1605495045477371905 2022-12-21 09:27:02 +0000 <thailand_lover> وزارة الفنون الجميلة في #تايلاند ، تعلن عن منح الجمهور هدية رأس السنة الجديدة ، بالدخول المجاني للمتاحف الوطنية والمتنزهات التاريخية في جميع أنحاء المملكة من 30 ديسمبر إلى 2 يناير. #تايلند #سفر #سياحة #طيران #بانكوك #بوكيت #بتايا #السعودية #thailand #travel  https://t.co/3jSyTMdLxH\n",
      "1605493404967661569 2022-12-21 09:20:31 +0000 <Albaraa_369> ودي الف الكرة الارضية  وما خلي بلد ما اروح لها #سفر #سياحة\n",
      "1605492017512861696 2022-12-21 09:15:00 +0000 <RwdSl> أفضل العروض السياحية إلى تايلاند من جراند أوشن للسفر والسياحة :  افضل فنادق في تايلاند🏨  افضل منتجعات في تايلاند⛺  شركة سياحية تايلاند💦  الأماكن السياحية في تايلاند⛩  جراند أوشن رفيقك في السفر . . . . . . .❣ #سياحة #سفر #رحلات  https://t.co/DqCWX0fJuG\n",
      "1605489538863857664 2022-12-21 09:05:09 +0000 <ajwaaAlraha> #تركيا راح تحكيلك عن جمالها برحلة مع أجواء الراحة 🇹🇷🇹🇷  بورصة - اسطنبول   🗓️ 7 أيام و 6 ليالي  يشمل الآتي: ✔️ الاستقبال في المطار ✔️ التذاكر الداخلية ✔️ فنادق 4 نجوم ✔️ الجولات السياحية بسيارة خاصة ✔️ وجبات الإفطار ✔️ رسوم الضرائب والخدمات المقدمة  #اجواء_الراحة #سياحة  https://t.co/PQoPr7lAaB\n",
      "1605487500914356224 2022-12-21 08:57:03 +0000 <QalWQalt> السياحة في دولة جورجيا  أفضل العروض بأفضل ألأسعار مع جورجيا كابيتال  واتساب:  https://t.co/ySIIh2izkK #سياحة #سفر  https://t.co/cJGfYoGj7Z\n",
      "1605477461969379328 2022-12-21 08:17:09 +0000 <saharjawhari> مدينة ترير الواقعة على ضفاف موسيل في غرب ولاية راينلاند بالاتينات الألمانية، بالقرب من الحدود مع لوكسمبورغ #سياحة  https://t.co/q4yD7vaGw9\n",
      "1605476763664252928 2022-12-21 08:14:23 +0000 <thailand_lover> ابدت شركة الطيران الاقتصادي Thai AirAsia ثقتها من استمرار تحسن اداءها العام المقبل بسبب زيادة عدد الوافدين الأجانب الى #تايلاند ، وإمكانية تخفيف الصين لقواعد السفر الخاصة بها. #تايلند #سفر #سياحة #طيران #بانكوك #بوكيت #بتايا #السعودية #thailand #travel  https://t.co/6LwEL4xLMB\n",
      "1605474907411791873 2022-12-21 08:07:00 +0000 <thailand_lover> أطلقت شركة طيران السلام العمانية ، خط مباشر لثلاث رحلات أسبوعياً ، من مسقط إلى بانكوك ،وتعتبر الوجهة ا الثانية لها في #تايلاند بعد بوكيت. #تايلند #سفر #سياحة #طيران #بانكوك #بوكيت #بتايا #السعودية #thailand #travel  https://t.co/kp6vnOO56R\n",
      "1605472549453942785 2022-12-21 07:57:38 +0000 <MaraMearry> #جزيرة_قيلي_آير 🏖 في #إندونيسيا 🇮🇩  جزيرة جمالها ساحر وهادئه 🥰 سكانها مسلمين فنادقها رخيصه تتميّز بالـ الشواطئ ذات الرمال البيضاء والمياه الفيروزية 💦 بمجرد التجول بداخلها .. #سياحة 👌 إستأجرت دباب كهربائي 🛵  من سكان الجزيرة 👨‍🌾🙏🏻  https://t.co/LKuJO8vJpc\n",
      "1605468628664479744 2022-12-21 07:42:03 +0000 <_1llilo> السياحة في جورجيا  هنساعدك في توفير أحسن برنامج سياحي لك.  للتواصل واتساب: 00995596366000  معانا السياحة راحة #سياحة #سفر  https://t.co/bAX7EKpO1V\n",
      "1605468222676836359 2022-12-21 07:40:27 +0000 <e_tourr> ساحة أوروبا | Europe Square في باتومي #جورجيا #سياحة #سفر #تبليسي #باتومي #عروض #سياحية #etour #fyp #اكسبلور  https://t.co/bhvIeXRTLh\n",
      "1605463343283638272 2022-12-21 07:21:03 +0000 <ger_capital> رحلة الي جورجيا  احجز رحلتك معنا وأحصل علي تأمين السفر وشرايح انترنت مجانااااااا  للحجز او التواصل كلمنا واتساب على 00995514205050 تبليسى #جورجيا #جورجيا_تبليسي #سياحة #عطلات #اجازة #سافر  https://t.co/b1q5sH9jbq\n",
      "1605457056302891008 2022-12-21 06:56:04 +0000 <Nermeenayman__> الحناء: تساعد في إزالة الإصابات الفطريه في أصابع القدم، وتساعد ايضا في تقوية أظافر اليدين #سياحة #سفر\n",
      "1605452771800408064 2022-12-21 06:39:03 +0000 <QalWQalt> سياحة في جورجيا  رحلات سياحية للعوائل والأفراد -  تأجير سيارات خاصة  واتساب  https://t.co/ySIIh2izkK #سياحة #سفر  https://t.co/zrfnWOGUtR\n",
      "1605451768023830528 2022-12-21 06:35:04 +0000 <_1llilo> #تبليسى #جورجيا #جورجيا_تبليسي #سياحة #عطلات #اجازة #سافر #رحلات_طوال_العام #رحلات #عوايل #عوائل #للحجز #عروض #السعودية #عدستى #قطر #الامارات #البحرين #عمان #باتومي #المسافرون_العرب #المسافرون #سياحةوسفر #جورجيا_بعيون_عربية #السياحة_في_جورجيا  https://t.co/MTDCw9muLi\n",
      "1605451517950955521 2022-12-21 06:34:04 +0000 <ger_capital> السياحة في دولة جورجيا  أفضل العروض بأفضل ألأسعار مع جورجيا كابيتال  واتساب: 00995514205050 تبليسى #جورجيا #جورجيا_تبليسي #سياحة #عطلات #اجازة #سافر #رحلات_طوال_العام  https://t.co/QUwrHRz93w\n",
      "1605450164260454400 2022-12-21 06:28:41 +0000 <travelzad> قشتاد Gstaad والسكن في أحد اكواخها  https://t.co/VHPclZmVs0 #قشتاد #سكن #شقق #فنادق #عطلات #رحلات #سياحة #سويسرا #اوروبا #زاد_المسافر  https://t.co/S4yYLjjwy7\n",
      "1605444222051438595 2022-12-21 06:05:04 +0000 <_1llilo> تبليسى #جورجيا #جورجيا_تبليسي #سياحة #عطلات #اجازة #سافر #رحلات_طوال_العام #رحلات #عوائل #للحجز #عروض #السعودية #عدستى #قطر #الامارات #البحرين #عمان #باتومي #المسافرون_العرب #المسافرون #جورجيا_بعيون_عربية #جورجيا_كابيتال #السياحة_في_جورجيا  https://t.co/Y3TjVWiSV6\n",
      "1605440448650104832 2022-12-21 05:50:05 +0000 <QalWQalt> Trip around  Georgia!!!  What app : 00995514205050 ✔ Car With Driver  ✔apartment Rent  ✔ flats Reserve  ✔hotels #سياحة #سفر #اذربيجان #جورجيا  https://t.co/oNax7ig8MX\n",
      "1605439941332197377 2022-12-21 05:48:04 +0000 <QalWQalt> افضل #سياحة عائلية في اذربيجان واتساب: 00994508225050  https://t.co/pk3cEyUIu1\n",
      "1605435398309789696 2022-12-21 05:30:01 +0000 <Onism_sa> صباح الخير احوال الطقس في اثينا (اليونان ) على مدار السنة  #اثينا #اليونان #سياحة #سفر #onism  https://t.co/zCv7Mm2pFH\n",
      "1605432651224997888 2022-12-21 05:19:06 +0000 <genaby_el> السياحة في جورجيا و اذربيجان  اهم الاماكن السياحية المناسبة للعائلة او الشباب اتصل علي :00995558206060  #سياحة #دبي  https://t.co/nJtlGIkoJa\n",
      "1605431389079248898 2022-12-21 05:14:05 +0000 <QalWQalt> 🔴✈️Trip around #Georgia!!!  🔴📞Whats app : 00995514205050  🔴🚗Car With Driver  🔴🏢 Rent flats &amp;amp; Reserve hotels  🔴💲Cheapest Service #سياحة_في_جورجيا #تبليسي #باتومي #المسافرون_العرب #سياحة #عروض_سياحية  #عروض_سياحية  https://t.co/rv0wSfkWiu\n",
      "1605427923934134273 2022-12-21 05:00:19 +0000 <qatalkstourism> صباح الخير من #دوحة_الخير 💐 🇶🇦  #سوق_واقف حيث الانسجام مع أصالة الماضي وعراقة الحاضر😍  #تميم_المجد #qatar_talks_tourism #قطر2022 #الدوحة #السياحة_في_قطر #سياحة #قطر_تبدع  https://t.co/GehGwmWQSF\n",
      "1605427847731892226 2022-12-21 05:00:00 +0000 <safaraqtourism> أفضل الأوقات لزيارة مدينة أنطاليا التركية   قد يظن البعض أن السياحة في مدينة أنطاليا فيها مقتصرة على الربيع أو الصيف؛ ولكن الحقيقة أن هذه المدينة تستقبل السياح طوال العام، لنتعرف على أفضل الأوقات لزياراتها من المقال:   https://t.co/aYP9eIgChd #انطاليا #سياحة #تركيا  https://t.co/88wE8aMv94\n",
      "1605419890277355520 2022-12-21 04:28:23 +0000 <geo_travels1> &amp;rlm;✈️Trip around #georgia🇬🇪 🔴📞Whatsapp : 00995558205050 🔴🚗 Rent Car With driver 🔴🏢 Rent flats &amp;amp; hotels 🔴💲Cheapest Service #جورجيا #تبليسي #باتومي #جبال_قوقاز #سياحة #سعوديه #رياض #الامارات #قطر #الكويت #الخليج  https://t.co/gvBI8R393p\n",
      "1605416781610467328 2022-12-21 04:16:02 +0000 <Elaph> #بريطانيا #لبنان #أدب #سياحة #مكتبة_الساقي   https://t.co/MYgGteatXE\n",
      "1605407753131941890 2022-12-21 03:40:10 +0000 <gtravel001> #سياحة  🔹Tours all around Georgia 🇬🇪🇬🇪🇬🇪  🔹English Speaking Guides   🔹Hotels/Apartments Reservation 🏠🏢  🔹Cheapest Tours  🔹Tours 📞 WhatsApp:  https://t.co/3VcX0djYoW  #جورجيا  https://t.co/1RNsZDtzc5\n",
      "1605407233944129536 2022-12-21 03:38:06 +0000 <_1llilo> 🔴✈️Trip around #Georgia!!!  🔴📞What&amp;rsquo;s app : 00995596366000  🔴🚗Car With Driver  🔴🏢 Rent flats &amp;amp; Reserve hotels  🔴💲Cheapest Service #hash   #سياحة_في_جورجيا #تبليسي #باتومي #المسافرون_العرب #سياحة #عروض_سياحية  https://t.co/LaeifVRBax\n",
      "1605386108749037568 2022-12-21 02:14:09 +0000 <QalWQalt> السياحة في #أذربيجان ,  خصومات خاصة للأعداد الكبيرة,   وخصومات خاصة للشركات للاستفسار: 00994508225050  #سياحة #دبي  https://t.co/j26bdNKMCL\n",
      "1605380457205739522 2022-12-21 01:51:42 +0000 <HalaArmenia> الضباب يضفي مزيداً من السحر لمساءات #أرمينيا. Charming mood in #yerevan tonight #يريفان #سياحة #وجهات_دبي #سفر #visitarmenia #visitsaudi  https://t.co/Eefsr4O32j\n",
      "1605378052006952960 2022-12-21 01:42:08 +0000 <ger_capital> جورجيا أحجز معانا رحلة ألي جورجيا  وأحصل علي تأمين السفر مجانا  للاستفسار واتساب:  https://t.co/9AVhYLOtY0 #سياحة #دبي  https://t.co/wp45bsuzUA\n",
      "1605375528369807361 2022-12-21 01:32:07 +0000 <gtravel001> جورجيا Tourist packages for honeymoon and families  # Georgia   Travel to Georgia  Airlines Drivers Tourist tours  Travel from Saudi Arabia  واتساب .. 📱&gt;&gt;  00995597266688  #سياحة  https://t.co/taPKjsps6k\n",
      "1605370480038318080 2022-12-21 01:12:03 +0000 <pro_travel1> مكتب سياحي رسمي في دولة جورجيا (تبليسي) رحلات سياحية للعوائل والأفراد - تأجير سيارات خاصة 00995596355000 واتساب  #سياحة #دبي  https://t.co/GFLGByRswm\n",
      "1605367144094597121 2022-12-21 00:58:48 +0000 <gtravel001> #سياحة  ✅Tours all over Georgia  ✅Private Cars 🚗   ✅ Hotels/Apartments Reservation 📞 WhatsApp:  https://t.co/3VcX0djYoW  #جورجيا  https://t.co/LOwJTUMw3W\n",
      "1605356263616835584 2022-12-21 00:15:33 +0000 <HalaArmenia> لا شيء يضاهي متعة فطور صباحي #عربي مع صوت #فيروز في أجواء #يريفان الباردة   #visitarmenia #أرمينيا #yerevanarmenia #yerevanfood #yerevancity #yerevanrestaurants #سياحة #سفر #Armenia #armeniatour  https://t.co/xYSeJ1Fvk7\n",
      "1605355380711690240 2022-12-21 00:12:03 +0000 <QalWQalt> افضل #سياحة عائلية في اذربيجان واتساب: 00994508225050  https://t.co/vjg82XEBn1\n",
      "1605349092112011264 2022-12-20 23:47:04 +0000 <QalWQalt> Trip around  Georgia!!!  What app : 00995514205050 ✔ Car With Driver  ✔apartment Rent  ✔ flats Reserve  ✔hotels #سياحة #سفر #سياحة_في_جورجيا  https://t.co/YOUyO1zq5L\n",
      "1605348849949626368 2022-12-20 23:46:06 +0000 <QalWQalt> احجز معانا رحلة الي جورجيا وأحصل علي شرايح جوال و تأمين سفر هدية لكل شخص  واتساب علي:  https://t.co/ySIIh2izkK #سياحة #سفر  https://t.co/SWHiQ2RClw\n",
      "1605344845739851777 2022-12-20 23:30:11 +0000 <_1llilo> #تبليسى #جورجيا #جورجيا_تبليسي #سياحة #عطلات #اجازة #سافر #رحلات_طوال_العام #رحلات #عوايل #عوائل #للحجز #عروض #السعودية #عدستى #قطر #الامارات #البحرين #عمان #باتومي #المسافرون_العرب #المسافرون #سياحةوسفر #جورجيا_بعيون_عربية #السياحة_في_جورجيا  https://t.co/qykRpDBx43\n",
      "1605341328191021056 2022-12-20 23:16:13 +0000 <QalWQalt> 🔴✈️Trip around #Georgia!!!  🔴📞Whats app : 00995514205050  🔴🚗Car With Driver  🔴🏢 Rent flats &amp;amp; Reserve hotels  🔴💲Cheapest Service #سياحة_في_جورجيا #تبليسي #باتومي #المسافرون_العرب #سياحة #عروض_سياحية  #سياحة #دبي  https://t.co/0oVN3pcyCN\n",
      "1605338018084032512 2022-12-20 23:03:03 +0000 <_1llilo> تبليسى #جورجيا #جورجيا_تبليسي #سياحة #عطلات #اجازة #سافر #رحلات_طوال_العام #رحلات #عوائل #للحجز #عروض #السعودية #عدستى #قطر #الامارات #البحرين #عمان #باتومي #المسافرون_العرب #المسافرون #جورجيا_بعيون_عربية #جورجيا_كابيتال #السياحة_في_جورجيا  https://t.co/yKE3tm0PO6\n",
      "1605336108417667072 2022-12-20 22:55:28 +0000 <LwiatUs> #سفر #سياحة #السياحة_في_جورجيا #عالم_الفخامة #المسافرون_العرب الطقس الان في جورجيا  https://t.co/8GEfXt06kz  https://t.co/mebLSM5QV4\n",
      "1605333050249707520 2022-12-20 22:43:19 +0000 <qadrygad2012> #السعودية #الرياض #محمد_عبلة  #سياحة #فن #السعودية #جوته #مصر #صباح_الخير_والسعاده #يحدث_الآن #السعودية_الآن  https://t.co/WfGNww2aQu\n",
      "1605332979336634368 2022-12-20 22:43:02 +0000 <pro_travel1> سياحة في جورجيا  خصومات خاصة للأعداد الكبيرة وخصومات خاصة للشركات وهدايا للعرسان الجداد لأحلي شهر عسل في جورجيا للأستفسار: 00995596355000  #سياحة #سفر  https://t.co/GVcBarK80k\n",
      "1605326738677972993 2022-12-20 22:18:14 +0000 <gtravel001> جورجيا Trip around  Georgia!!! What app :  ✔ Car With Driver  ✔apartment Rent  ✔ flats Reserve  ✔hotels  📞  https://t.co/blYcjG2i1a  #سياحة  https://t.co/MazOGywuOL\n",
      "1605326438533459970 2022-12-20 22:17:03 +0000 <DaniaHosny> 🔴✈️Trip around #Georgia!!!  🔴📞Whats app : 00995596355000 🔴🚗Car With Driver  🔴🏢 Rent flats &amp;amp; Reserve hotels  🔴💲Cheapest Service  #سياحة #دبي  https://t.co/tvHo3hLhoo\n",
      "1605321910044135424 2022-12-20 21:59:03 +0000 <_1llilo> Trip around  Georgia!!!  What app : 00995596366000 ✔ Car With Driver  ✔apartment Rent  ✔ flats Reserve  ✔hotels #سياحة #سفر  https://t.co/UoFkLyJaZh\n",
      "1605319745082753024 2022-12-20 21:50:27 +0000 <ger_capital> احجز معانا رحلة الي جورجيا وهديتك تأمين السفر مجانا واتساب علي:   https://t.co/9AVhYLOtY0 #سياحة #سفر  https://t.co/4s97159M57\n",
      "1605314863340720128 2022-12-20 21:31:03 +0000 <_1llilo> استمتع بخصومات ما قبل الصيف  مع بي ترند ترافيل برامج سياحية  : ✔ الاستقبال من وإلى المطار  ✔ الجولات  ✔ الإقامة الفندقية مع الإفطار واتساب: 00995596366000 #سياحة #سفر  https://t.co/xrYvh3SPpl\n",
      "1605312305696493568 2022-12-20 21:20:53 +0000 <Ama_ny69> #صورة  انه #شادى  هائما\" يعود بالتاريخ الاف السنين  ل يستوحى صورة  ملك كانوا يطلقون عليه اله انه يرسم من خياله الخصب ومن المعابد  الملك الاله    #اخناتون  #ترانيم  شادى عبد السلام  فصل مهم فى تاريخ مصر  وله نصف قلبى❤️ #سياحة  #مصر #Egypt #بقلمي  #Amy  https://t.co/Xw3FCNIKEc\n",
      "1605311708024737793 2022-12-20 21:18:31 +0000 <safari_news> هنا كل ماتريد معرفته عن مهرجان #دبي للتسوق وعروض التسوّق والفعاليات الترفيهية   https://t.co/cBOE2tbQyw  #سياحة  https://t.co/kRM3oZA570\n",
      "1605302535270502400 2022-12-20 20:42:04 +0000 <_1llilo> 🔴✈️Trip around #Georgia!!!  🔴📞What&amp;rsquo;s app : 00995596366000  🔴🚗Car With Driver  🔴🏢 Rent flats &amp;amp; Reserve hotels  🔴💲Cheapest Service #hash   #سياحة_في_جورجيا #تبليسي #باتومي #المسافرون_العرب #سياحة #عروض_سياحية  https://t.co/p9OjYcm31g\n",
      "1605299500540518400 2022-12-20 20:30:00 +0000 <alsumariatv> فريق عمل رحال بضيافة الشيخ عزيز البطاط في #قضاء_الزبير! شاهد حلقة #رحال كاملة على #السومرية:  https://t.co/5T5L79xbZV #علاء_بتي #سياحة #وثائقي #سياحة_في_العراق #العراق  https://t.co/FCuMzKbGTM\n",
      "1605291168857837570 2022-12-20 19:56:54 +0000 <ZoorAlNemsa> بحيرة آخن زيه Achensee في تيرول، المكان المثالي لعطلة تطغى عليها السكينة وراحة البال، ما رأيك بزيارتها؟  © IG: clickpix_eu #النمسا #بحيرة #تيرول #سياحة  https://t.co/lfRT5jyzv2\n",
      "1605288238071140373 2022-12-20 19:45:15 +0000 <CairotravelAt> من القهاوي المميزه في #القاهره  بوكا في المهندسين  اسبريسو لاب في مجمع 90 Point #قهوة كرمنا بشارع شهاب في المهندسين #مطعم ام سعود في #الزمالك كافيه جدة في #المهندسين   للحجز : طلال :  https://t.co/dd23Gb2Cwi  #سياحه #سفر #فنادق #شقق #فلل #نهر_النيل #حجوزات #سواق #استقبال #سميراميس\n",
      "1605285067848405000 2022-12-20 19:32:39 +0000 <safari_news> بالصور .. أهم المعالم السياحية في مدينة #ليل لإرضاء جميع أذواق المسافرين   https://t.co/bz1FnRgEIP  #سياحة  https://t.co/JBvkIBIFZL\n",
      "1605284616335949826 2022-12-20 19:30:51 +0000 <safari_news> بالصور .. أجمل الوجهات السياحية لقضاء شهر عسل ممتع في الشتاء   https://t.co/f7nCBSaQlL  #سياحة  https://t.co/sb25xj4Ut0\n",
      "1605284459779330048 2022-12-20 19:30:14 +0000 <safari_news> بالصور .. أشهر المعالم السياحية في #أبوظبي لشهر عسل   https://t.co/3DfBEvKwFw  #سياحة  https://t.co/zH3ZJSdElB\n",
      "1605283831896068096 2022-12-20 19:27:44 +0000 <safari_news> بالصور .. معالم سياحية جديرة بالزيارة في مدينة #الباحة   https://t.co/xhmBfikbj5  #سياحة  https://t.co/tThDWwGn1V\n",
      "1605283065626075143 2022-12-20 19:24:42 +0000 <safari_news> تعرف على أهم الأسباب التي تدفعك لزيارة جزيرة #بالي في الشتاء   https://t.co/n6G68N36lh  #سياحة  https://t.co/OlyQIF6Hp4\n",
      "1605282659042983936 2022-12-20 19:23:05 +0000 <safari_news> بالصور .. أجمل الأنشطة السياحية لشهر عسل مثالي في #موريشيوس   https://t.co/asSsitpgo7  #سياحة  https://t.co/0XfRv7C3ik\n",
      "1605282324140249100 2022-12-20 19:21:45 +0000 <safari_news> بالصور .. أشهر الأماكن السياحية في مدينة #جنوة ننصحك بزيارتها   https://t.co/EY0awhSEDC  #سياحة  https://t.co/KeepMhukIL\n",
      "1605282155264974848 2022-12-20 19:21:05 +0000 <safari_news> بالصور .. أفضل المعالم السياحية في #اسبانيا لشهر عسل لا ينسى   https://t.co/5yiFTuWW82  #سياحة  https://t.co/JPWXGJdeR9\n",
      "1605281596663382019 2022-12-20 19:18:51 +0000 <safari_news> أهم النصائح قبل سفرك إلى #سالزبورغ النمساوية في الشتاء   https://t.co/fMPnKBRou0  #سياحة  https://t.co/olxY3cJ5l7\n",
      "1605280597324304387 2022-12-20 19:14:53 +0000 <Amr_Yazn> #تايلاند #سياحة #سفر #عروض #السعودية  https://t.co/TpL7kJFMp3\n",
      "1605280162781843459 2022-12-20 19:13:10 +0000 <Amr_Yazn> #تايلاند #تايلاند_بالعربية #سياحة_سفر #سياحة #السعودية🇸🇦 @ Thailand  https://t.co/P2IUX0uhey\n",
      "1605278193283391488 2022-12-20 19:05:20 +0000 <5u468> من مصادر الدراسات التاريخية الآثار. فما هي الآثار: هي كل ما تركته الحضارات السابقة من مبانٍ ومقتنيات وأدوات ونحو ذلك. #سياحة #هايكنج #آثار #Argentina  #Qatar2022  #صباح_الخير_والسعاده  #المدينة المنورة  https://t.co/0EOMSjyB5K\n",
      "1605272207785136128 2022-12-20 18:41:33 +0000 <1LeadersGroup> بمواكبة المخاوف المتزايدة  من التغير المناخي والاحتباس الحراري:   منظمة السياحة العالمية : السفر الصديق للبيئة هو المستقبل  #سياحة #سفر  #هوريكا_الكويت\n",
      "1605271930269233152 2022-12-20 18:40:27 +0000 <wejhatt> توقيع إتفاقية لاقامة فندق ذا تشيدي وادي صفر في الدرعية بالسعودية.   https://t.co/KCvO0tKMsF #السعودية #فنادق #سياحة  https://t.co/8EkTg1GpnM\n",
      "1605271752376217601 2022-12-20 18:39:44 +0000 <zaBhZLoqCXtZBMA> #سياحه #جورجيا #الامارات_العربية_المتحده🇦🇪 #الكويت #السعودية #الاصدقاء #اكسبلور_تيك_توك #المتابعين_عسل🐝🍯  https://t.co/8TU5Vqgn1f\n",
      "1605270703158472704 2022-12-20 18:35:34 +0000 <ALAYYAM_INFO> محافظ شبوة يحذر من العبث بالمعالم السياحية في رضوم  https://t.co/NqPLO06LIw #شبوة #عتق #معالم_أثرية #سياحة\n",
      "1605270088705134593 2022-12-20 18:33:08 +0000 <ger_capital> رحلة الي جورجيا  احجز رحلتك معنا وأحصل علي تأمين السفر وشرايح انترنت مجانااااااا  للحجز او التواصل كلمنا واتساب على 00995514205050 تبليسى #جورجيا #جورجيا_تبليسي #سياحة #عطلات #اجازة #سافر  https://t.co/hfp3ilP3ZM\n",
      "1605270079930699776 2022-12-20 18:33:06 +0000 <QalWQalt> افضل #سياحة عائلية في اذربيجان واتساب: 00994508225050  https://t.co/jh1WgPG6y2\n",
      "1605269300251500544 2022-12-20 18:30:00 +0000 <safaraqtourism> سفرك تقدم لكم برنامج احتفالات #رأس_السنة لاستقبال العام الجديد برحلة لا تنسى إلى #اسطنبول والاستمتاع بأجواء #سياحة الفرح والنشاطات العائلية. للاستفسار والحجز: 00902124042000  https://t.co/CUad2W2RhL\n",
      "1605268096217804802 2022-12-20 18:25:13 +0000 <DaniaHosny> اختار برنامجك السياحي الي جورجيا من عدة برامج 00995596355000 واتساب #سياحة #دبي  https://t.co/QFh5eTF1XH\n",
      "1605268064647483392 2022-12-20 18:25:05 +0000 <11110000z> هل كنت تعرف هذه المعلومات  وفي أماكن غيرها بعد في عموم تركيا  اعاده الذاكره  . رددها لعلها تشفع لك بعد موتك  لا حول ولا قوه إلا بالله  . .رتويت مشاركه حبايبنا  . . . .#الارجنتين_فرنسا #الأردن  #طرابزون #اسطنبول #سياحه  #تركيا #الشمال_التركي  #قناة_السويس  https://t.co/WePOxFXPya\n"
     ]
    }
   ],
   "source": [
    "c = twint.Config()\n",
    "c.Store_object = True\n",
    "c.Pandas =True\n",
    "c.Search = \"#سياحة\"\n",
    "# c.Since = '2022-01-01'\n",
    "# c.Until = '2022-11-30'\n",
    "c.Limit = 100\n",
    "c.Lang = 'ar'\n",
    "c.Filter_retweets = False\n",
    "c.Store_json = True\n",
    "c.Output = \"1_tweets.json\"\n",
    "twint.run.Search(c)\n",
    "# Quick check\n",
    "# twint.storage.panda.Tweets_df.head(20)"
   ]
  },
  {
   "cell_type": "markdown",
   "id": "c9e1f809",
   "metadata": {
    "papermill": {
     "duration": 0.01091,
     "end_time": "2022-12-21T14:12:20.964171",
     "exception": false,
     "start_time": "2022-12-21T14:12:20.953261",
     "status": "completed"
    },
    "tags": []
   },
   "source": [
    "## 1- Loading and Cleaning Twitter Data"
   ]
  },
  {
   "cell_type": "code",
   "execution_count": 4,
   "id": "8acc6881",
   "metadata": {
    "execution": {
     "iopub.execute_input": "2022-12-21T14:12:20.988417Z",
     "iopub.status.busy": "2022-12-21T14:12:20.987908Z",
     "iopub.status.idle": "2022-12-21T14:12:21.028506Z",
     "shell.execute_reply": "2022-12-21T14:12:21.027151Z"
    },
    "papermill": {
     "duration": 0.056583,
     "end_time": "2022-12-21T14:12:21.031722",
     "exception": false,
     "start_time": "2022-12-21T14:12:20.975139",
     "status": "completed"
    },
    "tags": []
   },
   "outputs": [],
   "source": [
    "# Open the input file\n",
    "input_file = open('/kaggle/input/sentiment-arabic-tweets/1_tweets.json','r', encoding=\"utf-8\")\n",
    "clean_tweets = open('/kaggle/working/clean_tweets.txt','w')\n",
    "\n",
    "# Load the first few lines\n",
    "for line in input_file:\n",
    "    tweet = json.loads(line)\n",
    "    temp = re.sub(\"@[A-Za-z0-9_]+\",\"@User\", tweet['tweet'])\n",
    "    temp = re.sub(r\"http\\S+\", \"URL\", temp)\n",
    "    temp = re.sub(r\"www.\\S+\", \"URL\", temp)\n",
    "    temp = re.sub('[()!\\'?]', '', temp)\n",
    "    temp = re.sub('\\[.*?\\]','', temp)\n",
    "    temp = re.sub(\"[^أ-يA-z0-9@]\",\" \", temp)\n",
    "    clean_tweets.write(temp + '\\n')\n",
    "\n",
    "# Close the input files\n",
    "input_file.close()\n",
    "clean_tweets.close()"
   ]
  },
  {
   "cell_type": "markdown",
   "id": "35920321",
   "metadata": {
    "papermill": {
     "duration": 0.011399,
     "end_time": "2022-12-21T14:12:21.055079",
     "exception": false,
     "start_time": "2022-12-21T14:12:21.043680",
     "status": "completed"
    },
    "tags": []
   },
   "source": [
    "## 2- Derive the sentiment of each tweet"
   ]
  },
  {
   "cell_type": "markdown",
   "id": "003e57e7",
   "metadata": {
    "papermill": {
     "duration": 0.011191,
     "end_time": "2022-12-21T14:12:21.077855",
     "exception": false,
     "start_time": "2022-12-21T14:12:21.066664",
     "status": "completed"
    },
    "tags": []
   },
   "source": [
    "put the lexicon/Afinn file in dict as {term:score}"
   ]
  },
  {
   "cell_type": "code",
   "execution_count": 5,
   "id": "5acfb050",
   "metadata": {
    "execution": {
     "iopub.execute_input": "2022-12-21T14:12:21.102826Z",
     "iopub.status.busy": "2022-12-21T14:12:21.102369Z",
     "iopub.status.idle": "2022-12-21T14:12:21.187741Z",
     "shell.execute_reply": "2022-12-21T14:12:21.186015Z"
    },
    "papermill": {
     "duration": 0.101778,
     "end_time": "2022-12-21T14:12:21.191059",
     "exception": false,
     "start_time": "2022-12-21T14:12:21.089281",
     "status": "completed"
    },
    "tags": []
   },
   "outputs": [
    {
     "name": "stdout",
     "output_type": "stream",
     "text": [
      "42772\n"
     ]
    }
   ],
   "source": [
    "afinnfile = open(\"/kaggle/input/sentiment-arabic-tweets/3_Afinne_arabic.csv\", 'r', encoding=\"utf-8\")\n",
    "scores = {} # initialize an empty dictionary\n",
    "for line in afinnfile:\n",
    "    line = line.strip()\n",
    "    term = line.split(',')[0]\n",
    "    score = line.split(',')[1]\n",
    "    try:\n",
    "        scores[term] = float(score) # Conver the score to an integer. It was parsed as a string.\n",
    "    except:\n",
    "        None\n",
    "afinnfile.close()\n",
    "print(len(scores))\n",
    "# print(scores.items( )) # Print every (term, score) pair in the dictionary"
   ]
  },
  {
   "cell_type": "markdown",
   "id": "a63a57c6",
   "metadata": {
    "papermill": {
     "duration": 0.011248,
     "end_time": "2022-12-21T14:12:21.213906",
     "exception": false,
     "start_time": "2022-12-21T14:12:21.202658",
     "status": "completed"
    },
    "tags": []
   },
   "source": [
    "- make score for each tweets in sentiment file\n",
    "- make newWords dectionary for words that not exist in afinne file"
   ]
  },
  {
   "cell_type": "code",
   "execution_count": 6,
   "id": "11b66a79",
   "metadata": {
    "execution": {
     "iopub.execute_input": "2022-12-21T14:12:21.238954Z",
     "iopub.status.busy": "2022-12-21T14:12:21.238433Z",
     "iopub.status.idle": "2022-12-21T14:12:21.263162Z",
     "shell.execute_reply": "2022-12-21T14:12:21.261710Z"
    },
    "papermill": {
     "duration": 0.040653,
     "end_time": "2022-12-21T14:12:21.266136",
     "exception": false,
     "start_time": "2022-12-21T14:12:21.225483",
     "status": "completed"
    },
    "tags": []
   },
   "outputs": [
    {
     "name": "stdout",
     "output_type": "stream",
     "text": [
      "3573\n"
     ]
    }
   ],
   "source": [
    "tweets = open(\"/kaggle/working/clean_tweets.txt\", 'r', encoding=\"utf-8\")\n",
    "sentiments = open(\"/kaggle/working/3_sentiment.txt\", 'w', encoding=\"utf-8\")\n",
    "newWords = {}\n",
    "for line in tweets:\n",
    "    line = line.strip()\n",
    "    total_score = 0\n",
    "    for word in line.split(' '):\n",
    "        wordScore = scores.get(word, 0)\n",
    "        total_score = total_score + wordScore\n",
    "        if wordScore == 0 and word != 'URL' and word != 'User':\n",
    "            newWords[word] = newWords.get(word, 0)\n",
    "    sentiments.write(str(round(total_score, 3)) + \"\\n\")        \n",
    "tweets.close()\n",
    "sentiments.close()\n",
    "print(len(newWords))"
   ]
  },
  {
   "cell_type": "markdown",
   "id": "20cd32f4",
   "metadata": {
    "papermill": {
     "duration": 0.011183,
     "end_time": "2022-12-21T14:12:21.289207",
     "exception": false,
     "start_time": "2022-12-21T14:12:21.278024",
     "status": "completed"
    },
    "tags": []
   },
   "source": [
    "give score for new words in newWords dictionary"
   ]
  },
  {
   "cell_type": "code",
   "execution_count": 7,
   "id": "a5b619a2",
   "metadata": {
    "execution": {
     "iopub.execute_input": "2022-12-21T14:12:21.316291Z",
     "iopub.status.busy": "2022-12-21T14:12:21.315348Z",
     "iopub.status.idle": "2022-12-21T14:12:28.854331Z",
     "shell.execute_reply": "2022-12-21T14:12:28.852769Z"
    },
    "papermill": {
     "duration": 7.560129,
     "end_time": "2022-12-21T14:12:28.861606",
     "exception": false,
     "start_time": "2022-12-21T14:12:21.301477",
     "status": "completed"
    },
    "tags": []
   },
   "outputs": [
    {
     "name": "stdout",
     "output_type": "stream",
     "text": [
      "{'ميسي': -1, 'وينه': -1, 'العراق': -1, 'الصدر': -1, 'عشاق': -1, 'قاموا': -1, 'بإنشا': -1, 'يسمح': -1, 'لك': -1, 'بمعرفة': -1, 'المسافة': -1, 'والملاكم': -1, 'المكسيكي': -1, 'ساول': -1, 'الفاريز': -1, 'والموقع': -1, 'يحدد': -1, 'بأمان': -1, 'حاليا': -1, 'بينهما': -1, 'تشير': -1, 'إلى': -1, 'الأمان': -1, 'كأس_العالم_قطر_2022': -1, 'مونديال_قطر_2022': -1, 'الارجنتين': -1, 'Messi': -1, 'كأس_العالم': -1, 'السعوديه_المكسي': -1, 'يتقابون': -1, 'الممشى': -1, 'الليل': -1, 'حديثي': -1, 'لقناة': -1, 'الجزيرة': -1, 'كسرنا': -1, 'عينه': -1, 'واليوم': -1, 'إيران': -1, 'أمريكا': -1, '@User': -1, 'Qatar2022': -1, 'قطر_كأس_العالم_2022': -1, 'MAMA2022': -1, 'قالوا': -1, 'يهمنا': -1, 'فعلته': -1, 'حياتك': -1, 'حياتنا': -1, 'اخبرونا': -1, 'احمد_حسام_ميدو': -1, 'الشركة': -1, 'الراعية': -1, 'للنجم': -1, 'الأرجنتيني': -1, 'ولو': -1, 'الهدف': -1, 'لرونالدو': -1, 'سيتخطى': -1, 'الحين': -1, 'الطريقه': -1, 'أكيد': -1, 'عندنا': -1, 'المقاهي': -1, 'الأخضر': -1, 'وطبيعي': -1, 'يشوف': -1, 'على': -1, 'الجوال': -1, 'نقزرها': -1, 'السعودية_المكسيك': -1, 'كأس_العالم_قطر2022': -1, 'أين': -1, 'مناكفات': -1, 'تتوقف': -1, 'مشجعي': -1, 'منتخبي': -1, 'السعودية': -1, 'الأرجنتين': -1, 'قطر_2022': -1, 'اليوم': -1, 'كلنا': -1, 'أهم': -1, 'لحسم': -1, 'التأهل': -1, 'للدور': -1, 'الثاني': -1, 'أحقية': -1, 'الظهور': -1, 'العالي': -1, 'البطولة': -1, 'تونس_فرنسا': -1, 'WorldCup': -1, 'تأهل': -1, 'وانتظار': -1, 'الدنمارك': -1, 'يودعون': -1, 'استفاقتها': -1, 'أمام': -1, 'المكسيك': -1, 'تبحث': -1, 'سبل': -1, 'أفضل': -1, 'المستويات': -1, 'بولندا': -1, 'المجموعة': -1, 'الأفق': -1, 'ليفاندوفسكي': -1, 'كأس_العالم_2022': -1, 'winwin_بالمونديال': -1, 'سمعت': -1, 'الذهب': -1, 'يصدأ': -1, 'إنه': -1, 'ال35': -1, 'عاما': -1, 'فهو': -1, 'يركض': -1, 'كالطلقة': -1, 'يسدد': -1, 'كالمدفع': -1, 'يمرر': -1, 'كالصاروخ': -1, 'يخبئ': -1, 'كاس_العالم_قطر2022': -1, 'المنتخب': -1, 'الإنكليزي': -1, 'مسيرته': -1, 'بنجاح': -1, 'كأس': -1, 'العالم': -1, 'FIFA': -1, '2022': -1, 'وتأهل': -1, 'الدور': -1, 'النهائي': -1, 'متصدرا': -1, 'للمجموعة': -1, 'الثانية': -1, 'فوزه': -1, 'نظيره': -1, 'ويلز': -1, 'بثلاثة': -1, 'أهداف': -1, 'صفحتنا': -1, 'للمزيد': -1, 'كرة_القدم': -1, 'بين_سبورت': -1, 'أخبار_كرة_القدم': -1, 'أخبار_الرياضة': 0, 'هيرفي': -1, 'رينارد': -1, 'موفد': -1, 'القاهرة_الإخبارية': -1, 'بأنه': -1, 'بالنجاح': -1, 'FIFAWorldCup': -1, 'هنا_المونديال': -1, 'التانجو': -1, 'ككلمات': -1, 'شعرية': -1, 'مبعثرة': -1, 'تحتاج': -1, 'ينظمها': -1, 'ويجعلها': -1, 'أبياتا': -1, 'منسقة': -1, 'عنوانها': -1, 'أرجنتينا': -1, 'ميسى': -1, 'اتهامه': -1, 'بإهانة': -1, 'الملاكم': -1, 'كانيلو': -1, 'يهدد': -1, 'سأبحث': -1, 'عنك': -1, 'حتى': -1, 'أجدك': -1, 'تايسون': -1, 'يرد': -1, 'تجرأ': -1, 'سيتوجب': -1, 'أن': -1, 'أعود': -1, 'الحلبة': -1, 'مجددا': -1, 'فيها': -1, 'إيه': -1, 'والسبب': -1, 'مصر_النهاردة': -1, 'metro': -1, 'الشاب': -1, 'الكيني': -1, 'المونديال': -1, 'وكسب': -1, 'بسبب': -1, 'هذه': -1, 'الجملة': -1, 'سيسهل': -1, 'له': -1, 'واحقق': -1, 'وأصبح': -1, 'WorldCup2022': -1, 'هولندا_قطر': -1, 'messiday': -1, 'الأفضل': -1, 'التاريخ': -1, 'المتخاذل': -1, 'المنتهي': -1, 'الاحمق': -1, 'العيوطه': -1, 'الولايات_المتحدة': -1, 'تتألق': -1, 'تتجمل': -1, 'تتأهل': -1, 'يغادر': -1, 'لاعبيه': -1, 'الى': -1, 'بلدانهم': -1, 'الاصلية': -1, 'الدكارنه': -1, 'عساكم': -1, 'عواده': -1, 'الصغرى': -1, 'Most': -1, 'Arabs': -1, 'usa': -1, 'qualified': -1, 'amp': -1, 'advanced': -1, 'سيحمي': -1, 'الأسطوري': -1, 'مايك_تايسون': -1, 'ضربات': -1, 'كانيلو_ألفاريز': -1, 'قطر2022': -1, 'عينك_على_المونديال': -1, 'يواجه': -1, 'لإعادة': -1, 'أمجاد': -1, '1994': -1, 'يصطدم': -1, 'بليفاندوفسكي': -1, 'لمواصلة': -1, 'الحلم': -1, 'أب': -1, 'لابنه': -1, 'الكفيف': -1, 'بطريقة': -1, 'مميزة': -1, 'يخطف': -1, 'القلوب': -1, 'فنزويلي': -1, 'أحداث': -1, 'والمكسيك': -1, 'الأخيرة': -1, 'برايل': -1, 'لاعبه': -1, 'المفضل': -1, 'واحتفل': -1, 'بالهدف': -1, 'المشجعين': -1, 'يستنكر': -1, 'المقارنة': -1, 'مواجهتهما': -1, 'وام_رياضة': -1, 'تأخذوا': -1, 'بهذه': -1, 'الكلمات': -1, 'الداعية': -1, 'السلفي': -1, 'المصري': -1, 'يونس_مخيون': -1, 'الواجهة': -1, 'مطلقا': -1, 'فتوى': -1, 'بتحريم': -1, 'مباريات': -1, 'دينيس': -1, 'البرازيل': -1, 'بوجهين': -1, 'صحيفة_الخليج': -1, 'الخليج_الرياضي': -1, 'مونديال_قطر': -1, 'يصير': -1, 'أغلى': -1, 'السعوديين': -1, 'الموهوبين': -1, 'طيحوا': -1, 'خذوا': -1, 'الكأس': -1, 'يكفينافخرا': -1, 'المكسب': -1, 'تشافي': -1, 'يعلنها': -1, 'صديقي': -1, 'فاذا': -1, 'تتوج': -1, 'بلادي': -1, 'فانا': -1, 'اتمناها': -1, 'للأرجنتين': -1, 'أسطورة': -1, 'الملاكمة': -1, 'الامريكي': -1, 'يدعى': -1, 'إذا': -1, 'فسيتعين': -1, 'العودة': -1, 'ليونيل_ميسي': -1, 'أذاب': -1, 'للطفل': -1, 'FiloramoSebastian': -1, 'الفنزويلي': -1, 'والده': -1, 'بتسجيل': -1, 'هدفا': -1, 'ويشير': -1, 'المقطع': -1, 'القدم': -1, 'أولئك': -1, 'الذين': -1, 'يستطيعون': -1, 'لاعبيهم': -1, 'المفضلين': -1, 'يضيئون': -1, 'يمشون': -1, 'وحيدا': -1, 'البث': -1, 'المباشر': -1, 'لمباراة': -1, 'وأميركا': -1, 'وكيفية': -1, 'المشاهدة': -1, 'beIN': -1, 'SPORTS': -1, 'سبورياضي': -1, 'اندريه': -1, 'جواردرادو': -1, 'رميت': -1, 'الارض': -1, 'عندما': -1, 'الفنانه': -1, 'الفن': -1, 'ارجنتينيه': -1, 'تبدع': -1, 'برسم': -1, 'الأسطورة': -1, 'إلي': -1, 'الارجنتين_المكس': -1, 'يك': -1, 'يصلي': -1, 'أجده': -1, 'إن': -1, 'أبوك': -1, 'نجما': -1, 'سيجذبك': -1, 'القمر': -1, 'أعرف': -1, 'شخصيته': -1, 'وأخلاقه': -1, 'يدافع': -1, 'ملاكمي': -1, 'الكوكب': -1, 'الدبابة': -1, 'البشرية': -1, 'الطلعه': -1, 'عموما': -1, 'اختيارك': -1, 'أنت': -1, 'ملاكم': -1, 'منازع': -1, 'الاسطورة': -1, 'كلاي': -1, 'الورد': -1, 'ريحته': -1, 'جواردادو': -1, 'ألفاريز': -1, 'احتفالية': -1, 'مجنونة': -1, 'نجوم': -1, 'موقعة': -1, 'والمعنويات': -1, 'بمثل': -1, 'الروح': -1, 'يعود': -1, 'ورفاقه': -1, 'ومعهم': -1, 'للمرة': -1, 'الأولى': -1, 'فعلها': -1, 'الملهم': -1, '1986': -1, 'يفسر': -1, 'والقميص': -1, 'المثيرة': -1, 'للجدل': -1, 'شبكات': -1, 'الجزيرة_مونديال22': -1, 'صادقه': -1, 'الهلال': -1, 'مايحلم': -1, 'بالمنتخب': -1, 'يقول': -1, 'السعودي': -1, 'فيهم': -1, 'مرجوج': -1, 'قصده': -1, 'البليهي': -1, 'لقد': -1, 'ألقيت': -1, 'أيض': -1, 'الأرض': -1, 'أم': -1, '2030': -1, 'في_كل_الأحوال': -1, 'يأتيكم': -1, 'الخميس': -1, 'الساعة': -1, '00': -1, 'بتوقيت': -1, 'القدس': -1, 'الشريف': -1, 'الميادين': -1, 'الجميع': -1, 'يضغط': 1, 'يجلب': 1, 'بقدر': 1, 'ازا': 1, 'ماخدو': 1, 'يضل': 1, 'بمكانو': 1, 'ازاةجابها': 1, 'الأول': -1, 'اشي': 1, 'اسمو': 1, 'بجانب': -1, 'وروبيرت': -1, 'يقود': -1, 'فريقه': -1, 'الـ': -1, 'التفاصيل': -1, 'كأس_العالم101': -1, 'ريتا': -1, 'وشاركنا': -1, 'توقعك': -1, 'لنتيجة': -1, 'مشجعون': -1, 'يرددون': -1, 'الميدان': -1, 'FIFAWorldCupQatar2022': -1, 'أندريس': -1, 'منتخب_المكسيك': -1, 'الفيديو': -1, 'المسيئ': -1, 'لقميص': -1, 'بلاده': -1, 'قنوات_الكاس': -1, 'أكبر': -1, 'إنك': -1, 'أمة': -1, 'قاله': -1, 'أحمد': -1, 'بولندا_الأرجنتين': -1, 'مونديال_Time': -1, 'رأيت': -1, 'يمسح': -1, 'بـ': -1, 'بلادنا': -1, 'وقميص': -1, 'فريقنا': -1, 'يجب': -1, 'يدعو': -1, 'للخالق': -1, 'عليه': -1, 'الأميركي': -1, 'فـ': -1, 'حيوو': -1, 'الشهير': -1, 'يتوعد': -1, 'بالعودة': -1, 'أجل': -1, '24SPORT': -1, 'مشجعيين': -1, 'يرددو': -1, 'كريستيانو_رونالدو': -1, 'العمالقة': -1, 'الفقر': -1, 'والمعاناة': -1, 'وسو': -1, 'الاحوال': -1, 'الاقتصادية': -1, 'الشعب': -1, 'الارجنتيني': -1, 'يهرب': -1, 'همومه': -1, 'ويتابع': -1, 'ليتناسى': -1, 'الاوضاع': -1, 'البلد': -1, 'وهذا': -1, 'الشوطين': -1, 'المنزل': -1, 'ويرجو': -1, 'بالفوز': -1, 'يتنفس': -1, 'باختصار': -1, 'الارجنتين_بولندا': -1, 'QatarWorldCup': -1, 'Qatar': -1, 'تفاصيل': -1, 'كتبت': -1, 'الصحافة': -1, 'الأمكان': -1, 'أكثر': -1, 'مما': -1, 'ولكن': -1, 'بالأمكان': -1, 'يالأخضر': -1, 'محمو_كنو': -1, 'المنتخب_السعودي': -1, 'السعوديون': -1, 'أبكوا': -1, 'بعدما': -1, 'انتصروا': -1, 'علينا': -1, 'تلفزيون_المسار': -1, 'كاس_العالم': -1, 'التردد': -1, '11373H': -1, '27500': -1, 'متاحة': -1, 'بالمتجر': -1, 'سعرها': -1, '2400': -1, 'CallofDuty': -1, 'متفائلين': -1, 'خصوصا': -1, 'التشكيلة': -1, 'الزعيم': -1, 'ومتعودين': -1, 'المباريات': -1, 'الكبيرة': -1, 'وما': -1, 'ننسى': -1, 'تشيلسي': -1, 'الهزيمة': -1, 'الطموح': -1, 'بالتعادل': -1, 'ويارب': -1, 'توفيقك': -1, 'السعوديه_الارجنتين': -1, 'عيييينك': -1, 'وقائع': -1, 'المؤتمر': -1, 'الصحفي': -1, 'للمنتخب': -1, 'المرحلة': -1, 'الثالثة': -1, 'منافسات': -1, 'العربية_رياضة': -1, 'المونديال_مع_العربية': -1, 'يصر': -1, 'يؤهل': -1, 'منتخبه': -1, 'أنه': -1, 'صنعه': -1, 'يكرر': -1, 'الكرة': -1, 'لمسته': -1, 'أرضية': -1, 'الملابس': -1, 'بقميص': -1, 'جارة': -1, 'انه': -1, 'المباراة': -1, 'فائزا': -1, 'تعلموا': -1, 'إلا': -1, 'الرياضية': -1, 'للاعبي': -1, 'يثير': -1, 'سخطا': -1, 'بالمكسيك': -1, 'وملاكم': -1, 'لتخطي': -1, 'الحجب': -1, 'ليونيل_سكالوني': -1, 'يحتفل': -1, 'بأهذافه': -1, 'يسرق': -1, 'اهداف': -1, 'غيره': -1, 'راحتك': -1, 'منافسك': -1, 'الورقي': -1, 'يسجلون': -1, 'بسمه': -1, 'الموهبه': -1, 'والصناعي': 0, 'أعلى': -1, 'لاعبين': -1, 'أجرا': -1, 'إنفوجرافيك': -1, 'ادع': -1, 'ألا': -1, 'ملاكمين': -1, 'شهيرين': -1, 'خطأ': -1, 'احتفاله': -1, 'منصات': -1, 'شاهد_سكاي': -1, 'منتخبنا': -1, 'الوطني': -1, 'الصحافي': -1, 'أقيم': -1, 'المنافسين': -1, 'لعبوا': -1, 'بتكتيك': -1, 'قدموا': -1, 'أدا': -1, 'رائعا': -1, 'وقتاليا': -1, 'فجأة': -1, 'كأس_العالم_FIFA': -1, 'أعلن': -1, 'الاتحاد': -1, 'الكرواتي': -1, 'لكرة': -1, 'الدولي': -1, 'للعبة': -1, 'إجرا': -1, 'ات': -1, 'تأديبية': -1, 'ضده': -1, 'إهانات': -1, 'الكرواتيين': -1, 'لحارس': -1, 'مرمى': -1, 'الأصول': -1, 'الصربية': -1, 'المواجهة': -1, 'المنتخبين': -1, 'أخبار_كرة': -1, 'الهولندي': -1, 'بفوزه': -1, 'القطري': -1, 'بهدفين': -1, 'البيت': -1, 'الخور': -1, 'الجولة': -1, 'أخبار_ا': -1, 'أكد': -1, 'يسجل': -1, 'للبرتغال': -1, 'الأوروغواي': -1, 'الاثنين': -1, 'التي': -1, 'انتهت': -1, 'بفوز': -1, 'البرتغال': -1, 'تأكد': -1, 'النجم': -1, 'البرازيلي': -1, 'المرتقبة': -1, 'للـ': -1, 'سيليساو': -1, 'الكاميرون': -1, 'والأخيرة': -1, 'لحساب': -1, 'السابعة': -1, 'أخبار_ال': -1, 'تشيسلاف': -1, 'ميخنييفيتش': -1, 'بأن': -1, 'أسلوب': -1, 'يشبه': -1, 'يقوم': -1, 'به': -1, 'البطل': -1, 'الإيطالي': -1, 'ألبرتو': -1, 'تومبا': -1, 'متزلج': -1, 'سباقات': -1, 'التعرج': -1, 'العالمي': -1, 'خسارتنا': -1, 'أثرت': -1, 'أسرتي': -1, 'كانوا': -1, 'عانون': -1, 'بشدة': -1, 'إبني': -1, 'الملعب': -1, 'وهو': -1, 'يبكي': -1, 'وإبني': -1, 'الحسابات': -1, 'لمعرفة': -1, 'يمكننا': -1, 'الخرج': -1, 'سناب_الخرج_لايف': -1, 'دافيد_فيا': -1, 'الافضل': -1, 'بولندا_الارجنتين': -1, 'وبخلي': -1, 'افتاري': -1, 'صورته': -1, 'بعمل': -1, 'وبيكون': -1, 'صاحبي': -1, 'وحبيبي': -1, 'وكفا': -1, 'ة': -1, 'بالاقتراح': -1, '974': -1, 'بوتريت': -1, 'الرمال': -1, 'يجمع': -1, 'بيدري': -1, 'حكيمي': -1, 'محكوما': -1, 'بالقدر': -1, 'وتشبه': -1, 'شهيرا': -1, 'التطابق': -1, 'تتنازل': -1, 'شخصيتك': -1, 'الحقيقية': -1, 'وتتقمص': -1, 'لشبيه': -1, 'وكذلك': -1, 'وغيرهم': -1, 'أشباه': -1, 'النجوم': -1, 'لإبنه': -1, 'اللاعب': -1, 'جعلت': -1, 'الابن': -1, 'يشعر': -1, 'كأنه': -1, 'يرى': -1, 'جميلة': -1, 'الأب': -1, 'والإبن': -1, 'أما': -1, 'شعورك': -1, 'حبيبك': -1, 'كيليان': -1, 'مبابي': -1, 'تعر': -1, 'المطلوب': -1, 'البولندي': -1, 'الإكوادور': -1, 'والسنغال': -1, 'ستكون': -1, 'وعبر': -1, 'الانترنت': -1, 'بواسطة': -1, 'CONNECT': -1, 'الارجنتين_السعوديه': -1, 'سالم_الدوسري': -1, 'اتوقع': -1, 'وصلت': -1, 'الصورة': -1, 'القذرين': -1, 'كرستيانو_رونالدو': -1, 'يشجع': -1, 'ويؤكد': -1, 'أحد': -1, 'يستطيع': -1, 'إيقاف': -1, 'واطفالها': -1, 'الدوحة': -1, 'المحتوى': -1, 'واللاعب': -1, 'ايران_امريكا': -1, 'نعيش': -1, 'أهمية': -1, 'الأشيا': -1, 'مقتصرة': -1, 'استخدامنا': -1, 'للجمال': -1, 'اخرى': -1, 'تخلقها': -1, 'الروحيه': -1, 'وبس': -1, 'طبيت': -1, 'جديدة': -1, 'يستخدم': -1, 'الماندالا': -1, 'الشاكرات': -1, 'When': -1, 'Dont': -1, 'gym': -1, 'worth': -1, 'outcomes': -1, 'oc': -1, 'ocs': -1, 'digitalart': -1, 'artist': -1, 'artoftheday': -1, 'artofinstagram': -1, 'originalcharacter': -1, 'original': -1, 'maleoc': -1, 'anatomy': -1, 'pencil': -1, 'blackandwhite': -1, 'sketch': -1, 'رسامين': -1, 'سلمى_النحاس': -1, 'سكتش': -1, 'بالرصاص': -1, 'رسمة': -1, 'النتيجة': -1, 'اخذت': -1, 'البساطة': -1, 'Procreate': -1, 'drawing': -1, 'digitaldrawing': -1, 'القران_الكريم': -1, 'فن_تشكيلي': -1, 'البرج': -1, 'يبدو': -1, 'القلب': -1, 'يتسع': -1, 'لنا': -1, 'draw': -1, 'شخابيط': -1, 'وخلاص': -1, 'أمتع': -1, 'اللحظات': -1, 'الرسم': -1, 'الاطفال': -1, 'تنورونا': -1, 'ارحبو': -1, 'اسوس_الجمعة_البيضا': -1, 'فنانين': -1, 'الإعلان': -1, 'بالألوان': -1, 'الخشبية': -1, 'الرياض': -1, 'مسا': -1, 'الورشة': -1, 'حضورية': -1, 'بالنسا': -1, 'المقاعد': -1, 'محدودة': -1, 'ورش_رسم_حضورية': -1, 'أقلام': -1, 'لكوكب': -1, 'الشرق': -1, 'ام_كلثوم': -1, 'اقلام_فحم': -1, 'فنون': -1, 'بورتريه': -1, 'ألوان': -1, 'خشبية': -1, 'مائية': -1, 'هيمي': -1, 'قابلة': -1, 'للذوبان': -1, 'الما': -1, 'الجودة': -1, 'وسميكة': -1, 'للكسر': -1, 'تكتب': -1, 'بسلاسة': -1, 'وتضع': -1, 'ظلال': -1, 'مختلفة': -1, 'بسهولة': -1, 'وصديقة': -1, 'للبيئة': -1, 'مثالية': -1, 'لـعشاق': -1, 'الأعمار': -1, 'متوفرة': -1, 'بحجمين': -1, 'Artists': -1, 'التقدم': -1, 'الإنجاز': -1, 'وبداية': -1, 'الإبداع': -1, 'التميز': -1, 'والإنفراد': -1, 'بالأدا': -1, 'لوحات': -1, 'فنون_تشكيلية': -1, 'ترند_الرسامين': -1, 'drawings': -1, 'fnaart': -1, 'animefan': -1, 'arts': -1, 'drawingart': -1, 'عدت': -1, 'وطلة': -1, 'للرسم': -1, 'الدفعة': -1, 'البشائر': -1, 'يهابنا': -1, 'رأيكم': -1, 'الفرق': -1, 'الرهيب': -1, 'dtiys': -1, 'loli': -1, 'spaceart': -1, 'الوان': -1, 'اسبانيا_المانيا': -1, 'كده': -1, 'عجبتكم': -1, 'اعمالي': -1, 'يحتاج': -1, 'ودقة': -1, 'واستحضار': -1, 'للصورة': -1, 'الكلية': -1, 'والتفاصيل': 0, 'الطوبه': -1, 'سويتها': -1, 'مرتين': -1, 'عدلت': -1, 'الأخطا': -1, 'المره': -1, 'animation': -1, 'كلنا_رسامين': -1, 'زيتية': -1, 'كانفس': -1, 'أجدد': -1, 'تكعيبي': -1, 'مكه_الان': -1, 'أختي': -1, 'جدارهم': -1, 'التجديد': -1, 'يقلدني': -1, 'ضيا': -1, 'ومؤنث': -1, 'أصل': -1, 'ومعناه': -1, 'النور': -1, 'والإشراق': -1, 'الفعل': -1, 'ضا': -1, 'يضو': -1, 'woodworking': -1, 'woodburning': -1, 'diaa': -1, 'خشبيات': -1, 'حرق_على_الخشب': -1, 'haircut': -1, 'barbershop': -1, 'barber': -1, 'Ohio': -1, 'التجربة': -1, 'مواهبك': -1, 'اجازتك': -1, 'رياض_الخبرا': -1, 'اجراس': -1, 'للتسجيل': -1, 'N': -1, 'يهتم': -1, 'مجدي_قيم_رسمتي': -1, 'Acrylic': -1, 'gouache': -1, 'المدينة_المنورة': -1, 'acrylic': -1, 'oilpainting': -1, 'Oil': -1, 'Trending': -1, 'جمعه_الرسامين': -1, 'acrylicpainting': -1, 'paint': -1, 'Colors': -1, 'explorepage': -1, 'explore': -1, 'حاجه': -1, 'عندكم': -1, 'العيون': -1, 'واليد': -1, 'وربي': -1, 'هجوله': -1, 'sketches': 0, 'لوحتي': -1, 'cartoon': -1, 'كاريكاتير': -1, 'عماد_عواد': -1, 'رسم_بالقهوة': -1, 'يخيل': -1, 'طيفك': -1, 'الاماكن': -1, 'ومال': -1, 'لايكف': -1, 'التفكيربك': -1, 'كلماتي': -1, 'أصبحت': -1, 'عاجزه': -1, 'البوح': -1, 'أستوطنتني': -1, 'وملكتني': -1, 'وحيرني': -1, 'أيعقل': -1, 'أني': -1, 'يقفدني': -1, 'صوابي': -1, 'أريد': -1, 'جوابك': -1, 'أرجوك': -1, 'فأنا': -1, 'أنتظر': -1, 'والشوق': -1, 'يقتلني': -1, 'لسماعها': -1, 'بقلمي': -1, 'ريشتي': -1, 'نرسم': -1, 'ازيا': -1, 'الرسم@رسم': -1, 'بقلم': -1, 'اخواتنا': -1, 'المصريين': -1, 'الكل': -1, 'ساواها': -1, 'تقريبا': -1, 'uchiha': -1, 'sasuke': -1, 'تحكي': -1, 'شيئا': -1, 'الفؤاد': -1, 'تخبأ': -1, 'اقتباسات_سنابيه': -1, 'ياله': -1, 'تعاله': -1, 'الكاميرا': -1, 'شغاله': -1, 'للفنانه': -1, 'والم': -1, 'moonaladl7': -1, 'شبكة_المجد': -1, 'قناة_ماسة': -1, 'برنامج_وجه_جديد': -1, 'Today': 1, 'I': -1, 'started': 1, 'learning': 1, 'officialy': 1, 'Im': 1, 'each': 1, 'speciffic': 1, 'lesson': 1, 'learnd': 1, 'Light': 1, 'positioning': 1, 'Shading': 1, 'Shadow': 1, 'challenged': 1, 'slef': 1, 'master': 1, 'And': 1, 'capable': 1, 'learn': 1, 'طلبت': -1, 'امرأة': -1, 'عربية': -1, 'البحر': -1, 'الأحمر': -1, 'النتائج': -1, 'غررريبة': -1, 'يفترض': -1, 'سودا': -1, 'ذكا': -1, '_اصطناعي': -1, 'يشرب': -1, 'القهوة': -1, 'الأجوا': -1, 'والألوان': -1, 'وطريقة': -1, 'عجيييبة': -1, 'بشكل': -1, 'نحسد': -1, 'الذكا': -1, 'الاصطناعي': -1, 'فنه': -1, 'commissionsopen': -1, 'illustration': -1, 'digitalpainting': -1, 'characterdesign': -1, 'artwork': -1, 'anime': -1, 'manga': -1, 'hairstyle': -1, 'كلنا_مبدعين': -1, 'model': -1, 'marvel': -1, 'comicbooks': -1, 'Hello': -1, 'artistsontwitter': -1, 'artontwitter': -1, 'Sketching': -1, 'painting': -1, 'canvas': -1, '51x61': -1, 'cm': -1, 'newartwork': -1, 'mypainting': -1, 'Art': -1, 'artists': -1, 'كشوق': -1, 'الليالي': -1, 'لضو': -1, 'الخير': -1, 'تحريكي': -1, 'لشخصية': -1, 'Stranger': -1, 'Things': -1, 'أستقبل': -1, 'طلبات': -1, 'الموشن': -1, 'الخاص': -1, 'StrangerThings': -1, 'motionGraphics': -1, 'موشن_جرافيك': -1, 'bunnygirl': -1, 'رجعت': -1, 'البيضه': -1, 'ودمجت': -1, 'الاضا': -1, 'وعدلت': -1, 'الظل': -1, 'اخترته': -1, 'كشخصية': -1, 'ارسمها': -1, 'وفيها': -1, 'ملامح': -1, 'اولا': -1, 'لسهولته': -1, 'ثانيا': -1, 'الحيوانات': -1, 'يسال': -1, 'حواجبه': -1, 'تجلس': -1, 'الفنانين': -1, 'وتجربون': -1, 'وتتعلم': -1, 'بروكرييت': -1, 'jeddah': -1, 'Tools': -1, 'Source': -1, 'Inspiration': -1, 'imagination': -1, 'Title': -1, 'خطوات': -1, 'قناتي': -1, 'التليجرام': -1, 'My': -1, 'telegram': -1, 'Hashtags': -1, 'nft': -1, 'portfolio': -1, 'المباعة': -1, 'بألوان': -1, 'الاكريليك': -1, 'البحرين': -1, 'الامارات': -1, 'From': -1, 'The': -1, 'Book': -1, 'S': -1, 'ultan': -1, 'Arts': -1, 'لشعار': -1, 'الكتاب': -1, 'logo': -1, 'Digital': -1, 'DigitalArtist': -1, 'sketchbook': -1, 'TokyoRevenger': -1, 'English': -1, 'Rose': -1, 'Mochizuki': -1, 'These': -1, 'past': -1, 'Date': -1, 'May': -1, '1991': -1, 'Age': -1, 'Current': -1, 'Height': -1, '155': -1, 'OC': -1, 'mikey': -1, 'artchallenge': -1, 'tokyorevengersspoilers': -1, 'drawthisinyourstyle': -1, 'This': -1, 'while': -1, 'افنان': -1, 'الرمز': -1, 'وشوف': -1, 'الفحم': -1, 'الخصم': -1, 'فخارية': -1, 'بطابع': -1, 'يمثل': -1, 'الأحسا': -1, 'لافي': -1, 'يحاكيني': -1, 'البال': -1, 'مبكيني': -1, 'اقتباسات': -1, 'SKETCH': -1, 'ليال': -1, 'الخولي': -1, 'بلادا': -1, 'منذورة': -1, 'العرب_اللندنية': -1, 'إدراك': -1, 'القيم': -1, 'رسالة_اليوم': -1, 'الراحة_النفسية': -1, 'الحزن': -1, 'لاكن': -1, 'عنه': -1, 'ارسم': -1, 'التشكيلي': -1, 'الفنانه_التشكيليه_منى_شبيب_السبيع': -1, 'تجمع_فنانيين': -1, 'جفست': -1, 'الرياضية_السعودية': -1, 'السعوديه_بولندا': -1, 'cuteart': -1, 'doodle': -1, 'ilustra': -1, 'Palestinian': -1, 'superhero': -1, 'قريبا': -1, 'New': -1, 'experience': -1, 'tamaseehelnile': -1, 'Poster': -1, 'تماسيح_النيل': -1, 'كرتوني': -1, 'graphicdesign': -1, 'illustrator': -1, 'cartoons': -1, 'characterart': -1, 'شخصيات': -1, 'illustrationart': -1, 'NFT': -1, 'SOFT_POWER_MA': -1, 'صباح_الخير': -1, '_الخير': -1, 'خواطر': -1, 'فكرة_دوت_كوم': -1, 'وائل_سمير_العنزي': -1, 'خلصتها': -1, 'غويه': -1, 'للشخصيات': -1, 'مودا': -1, 'ومودي': -1, 'ومودو': -1, 'بأسلوبي': -1, 'الرقمي': -1, 'ارجوا': -1, 'تنال': -1, 'اعجابكم': -1, 'spacetoon': -1, 'رسامين_العرب': -1, 'تصميمي': -1, 'اكسبلور': -1, 'مودا_مودي': -1, 'تفوتكم': -1, 'فعاليات': -1, 'المميزه': -1, 'zumba': -1, 'سيرب': -1, 'الأمم_المتحدة': -1, 'يزال': -1, 'مسبار': -1, 'معركته': -1, 'الأخبار': -1, 'والمعلومات': -1, 'المضللة': -1, 'والكاذبة': -1, 'فوا': -1, 'مؤشر_مسبار': -1, 'تشرين': -1, 'الفائت': -1, 'أخبار': -1, 'سوشال_ميديا': -1, 'الإعلامية': -1, 'رفعت': -1, 'القو': -1, 'الإسرائيلية': -1, 'بشأن': -1, 'الصحافية': -1, 'الفلسطينية': -1, 'شيرين_أبو_عاقلة': -1, 'المحكمة': -1, 'الجنائية': -1, 'الدولية': -1, 'إسرائيل': -1, 'جريمة_حرب': -1, 'إرهاب': -1, 'الاحتلال': -1, 'الجزيرة_مباشر': 0, 'معتقلون': -1, 'أبحاث': -1, 'حقوق_الانسان': -1, 'اسماعيل_الاسكندراني': -1, 'لطفا': -1, 'شاركها': -1, 'يمكن': -1, 'غيرك': -1, 'محتاجها': -1, 'لدراسة': -1, 'والاعلام': -1, 'لجميع': -1, 'الطلبة': -1, 'أوروبا': -1, 'منحة_دراسية': -1, 'موندوس': -1, 'ايراسموس': -1, 'وعدد': -1, 'الباحثين': -1, 'الصادر': -1, 'النهضة': -1, 'برعاية': -1, 'الرابطة': -1, 'العربية': -1, 'للبحث': -1, 'العلمي': -1, 'وعلوم': -1, 'الاتصال': -1, 'الأربعا': -1, 'أتمنى': -1, 'ورقية': -1, 'الدول': -1, 'اشتكى': -1, 'العديد': -1, 'المواطنيين': -1, 'اصحاب': -1, 'للمنطقة': -1, 'الواقعة': -1, 'بالقرب': -1, 'اضغط': -1, 'دعما': -1, 'دولية': -1, 'منوعات': -1, 'الكويت': -1, 'يدور': -1, 'بجامعة': -1, 'طفيل': -1, 'وهنا': -1, 'الرئاسة': -1, 'والوزير': -1, 'حرب_الكعكة': -1, 'المغرب': -1, 'الجامعة_المغربية': -1, 'هسبريس': 0, 'لانتهاكها': -1, 'حقوق': -1, 'الانسان': -1, 'اسرائ': -1, 'السابق': -1, 'الحياة': -1, 'التحقق': -1, 'لخبر': -1, 'وفاته': -1, 'العناية': -1, 'المركزة': -1, 'المؤسسات': -1, 'يستمر': -1, 'وهذه': -1, 'المرة': -1, 'بورتيفي': -1, 'نهائيا': -1, 'وتسريح': -1, 'صحفييها': -1, 'متضامنة': -1, 'زملائي': -1, 'الصحفيين': -1, 'الجزائر': -1, 'إعلام': -1, 'اجتماعنا': -1, 'الوكالة': -1, 'الفرنسية': -1, 'للتنمية': -1, 'الشرق_الأوسط': -1, 'وفريق': -1, 'الداعمين': -1, 'لمؤسستنا': -1, 'لعام': -1, 'ناقشنا': -1, 'خلاله': -1, 'التعاون': -1, 'بيننا': -1, 'ومستقبل': -1, 'الإعلام': -1, 'بالإضافة': -1, 'أصوات': -1, 'الشباب': -1, 'الاردن': -1, 'ضيفك': 1, 'اسمعه': 1, 'تقاطعه': 1, 'تتحدث': 1, 'مذيعين': 1, 'الواحد': 1, 'يقطع': 1, 'شعره': 1, 'ينصت': 1, 'تستطيع': -1, 'إكمال': 1, 'فكرتها': 1, 'لأن': -1, 'المذيع': 1, 'يريد': 1, 'عضلاته': 1, 'إذاعات': 0, 'تقف': -1, 'طاغية': -1, 'رفعناهم': -1, 'أسلمناهم': -1, 'أعناقنا': -1, 'اختيارنا': -1, 'الحر': -1, 'لأحط': -1, 'فينا': -1, 'شبكة_النبأ': -1, 'الطاغية': -1, 'الحرية': -1, 'جامعة_المؤسس': -1, 'حصلت': -1, 'البكالوريوس': -1, 'الملك': -1, 'بتقدير': -1, 'إمتياز': -1, 'الدكتور': -1, 'عبدالله_النصيف': -1, 'الأمير': -1, 'سلطان_بن_عبدالعزيز': -1, 'لإعتماد': -1, 'تعييني': -1, 'الدراسات': -1, 'العليا': -1, 'الأمر': -1, 'رفضته': -1, 'الواسطة': -1, 'عطى': -1, 'لغيري': -1, 'الإعلامي': -1, 'الكبير': -1, 'مفيد_فوزي': -1, 'النهار': -1, 'العالم_اليوم': -1, 'EnnaharTV': -1, 'EnnaharInfos': -1, 'Egypt': -1, 'News': -1, 'moufid_fawzi': -1, 'منشورة': -1, 'الأنبا': -1, 'بتاريخ': -1, 'السابع': -1, 'أغسطس': -1, '2021': -1, 'الفرعوني': -1, 'خوفو': -1, 'القاهرة': -1, 'تجار': -1, 'ورجال': -1, 'أعمال': -1, 'سودانيين': -1, 'يهربون': -1, 'بأموال': -1, 'ضخمة': -1, 'البنوك': -1, 'وتركيا': -1, 'السودان': -1, 'sudan': -1, 'سوران_علي': -1, 'العراق_بأعين_كوردية': -1, 'إيلاف': -1, 'مقالات': -1, 'صحيفه': -1, 'محترمه': -1, 'جريده': -1, 'صفرا': -1, 'المقاطع': -1, 'لجذب': -1, 'المتابعه': -1, 'ودليل': -1, 'للمحتوى': -1, 'فايننشال': -1, 'تعرضت': -1, 'لحملة': -1, 'منها': -1, 'الغربية': -1, 'والواقع': -1, 'أنهم': -1, 'يعيشون': -1, 'هذا_اليوم': -1, 'مونديال_قطر2022': -1, 'ذكرت': -1, 'التايمز': -1, 'البريطانية': -1, 'الكحول': -1, 'الملاعب': -1, 'القطرية': -1, 'المشجعات': -1, 'الاستمتاع': -1, 'خالية': -1, 'المتاعب': -1, 'فيفي_عبده': -1, 'عمرو_دياب': -1, 'ملايين': -1, 'طائرات': -1, 'هليكوبتر': -1, 'تهبط': -1, 'برجين': -1, 'سكنين': -1, '1995': -1, 'bahab_elcima': -1, 'مقابلتي': -1, 'الفنانة': -1, 'السويسرية': -1, 'هيكدين': -1, 'الروحانية': -1, 'والفلسفة': -1, 'يبقى': -1, 'شيئ': -1, 'الأبد': -1, 'مشاعر': -1, 'رسومات': -1, 'كونغرس_عالمي_للاعلام': -1, 'بما': -1, 'أنو': -1, 'وعقبات': -1, 'قررت': -1, 'ألعبها': -1, 'وخوض': -1, 'التحديات': -1, 'ماريا_معلوف': -1, 'علفك': -1, 'مغموس': -1, 'بالارتزاق': -1, 'والنذالة': -1, 'رخيصة': -1, 'للأسف': -1, 'فلسطين_قضية_الشرفا': -1, 'وأنت': -1, 'مونديال_2022': -1, 'تطمح': -1, 'مراسلا': -1, 'تلفزيونيا': -1, 'فرصتك': -1, 'تنتظر': -1, 'لكي': -1, 'تبادر': -1, 'التسجيل': -1, 'يمكنك': -1, 'الضغط': -1, 'دورات': -1, 'دورات_تدريبية': -1, 'إعلاميين': -1, 'انشطة': -1, 'منصة_نما': -1, 'صحافة_التسرب_المدرسي': -1, 'السماسرة': -1, 'لتسقيف': -1, 'أسعار_السيارات': -1, 'للتصدي': -1, 'لصفحات': -1, 'الأدمن': -1, 'والشباب': -1, 'الجزائريين': -1, 'واكبوا': -1, 'الحدث': -1, 'باحترافية': -1, 'عراك': -1, 'بالايدي': -1, 'السنغال': -1, 'زميلته': -1, 'وجهها': -1, 'اختلافهما': -1, 'الرئيس': -1, 'لولاية': -1, 'ثالثة': -1, 'النص': -1, 'ذكرى': -1, 'معلمي': -1, 'التونسية': -1, 'قربوج': -1, 'ألف': -1, 'ونور': -1, 'روحه': -1, 'الجميلة': -1, 'وعقله': -1, 'الأنيق': -1, 'وكالات': 0, 'الصغيرة': -1, 'تقوم': 1, 'حقيقية': 1, 'تحترم': 1, 'نفسها': 1, 'تشرع': 1, 'قوانين': 1, 'تحمي': 1, 'وتلزمها': 1, 'حدودها': 1, 'ولن': 1, 'الطارئين': 1, 'والمتفقعسين': 1, 'الحكومة': -1, 'غيرها': 1, 'الادب': 1, 'لدينا': -1, 'مطبلين': 1, 'وابواق': 1, 'يرضون': 1, 'بالفتات': 1, 'زملائهم': 0, 'المحرق': -1, 'تحتفل': -1, 'بيوم': -1, 'المرأة': -1, 'البحرينية': -1, 'وأنتن': -1, 'دانات': -1, 'المملكة': -1, 'متميزات': -1, 'بعطائكن': -1, 'ليفانت': -1, 'العــدد': -1, 'ليفانت_نيوز': -1, 'النسخة_الورقية': -1, 'جريدة_ليفانت_نيوز': -1, 'الثقافة': -1, 'والصحافة': -1, 'تلاق': -1, 'الأفكار': -1, 'وسائل_الاعلام': -1, 'الاستقلالية': -1, 'المثقف': -1, 'المجتمع': 0, 'يكتب': -1, 'ليقول': -1, 'اتحدث': -1, 'قلما': -1, 'وليس': -1, 'ممن': -1, 'لينشر': -1, 'علما': -1, 'أو': -1, 'يؤسس': -1, 'فكرا': -1, 'تغييرا': -1, 'يضيف': -1, 'جديدا': -1, 'ذك': -1, 'بمهم': -1, 'يعوضهم': -1, 'تندد': -1, 'بإصدار': -1, 'أحكاما': -1, 'سالبة': -1, 'للحرية': -1, 'قضايا': -1, 'النشر': -1, 'والرأي': -1, 'المزيد': -1, 'ومتابعتنا': -1, 'مواقع': -1, 'التواصل': -1, 'الإجتماعي': -1, 'الروابط': -1, 'التالية': -1, 'فيسبوك': -1, 'تليكرام': -1, 'انستاكرام': -1, 'أدب': -1, 'رواد': -1, 'للنواب': -1, 'الجدد': -1, 'والقديمين': -1, 'وزير_الاتصال': -1, 'ينعي': -1, 'برهوم_بوجمعة': -1, 'الجزائر_اليوم': -1, 'أخبار_الجزائر': -1, 'وزارة_الاتصال': -1, 'Algerie': -1, 'National': -1, 'Minist': -1, 'Actualit': -1, 'Alg': -1, 'rie': -1, 'بالسجن': -1, 'لصحفي': -1, 'الكشف': -1, 'مصادره': -1, '_التونسي': -1, 'مصادر_صحفية': -1, 'صحيفة_ليفانت_اللندنية': -1, 'الحكم': -1, 'إذاعة': -1, 'موزاييك': -1, 'المحلية': -1, 'أمير': -1, 'الشيخ': -1, 'تميم_بن_حمد': -1, 'تميم_المجد': -1, 'مدرب_معتمد': -1, 'بدر_العنزي': -1, 'القاسمي': -1, 'يكشف': -1, 'لبوابة': -1, 'كواليس': -1, 'بالس': -1, 'إدانة': -1, 'بتهمة': -1, 'الإرهاب': -1, 'واصنع': -1, 'الخبر': -1, 'واكتشف': -1, 'التقديم': -1, 'التلفزيوني': -1, 'تقنيات': -1, 'الواقع': -1, 'الافتراضي': -1, 'مطافئ': -1, 'بالدوحة': -1, 'اكتشفوها_كلها': -1, 'قطر_تبدع': -1, 'التعبير': -1, 'الإنترنت': -1, 'التشريعات': -1, 'الجديدة': -1, 'تشريعات': -1, 'snjt': -1, 'FreedomOfSpeech': -1, 'FreedomofExpression': -1, 'Tunisia': -1, 'legislation': -1, 'decree54': -1, 'تستدعي': -1, 'السفير': -1, 'الصيني': -1, 'الصين': -1, 'كشفت': -1, 'يديعوت': -1, 'أحرونوت': -1, 'عما': -1, 'يواجهه': -1, 'مراسلوها': -1, 'قناتنا': -1, 'تلغرام': -1, 'يديعوت_احرنوت': -1, 'ماذا_بعد': -1, 'اخترنا': -1, 'المصدر': -1, 'عرب': -1, 'موريتانيا': -1, 'اليمن': -1, 'الخليج': -1, 'للإعلام': -1, 'مازال': -1, 'متوهج': -1, 'ومازال': -1, 'البعض': -1, 'يتمنى': -1, 'صحفيا': -1, 'لحضوره': -1, 'استماعه': -1, 'لقصة': -1, 'كمهنة': -1, 'تغيرت': -1, 'كثيرا': -1, 'وعلى': -1, 'الشغوف': -1, 'بالإعلام': -1, 'يتعرف': -1, 'ملامحه': -1, 'يقرر': -1, 'ونفعه': -1, 'لنفسه': -1, 'وللناس': -1, 'مستعمر': -1, 'يمارس': -1, 'جرائم': -1, 'بحق': -1, 'الانسانية': -1, 'يمارسون': -1, 'الابارتهايد': -1, 'يخرج': -1, 'هؤلا': -1, 'الصحافيين': -1, 'بمحاولة': -1, 'محتوى': -1, 'يمثلون': -1, 'الضحية': -1, 'العرب': -1, 'الصور': -1, 'وسطحية': -1, 'والغرب': -1, 'سيمارس': -1, 'المعايير': -1, 'النفاق': 0, 'العرس': -1, 'الديمقراطي': -1, 'وللحين': -1, 'الخياش': -1, 'والطابوق': -1, 'شالة': -1, 'المناطق': -1, 'الانتخابات': -1, 'انتخابات_2022': -1, 'انتخابات_البحر': -1, 'يتسائل': -1, 'البطاقة': -1, 'التمونية': -1, 'للمواطن': -1, 'تتعرف': -1, 'تعنيه': -1, 'المهنية': -1, 'للشبكة': -1, 'الأبرز': -1, 'حصدت': -1, 'جوائز': -1, 'وكيف': -1, 'الوثائقيات': -1, 'مطافى': -1, 'أرقام': -1, 'أعضا': -1, 'البلدي': -1, 'وزير_الإتصال': -1, 'يقدم': -1, 'تعازيه': -1, 'الصحفية': -1, 'حياة_بلحرش': -1, 'الصحافة_الوطنية': -1, 'الإلكترونية': -1, 'يتناول': -1, 'ومفهوم': -1, 'الالكترونية': -1, 'والمهارات': -1, 'للصحفى': -1, 'الإلكتروني': -1, 'والكتابة': -1, 'الفعالة': -1, 'الموقع': -1, 'لتفاصيل': -1, 'والتسجيل': -1, 'وللتواصل': -1, 'العملا': -1, '201093677272': -1, '201010577644': -1, 'نسعد': -1, 'بانضمامكم': -1, 'للاطلاع': -1, 'الوسط': -1, 'الثقافي': -1, 'وكمحررين': -1, 'مراسلتنا': -1, 'بمقالاتكم': -1, 'ونصوصكم': -1, 'وتغطياتكم': -1, 'زوروا': -1, 'موقعنا': -1, 'صندوق_نحاس': -1, 'معرض_القاهرة_الدولي_للكتاب2023': -1, 'ونزيهة': -1, 'مثيرة': -1, 'ملفقة': -1, 'وكاذبة': -1, 'والتقارير': -1, 'المعلنيين': -1, 'المتابعين': -1, 'فكلما': -1, 'المعلنين': 0, 'ومن': -1, 'التغييرات': -1, 'أحدثتها': -1, 'الجهات': -1, 'معلومات': -1, 'الخبرا': -1, 'السياسيين': -1, 'الفوز': -1, 'بالانتخابات': -1, 'العضو': -1, 'لليوم': -1, 'صحافه': -1, 'نعمته': -1, 'وفضله': -1, 'الغد': -1, 'الدستور': -1, 'للزميل': -1, 'الاستاذ': -1, 'الفاضل': -1, 'باسم_الشيخ': -1, 'أقدم': -1, 'منتدى': -1, 'نلتقي': -1, 'الدنيا': -1, 'منتدى_مصر_للإعلام': -1, 'أخبار_العالم': -1, 'الموافقة': -1, 'مجلس_السلم_العالمي': -1, 'الأخبار_الوطنية': -1, 'الأخبار_الدولية': -1, 'AlgeriaNews': -1, 'EnnaharMedia': -1, 'ProgrammeTV': -1, 'ProgrammeEnnahar': -1, 'مستقلة': -1, 'مهنية': -1, 'وصلهم': -1, 'منة_شلبي': -1, 'فعملوا': -1, 'بالقاعدة': -1, 'بتقول': -1, 'المتهم': -1, 'إدانته': -1, 'ونشروا': -1, 'بدون': -1, 'اسمها': -1, 'واكتفوا': -1, 'بكلمة': -1, 'فنانة': -1, 'شهيرة': -1, 'زالت': -1, 'التحقيقات': -1, 'وطبعا': -1, 'الباسبور': -1, 'وانتهاك': -1, 'الخصوصية': -1, 'رسامي': -1, 'الكاريكاتير': -1, 'فى': -1, 'والوطن': -1, 'العربي': -1, 'الدين': -1, 'اللباد': -1, 'اساتذة': -1, 'روزاليوسف': -1, 'الفنية': -1, 'والصحفية': -1, 'لكاريكاتير': -1, 'رسمه': -1, 'ونشر': -1, 'بمجلة': -1, 'Wordcup2022': -1, 'الراي': 1, 'مكفولة': 1, 'للجميع': 1, 'الكلمة': 1, 'بالكلمة': 1, 'بالحجب': 1, 'المنع': 1, 'الاقصا': 1, 'حقوق_الإنسان': 1, 'كتب_نادرة': -1, 'يرفع_لأول_مرة': -1, 'النت': -1, 'وارشيف': -1, 'وروادها': -1, 'العزيز': -1, 'الرشيد': -1, 'وثلاث': -1, 'مجلات': -1, 'تأليف': -1, 'الفتاح': -1, 'رحمه': -1, 'ط1': -1, '1402هـ': -1, '1982م': -1, '201صفحة': -1, 'رابطPDF': -1, 'تلجرام': -1, 'تسعى': -1, 'إعادة': -1, 'التيار': -1, 'الكهربائي': -1, 'لملايين': -1, 'الأوكرانيين': -1, 'صحافة_حول_العالم': -1, 'الصحافة_اليوم': -1, 'أخبار_الصحافة': -1, 'تحرص': -1, 'اتفاقيات': -1, 'عسكرية': -1, 'الإمارات': -1, 'الخارجية': -1, 'البريطاني': -1, 'يزور': -1, 'أوكرانيا': -1, 'ويعلن': -1, 'مساعدات': -1, 'أردوغان': -1, 'والأسد': -1, 'مسألة': -1, 'الناتو': -1, 'يزود': -1, 'بأجهزة': -1, 'لصد': -1, 'هجمات': -1, 'المسي': -1, 'رات': -1, 'الروسية': -1, 'غفير': -1, 'يحظى': -1, 'بحقيبة': -1, 'الأمن': -1, 'الداخلي': -1, 'مباحثات': -1, 'لتشكيل': -1, 'الورع': -1, 'يسأل': -1, 'يزعل': -1, 'الجواب': -1, 'أبي': -1, 'لرأيي': -1, 'رأيي': -1, 'الغريب': 1, 'واعلامي': 1, 'يعرف': 1, 'متى': 1, 'يتحدث': 1, 'ومتى': 1, 'والكل': 1, 'يشيد': 1, 'مهنيته': 1, 'وفجأة': 1, 'واصبح': 1, 'ينتقد': 1, 'النصر': 1, 'الطالعه': 1, 'والنازله': 1, 'طمعا': 1, 'الرد': 1, 'والرتويت': 1, 'وزياده': 1, 'فيك': 1, 'اهطل': 1, 'كسبت': -1, 'يسعى': -1, 'للأمانة': -1, 'والشفافية': -1, 'باللغات': -1, 'المختلفة': -1, 'وحتى': -1, 'الأفلام': -1, 'الوثائقية': -1, 'استحقت': -1, 'مكانتها': -1, 'المتفردة': -1, 'الصحيفة': -1, 'القناة': -1, 'الاذاعية': -1, 'التلفزيونية': -1, 'لأي': -1, 'صحافية': -1, 'قديمة': -1, 'كتغطية': -1, 'لحدث': -1, 'وخطأ': -1, 'امطار_جدة': -1, 'جده_الان': 0, 'وسائل': -1, 'المقابلات': -1, 'والإذاعية': -1, 'البيان': -1, 'الثقافة_العلمية': -1, 'التواصل_العلمي': -1, 'تطوير_مهارات': -1, 'وسائل_الإعلام': -1, 'البيان_الصحفي': -1, 'مقابلات_تلفزيونية': -1, 'مهارات': -1, 'مهارات_التواصل': -1, 'أرسكو': -1, 'مسؤولة': -1, 'والعمل': -1, 'مناصرة': -1, 'موسى_فقي': -1, 'الاتحاد_الافريقي': -1, 'يحضر': -1, 'لعقد': -1, 'الليبيين': -1, 'نواكب': -1, 'لنقل': -1, 'الحقيقة': -1, 'وتوثيقها': -1, 'بعدسة': -1, 'مصور_صحفي_هاشم_زمو': -1, 'استمرارية': 1, 'زعما': 1, 'الانهيار': 1, 'وصلوا': 1, 'إليه': 1, 'انهم': 1, 'مساهمون': 1, 'المليار': 1, 'الذهبي': 1, 'وتصريحاتهم': 1, 'ليست': 1, 'سوى': 1, 'بالاستمرار': 1, 'روسيا_اوكرانيا': 1, 'NATO': 1, 'السياسة': 1, 'تلونت': -1, 'الصحف': -1, 'الاماراتية': -1, 'الصادرة': -1, 'باللون': -1, 'احتفا': -1, 'بالانتصار': -1, 'التاريخي': -1, 'يحطم': -1, 'تعلن': -1, 'معارضتها': -1, 'ترامب': -1, 'الحزب': -1, 'الجمهوري': -1, 'يحاول': -1, 'استمالة': -1, 'يهود': -1, 'صادرات': -1, 'الأسلحة': -1, 'تسجل': -1, 'ارتفاعا': -1, 'ملحوظا': -1, 'نورد': -1, 'النفط': -1, 'سيفرضون': -1, 'سقفا': -1, 'الأسعار': -1, 'مستوطنون': -1, 'يقتحمون': -1, 'الأقصى': -1, 'بقيادة': -1, 'غليك': -1, 'وحملات': -1, 'الضفة': -1, 'الأوروبي': -1, 'للتوقف': -1, 'المقامرة': -1, 'النووية': -1, 'تلغراف': -1, 'سلمت': -1, 'صواريخ': -1, 'خارقة': -1, 'للمدنيين': -1, 'غادروا': -1, 'المحررة': -1, 'الشتا': -1, 'البنتاغون': -1, 'السلوك': -1, 'الخطير': -1, 'للطائرات': -1, 'العسكرية': -1, 'الصينية': -1, 'وأردوغان': -1, 'يقلبا': -1, 'الصفحة': -1, 'بهمومه': -1, 'تغلق': -1, 'وتعتقل': -1, 'عشرات': -1, 'الأجانب': -1, 'الاحتجاجات': -1, 'والإمارات': -1, 'تنفيان': -1, 'أوبك': -1, 'لزيادة': -1, 'إنتاج': -1, 'تطالب': 1, 'بسحب': 1, 'القرار': 1, 'يمنحها': 1, 'الحملة': 1, 'الانتخابية': 1, 'المنطقة_الشرقية': -1, 'محافظة_البيضا': -1, 'الإستدامة': -1, 'التنمية_المستدامة': -1, 'السلطات': -1, 'الإيرانية': -1, 'اضطرابات': -1, 'إنريكي': -1, 'ماكايا': -1, 'يغطي': -1, 'الانبهار': -1, 'الأردن': -1, 'جريدة_الدستور_الأردنية': -1, 'أخلاق': 1, 'ومفكرينها': 1, 'والأنكى': 1, 'Rachel': 1, 'Karam': 1, 'There': 1, 'lack': 1, 'morals': 1, 'consider': 1, 'freedom': 1, 'expression': 1, 'worst': 1, 'حقك_بإيدك': 1, 'حريةالتعبير': 1, 'حرية_الرأي': 1, 'صحافة_المواطن': 1, 'نطور': -1, 'مهاراتك': -1, 'طموحك': -1, 'تدريبية': -1, 'متخصصة': -1, 'للاعلام': -1, '9647710511549': -1, '9647714222234': -1, 'الفردوس': -1, 'الطابق': -1, 'السادس': -1, 'بالحثالة': -1, 'النقابة': -1, 'الوطنية': -1, 'للصحافة': -1, 'غاضبة': -1, 'فيدرالية': -1, 'الناشرين': -1, 'نصوت_للبحرين': -1, 'انتخابات_البحرين': -1, 'انتخابات_البحرين_2022': -1, 'انتخابات2022': -1, 'انتخابات': -1, 'الانتخابات_النيابية_2022': -1, 'الانتخابات_النيابية': -1, 'الانتخابات_البلدية_2022': -1, 'الانتخابات_البلدية': -1, 'المالية': -1, 'تجاره_الكترونية': -1, 'حرية_مالية': -1, 'مصادر_دخل': 0, 'إفتتاح': -1, 'بنواقشط': -1, 'الأجهزة_الكهرومنزلية_لإيريس': -1, 'تبهر': -1, 'الموريتانيين': -1, 'شحنتك': -1, 'ورحلة': -1, 'وصولها': -1, 'لعميلك': -1, 'خزائن_شتل': -1, 'الذكية': -1, 'وتعرف': -1, 'شتل': -1, 'شحن_سريع': -1, 'logistics': -1, 'iot': -1, 'نصائح': -1, 'الملياردير': 1, 'للشباب': 1, 'المشفى': -1, 'اماكن': -1, 'لتشليح': -1, 'سيارته': -1, 'ورجع': -1, 'عبيته': -1, 'عأيده': -1, 'ابنه': -1, 'المتوفي': -1, 'المشافي': -1, 'مسالخ': -1, 'الطب': -1, 'تجاره': -1, 'رساله': -1, 'التداول': -1, 'سهلا': -1, 'العوامل': -1, 'تتبعها': -1, 'المهم': -1, 'الانتباه': -1, 'النفس': -1, 'التجاري': -1, 'لأنه': -1, 'يؤثر': -1, 'قراراتك': -1, 'اقرأ': -1, 'مدونتنا': -1, 'تحيزات': -1, 'معرفية': -1, 'شائعة': -1, 'تؤثر': -1, 'نتائج': -1, 'الخاصة': -1, 'Iqoption': -1, 'trading': -1, 'Profit': -1, 'booked': -1, 'XAUUSD': -1, 'Get': -1, 'such': -1, 'profits': -1, 'Daily': -1, 'الربح': -1, 'بعملة': -1, 'احصل': -1, 'الارباح': -1, 'يوميا': -1, 'Join': -1, 'المؤشرات': -1, 'الإشارة': -1, 'المغرب_اسبانيا': -1, 'ملابس': -1, 'الاتحاد_الأوروبي': -1, 'غابات': -1, 'GBPCAD': -1, 'SELL': -1, '6645': -1, 'SL': -1, '6675': -1, 'TP': -1, '6400': -1, 'DM': -1, 'trade': -1, 'forexspain': -1, 'forexItaly': -1, 'forexUk': -1, 'forexGreece': -1, 'forexPoland': -1, 'forex': -1, 'الكويتيين_البدون': -1, 'فوركس': -1, 'إشارات': -1, 'بالنقاط': -1, 'اليابان_كرواتيا': 0, 'بانتظارك': -1, 'تسويق_الكتروني': -1, 'تصميم_ويب': -1, 'أمازون_السعودية': -1, 'شوبيفاي': -1, 'مثل_اليوم': -1, 'الواجب': -1, 'القيمة': -1, 'حزب_الله': -1, 'التيار_الوطني_الحر': -1, 'الى_يوم_الدين': -1, 'سهلناها': -1, 'عليك': -1, 'ادفع': -1, 'مشترياتك': -1, 'بالبطاقة': -1, 'الموردين': -1, 'فويزي': -1, 'يقر': -1, 'البعيد': -1, 'أشتري': -1, 'أغراض': -1, 'مطعمك': -1, 'أي': -1, 'منك': -1, 'أونلاين': -1, 'FoEzy': -1, 'App': -1, 'order': -1, 'KSA': -1, 'Buyonline': -1, 'Creative': -1, 'Giddam': -1, 'توصيل_طلبات': -1, 'Commeecial': -1, 'plot': -1, 'In': -1, 'shabiya': -1, 'musafah': -1, '50x70': -1, '325': -1, 'sqm': -1, 'Permit': -1, 'G': -1, 'musaffah': -1, 'عقارات': -1, 'Abu': -1, 'Dhabi': -1, 'United': -1, 'Arab': -1, 'Emirates': -1, 'USDJPY': -1, 'Forecast': -1, 'HTF': -1, 'bearish': -1, 'Waiting': -1, 'retracement': -1, 'premium': -1, 'Monitoring': -1, '4H': -1, 'Order': -1, 'closely': -1, 'Using': -1, 'Imbalances': -1, 'target': -1, 'For': -1, 'Signals': -1, 'Fxsignal': -1, 'بحضر': -1, 'بكون': -1, 'المتحدثين': -1, 'القائمين': -1, 'program': -1, 'لكل': -1, 'بوقت': -1, 'وموجود': -1, 'Traders': -1, 'tradingforex': -1, 'fxsignals': -1, 'freesignals': -1, 'silver': -1, 'Dowjones': -1, 'Gold': -1, 'oman': -1, 'uae': -1, 'jordan': -1, 'germany': -1, 'France': -1, 'forextrading': -1, 'forexmarket': -1, 'forexsignals': -1, 'كيو': -1, 'أون': -1, 'طورها': -1, 'بالحل': -1, 'الذكي': -1, 'solution': -1, 'Queue': -1, 'ON': -1, 'manage': -1, 'queue': -1, 'lists': -1, 'Saudi': -1, 'application': -1, 'queueon': -1, 'سهلناها_عليك': -1, 'تجارة_الكترونية': -1, 'حلول_ذكية': -1, 'التحول_الرقمي': -1, 'الرؤية2030': -1, 'telecommunications': -1, 'الربع': -1, 'وابوي': -1, 'فتحنا': -1, 'التجارة_الالكترونية': 0, 'إنت': -1, 'مبيعاتك': -1, 'ونحن': -1, 'نقوم': -1, 'بالباقي': -1, 'المعلومات': -1, 'بزيارة': -1, 'معنا': -1, 'الرقم': -1, 'التالي': -1, '00966571709510': -1, 'خدمات': -1, 'مالية': -1, 'ضريبةالقيمةالمضافة': -1, 'المحاسب_القانوني': -1, 'تعتزمان': -1, 'مفاوضات': -1, 'ثنائية': -1, 'المتوقع': -1, 'إبرامها': -1, 'بحلول': -1, '2023': -1, 'الأسواق_العربية': -1, 'Our': -1, 'Branches': -1, 'saudiarabia': -1, 'garlic': -1, 'ginger': -1, 'brand': -1, 'quality': -1, 'علامة_تجارية': -1, 'الدمام': -1, 'خميس_مشيط': -1, 'marketingdigital': -1, 'fruit': -1, 'vegetables': -1, 'تباطؤ': -1, 'أزمة': -1, 'كورونا': -1, 'لمزاولة': -1, 'الأنشطة': -1, 'المنزلية': -1, 'أخبار_عجمان': -1, 'اقتصادية_عجمان': -1, 'حكومة_عجمان': -1, 'BUY': -1, 'USOIL': -1, 'Above': -1, 'TP1': -1, '83': -1, 'TP2': -1, '84': -1, '81': -1, 'لمزيد': -1, 'الإشارات': -1, 'الحية': -1, 'انقر': -1, 'الارتباط': -1, 'والانضمام': -1, 'إلينا': -1, 'الفوركس_غير_المرخص': -1, 'سعوديه': -1, 'وزارة_الحج_والعمرة': -1, 'لطاقات': -1, 'الشبابية': -1, 'الحج': -1, 'والعمرة': -1, 'التطوع': -1, 'والعالمي': -1, 'للعاملين': -1, 'جمعية_طاقات_الشبابية': -1, 'مشاريع': -1, 'تنيمة': -1, 'مشاريع_خاصة': -1, 'أحذية': -1, 'رجالية': -1, 'جيدة': -1, 'التهوية': -1, 'وغير': -1, 'خانقة': -1, 'تخفيضات': -1, 'حصرية': -1, 'فرايدي': -1, 'الاسترجاع': -1, 'مجانا': -1, 'ايام': -1, 'الإرجاع': -1, 'والاستبدال': -1, 'التسوق': -1, 'مقاطعه_الكافيهات': -1, 'Digitize': -1, 'procurement': -1, 'Business': -1, 'supplies': -1, 'through': -1, 'FOEZY': -1, 'APP': -1, 'Download': -1, 'Foezy': -1, 'Google': -1, 'shopping': -1, 'NOW': -1, 'To': -1, 'Visit': -1, 'website': -1, 'الأرباح': -1, 'السهل': -1, 'الانجراف': -1, 'تبدأ': -1, 'التجارة': -1, 'لصالحك': -1, 'المفيد': -1, 'لديك': -1, 'المكان': -1, 'تريد': -1, 'تدع': -1, 'المربحة': -1, 'القوية': -1, 'تتحول': -1, 'Target': -1, 'More': -1, 'dax18': -1, 'dax40': -1, 'Uk100': -1, 'ftse': -1, 'europe': -1, 'italy': -1, 'Oro': -1, 'Todays': -1, 'Trade': -1, 'الإماراتاليوم': -1, 'توصيات': -1, 'مؤشراتمجانية': -1, 'عملاتنفط': -1, 'بيتكوي': -1, 'تداو': -1, 'تجارةفضة': -1, 'سيارات': -1, 'الفريق': -1, 'مشروعك': -1, 'اختر': -1, 'فريقك': -1, 'بعناية': -1, 'احرص': -1, 'الأقويا': -1, 'اعمالك': -1, 'التجارية': -1, 'النجاح': -1, 'المكتمل': -1, 'ريادة_الأعمال': -1, 'عملائك': -1, 'وخليها': -1, 'الحل': -1, 'الرؤية': -1, 'لاكثر': -1, 'وثقوا': -1, 'بنا': -1, 'ورشحونا': -1, 'ابدأ': -1, 'بتصفح': -1, 'الخدمات': -1, 'zid': -1, 'متجرالكتروني': -1, 'زد': -1, 'متاجرالكتروني': -1, 'هاشتاق_السعودية': -1, 'تسوق_اونلاين': -1, 'أربعة': -1, 'أسباب': -1, 'تجعل': -1, 'خيارا': -1, 'مثاليا': -1, 'الوقت': -1, 'الحالي': -1, 'التسويق': -1, 'إعلانات': -1, 'market': -1, 'marketingagency': -1, 'الايجار_التمويلي': -1, 'شركات_التمويل': -1, 'محام': -1, 'قضا': -1, 'عقود': -1, 'الايجار': -1, 'التمويلي': -1, 'المؤج': -1, 'باعتباره': -1, 'مالكا': -1, 'للأصل': -1, 'المكل': -1, 'بإجرا': -1, 'الأصل': -1, 'انتها': -1, 'العقد': -1, 'بتملك': -1, 'الاعمال': -1, 'والتجارة': -1, 'يتكلم': -1, 'وتشارك': -1, 'الملاحظ': -1, 'الايمان': -1, 'الحقيقي': -1, 'المبادئ': -1, 'الصحيحة': -1, 'المستوى': -1, 'ولذلك': -1, 'تطبيقها': -1, 'التاجر': -1, 'لايمكن': -1, 'تبتعد': -1, 'الامام': -1, 'منفردا': -1, 'ادارة_اعمال': -1, 'التسلسل': -1, 'الهرمي': -1, 'للشركات': -1, 'ومكوناته': -1, 'التسلسل_الهرمي': -1, 'شركات': -1, 'Corporate': -1, 'Hierarchy': -1, 'الهيكل': -1, 'التنظيمي': -1, 'لدى': -1, 'الشركات': -1, 'يعتمد': -1, 'الموظفين': -1, 'المنظمة': -1, 'هرمي': -1, 'ابذل': -1, 'عاطفتك': -1, 'لأهلك': -1, 'وإن': -1, 'يشاركوك': -1, 'أهدافك': -1, 'للجلوس': -1, 'معهم': -1, 'والحديث': -1, 'والأنس': -1, 'بهم': -1, 'لوالديك': -1, 'أخر': -1, 'حاجاتهم': -1, 'يتفوهوا': -1, 'بها': -1, 'السعادة': -1, 'العطا': -1, 'مطاعم': -1, 'وجدت': -1, 'المصلى': -1, 'الفاخر': -1, 'ودورات': -1, 'المياه': -1, 'والحقيقة': -1, 'يندر': -1, 'تجد': -1, 'مصلى': -1, 'بهذا': -1, 'تفعل': -1, 'لله': -1, 'فلتفعله': -1, 'كخدمة': -1, 'لزبائنك': -1, 'وجودة': -1, 'زيارتهم': -1, 'لنشاطك': -1, 'فالصلاة': -1, 'يومنا': -1, 'ومكانها': -1, 'تجربتنا': -1, 'الصادرات': -1, 'المحروقات': -1, 'بمينا': -1, 'مستغانم': -1, '_مستغانم': -1, 'economie': -1, 'Mostaganem': -1, 'الأدب': -1, 'ينتشر': -1, 'أسرع': -1, 'نصفه': -1, 'للتجارة': -1, 'ونصفه': -1, 'للفن': -1, 'الملعون': -1, 'واولا': -1, 'الطنافس': -1, 'الرجل': -1, 'ينهبنا': -1, 'مليارات': -1, 'بشمل': -1, 'اهتمامنا': -1, 'المخدرات': -1, 'جفران': -1, 'صغار': -1, 'يخزن': -1, 'بماية': -1, 'وغدا': -1, 'بمايتين': -1, 'وجاي': -1, 'تحدثني': -1, 'منتوج': -1, 'السوق': -1, 'كود_بار': -1, 'الترميز': -1, 'code_barre': -1, 'دبلوماسية': -1, 'فولاذ': -1, 'الع': -1, 'نبني': -1, 'تحتاجونه': -1, 'الحديد': -1, 'لأعمالكم': -1, 'العز': -1, 'تيوبات': -1, 'مبسطات': -1, 'زوايا': -1, 'جسور': -1, 'مجلفن': -1, 'مبزر': -1, 'أنواع': -1, '0561533119': -1, 'أحسن': -1, 'الأمن_العام': -1, 'بإستيعابه': -1, 'الظاهرة': -1, 'وقدم': -1, 'شرا': -1, 'السيارة': -1, 'المميزة': -1, 'مزاد_علني': -1, 'فبإمكان': -1, 'المواطن': -1, 'الحصول': -1, 'بأحرف': -1, 'وأرقام': -1, 'كمثل': -1, 'مخيفة': -1, 'الداخلية': -1, 'فلقد': -1, 'كانت': -1, 'سوق_سودا': -1, 'رجل_المرور': -1, 'يتأثر': -1, 'بسحر': -1, 'عمره': -1, 'أبل': -1, 'تضيف': -1, 'أجهزة': -1, 'لقائمة': -1, 'الأجهزة': -1, 'المتقادمة': -1, 'يعنيه': -1, 'IQ': -1, 'Option': -1, 'لنقدم': -1, 'منصتنا': -1, '___________': -1, 'المخاطر': -1, '79': -1, 'حسابات': -1, 'التجزئة': -1, 'CFD': -1, 'تخسر': -1, 'أموالا': -1, 'وزير_الصناعة': -1, 'يستقبل': -1, 'الأردني': -1, 'وزير_الصناعة_الأردني': -1, 'إقتصاد': -1, 'partnership': -1, 'economy': -1, 'Jordan': -1, 'للمستثمرين': -1, 'الفرص': -1, 'أسهم': -1, 'البحث': -1, 'إقتناص': -1, 'الممتازة': -1, 'الركود': -1, 'بكثير': -1, 'باضعاف': -1, 'عنها': -1, 'الطفرات': -1, 'الاسواق': -1, 'Update': -1, 'USDCHF': -1, 'HIT': -1, 'PIPS': -1, 'Taken': -1, 'Partial': -1, 'Profits': -1, 'Hope': -1, 'enjoyed': -1, 'trades': -1, 'CHF': -1, 'JPY': -1, 'GOLD': -1, 'adss': -1, 'icmarket': -1, 'etoro': -1, 'fxpro': -1, 'saxo': -1, 'eurusd': -1, 'eurgbp': -1, 'YEN': -1, 'GBP': -1, 'وزير_التجــارة': -1, 'السلع': -1, 'وغلق': -1, 'المحل': -1, 'للتجار': -1, 'يرفعون': -1, 'رزيق': -1, 'أسعار': -1, 'المنتجات_الفلاحية': -1, 'AlgeriePress': -1, 'commerce': -1, 'BELOW': -1, '135': -1, '134': -1, 'daily': -1, 'signals': -1, 'click': -1, 'join': -1, 'الفوركس': -1, 'xauusd': -1, 'مهمتنا': -1, 'جراي': -1, 'أمورك': -1, 'ومساعدتك': -1, 'لتجنب': -1, 'ضغوطات': -1, 'خزائن': -1, 'موجودة': -1, 'لتوف': -1, 'الراس': -1, 'وازعاج': -1, 'المندوب': -1, 'انسى': -1, 'الشحن': -1, 'القديمة': -1, 'واستلم': -1, 'شحناتك': -1, 'وبسعر': -1, 'shttle': -1, 'smart_lockers': -1, 'الكترونية': -1, 'متاجر_إلكترونية': -1, 'طاقات': -1, 'لاستثمار': -1, 'قدراتهم': -1, 'ومهاراتهم': -1, 'وتمكينهم': -1, 'استثمارها': -1, 'الوجه': -1, 'الأمثل': -1, 'الأكمل': -1, 'لماهو': -1, 'لدينهم': -1, 'ومجتمعاتهم': -1, 'signal': -1, 'NG': -1, 'comex': -1, 'details': -1, 'lin': -1, 'kand': -1, 'التوصيات': -1, 'وزير_التجارة': -1, 'أسعار_الخضر': -1, 'الفواكه': -1, 'تبقى': -1, 'التدخل': -1, 'لفرض': -1, 'محددة': -1, 'خر_الأخبار': -1, 'إرتفاع_الأسعار': -1, 'NATURAL': -1, 'GAS': -1, '02': -1, 'والربحية': -1, 'والفواكه': -1, 'أسعار_الفواكه': -1, 'ارتفاع_الأسعار': -1, 'العقار': -1, 'تعتمد': -1, 'البنيه': -1, 'التحتيه': -1, 'لانها': -1, 'بعيدا': -1, 'عوامل': -1, 'نفسيه': -1, 'للتاجر': -1, 'تجارة_العقار': 0, 'نقدم': -1, 'تقارير': -1, 'صلاحيات': -1, 'المنتجات': -1, 'والجرد': -1, 'البيانات': -1, 'وضمان': -1, 'أخذ': -1, 'الإجرا': -1, 'اللازمة': -1, 'بهدف': -1, 'العمل': -1, '966': -1, '222': -1, '9220': -1, '58': -1, '099': -1, '9619': -1, 'بمراسلتنا': -1, 'info@User': -1, 'المملكة_العربية_السعودية': -1, 'شريكك_في_النجاح': -1, 'منتجات': -1, 'ABOVE': -1, 'وزارة_التجارة': -1, 'فواتير': -1, 'وهمية': -1, 'ومزو': -1, 'رة': -1, 'بقيمة': -1, '2900': -1, '579': -1, 'الحدود': -1, 'قمع_الغش': -1, 'التبادل': -1, 'النفطي': -1, 'والكاميرون': -1, 'بنسبة': -1, 'سنوات': -1, 'مسبار_الاقتصادي': -1, 'يسوي': -1, 'الابعاد': -1, 'انصحك': -1, 'تجربه': -1, 'صناعة_المحتوى': -1, 'مشاريع_منزلية': -1, 'اعلانات': -1, 'الأعمال': -1, 'يبدأ': -1, 'بخطوة': -1, 'يمام_لريادة_الأعمال': -1, '1761': -1, '1755': -1, '1748': -1, '1775': -1, 'US30@': -1, '33840': -1, '33850': -1, '34050': -1, '34350': -1, '33700': -1, 'استثمارات': -1, 'بايدن': -1, 'ماكرون': -1, '1756': -1, '1751': -1, '1746': -1, 'سلطنةعمان': -1, 'دولةقطر': -1, 'DowJones': -1, 'WTI': -1, 'Europe': -1, 'Indices': -1, 'Italy': -1, 'Germany': -1, 'Oman': -1, 'Kuwait': -1, 'US': -1, 'Auksas': -1, 'Spain': -1, 'فريلانسر': -1, 'يعطي': -1, 'عملائه': -1, 'إلكترونية': -1, 'ومجاني': -1, '54': -1, 'إفريقية': -1, 'وعدة': -1, 'دول': -1, 'وأوروبية': -1, 'السيراميك_الجزائري': -1, 'السيراميك': -1, 'الاستمرار': -1, 'والمثابرة': -1, 'وعدم': -1, 'الاستسلام': -1, 'وإنجاز': -1, 'افكار': -1, 'علاقات_عامة': -1, 'progress': -1, 'ambition': -1, 'لقطات': -1, 'التكريم': -1, 'أثنا': -1, 'الندوة': -1, 'بعنوان': -1, 'أقام': -1, 'الحرم': -1, 'الجامعي': -1, 'الخوارزمي': -1, 'يسرنا': -1, 'بتقدمينا': -1, 'جزيل': -1, 'الشكر': -1, 'والتقدير': -1, 'معلمينا': -1, 'دكاترة': -1, 'قدموه': -1, 'مسيرتنا': -1, 'العلمية': -1, 'أحصل': -1, 'لمنتجات': -1, 'البيع': -1, 'بالجملة': -1, 'لأعمالك': -1, 'نقرات': -1, 'وابدأ': -1, 'التسو': -1, 'التنفيذ': -1, 'الفع': -1, 'للأعمال': -1, 'التفو': -1, 'والحفاظ': -1, 'تنافسية': -1, 'لذلك': -1, 'أقصر': -1, 'للنجاح': -1, 'بأدا': -1, 'الإيرادات': -1, 'تدبير_المتخصصة': -1, 'تسجيل_الحسابات': -1, 'مسك_دفاتر': -1, 'استشارات_مالية': -1, 'المواقع': -1, 'B2B': -1, 'B2C': -1, 'دعنا': -1, 'نصنع': -1, 'إكسبريس': -1, 'لدخول': -1, 'العالمية': -1, 'المبني': -1, 'الأنظمة': -1, 'والبرمجيات': -1, 'تجارة_إلكترونية': -1, 'متجري': -1, 'كيانك': -1, 'اسياسيات': -1, 'شغلك': -1, 'وأبدأ': -1, 'وزود': -1, 'دخلك': -1, 'هوية_تجارية': -1, 'قدام_يالأخضر': -1, 'الرياض_ال': -1, 'Riyadh': -1, 'Kingdom': -1, 'Of': -1, 'Arabia': -1, 'بتعرض': -1, 'خدماتك': -1, 'وتحتاج': -1, 'للخطابات': -1, 'الرسمية': -1, 'بتسهل': -1, 'وتختصر': -1, 'وقتك': -1, 'وجهدك': -1, 'الإعـلان': -1, 'يـصـنـع': -1, 'ميـزة': -1, 'للمـنـتـج': -1, 'إنـه': -1, 'فـقـط': -1, 'وسـيـلـة': -1, 'لإعـلام': -1, 'الـنـاس': -1, 'بـهـا': -1, 'بيرنباخ': -1, 'المدير': -1, 'الإبداعي': -1, 'دويل': -1, 'ماركيتير': -1, 'نحقق': -1, 'ماركيتيرلك': -1, 'تسويقرقمي': -1, 'تسويقإلكتروني': -1, 'تسويقالكتروني': -1, 'تسويقاونلاين': -1, 'تسويقبالمحتوى': -1, 'تجارةالكترونية': -1, 'قنوات': -1, 'وسناب': -1, 'شات': -1, 'taqat_sh': -1, '0546749503': -1, 'البريد': -1, 'تستخدم': -1, 'تطبيقات': -1, 'المراسلة': -1, 'المبيعات': -1, 'أنترنت': -1, 'Technology': -1, 'Apple': -1, 'iPhone': -1, 'SocialMedia': -1, 'AppsStore': -1, 'Application': -1, 'commerce_': -1, 'lectronique': -1, 'السط': -1, 'لبرنامج': -1, 'urpay': -1, 'ماتعرفها': -1, 'فلوس': -1, 'يفيدكم': -1, 'الشرح': -1, 'التطبيق': -1, 'حمله': -1, 'الرابط': -1, '1759': -1, '1752': -1, '1770': -1, 'حملوووه': -1, 'ويجيكم': -1, 'بالمحفضة': -1, 'قطر_السنغال': -1, 'يور_باي': -1, 'محمد_العويس': -1, 'سيا': -1, 'Right': -1, 'oil': -1, 'around': -1, 'marks': -1, 'Nearest': -1, 'observe': -1, '73': -1, 'Break': -1, 'below': -1, 'result': -1, 'weakness': -1, 'towards': -1, '71': -1, 'crudeoil': -1, 'wtioil': -1, 'fx': -1, 'تستمر': -1, 'إدارة': -1, 'الحساب': -1, 'نازداك': -1, 'داكس': -1, 'forextrader': -1, 'السياحة': -1, 'جورجيا': -1, 'العروض': -1, 'بأفضل': -1, 'ألأسعار': -1, 'واتساب': -1, '00995514205050': -1, 'تبليسى': -1, 'جورجيا_تبليسي': -1, 'عطلات': -1, 'رحلات_طوال_العام': -1, 'أحجز': -1, 'سياحية': -1, 'وأسأل': -1, 'هديتك': -1, '00995596355000': -1, 'اذربيجان': -1, 'للأستفسار': -1, '00995596366000': -1, 'فلاي': -1, 'شبكتها': -1, 'برحلات': -1, 'يومية': -1, 'بطرسبرج': -1, 'أخبار_السياحة': -1, 'فلاي_دبي': -1, 'يانغو': -1, 'لطلب': -1, 'الأجرة': -1, 'يتوسع': -1, 'المنطقة': -1, 'Trip': -1, 'Georgia': -1, 'What': -1, 'Car': -1, 'With': -1, 'Driver': -1, 'apartment': -1, 'Rent': -1, 'flats': -1, 'Reserve': -1, 'hotels': -1, 'بسمات': -1, 'تنتهي': -1, 'استثنائية': -1, 'دار_بسمة': -1, 'البخور': -1, 'والهدايا': -1, 'الترحيبية': -1, 'ولمسات': -1, 'الحداثة': -1, 'المطبخ': -1, 'الحساوي': -1, 'التقليدي': -1, 'على_فين': -1, 'منصة_أكثر': -1, 'tourism': -1, 'SaudiArab': -1, 'رحلات': -1, 'عوايل': -1, 'عوائل': -1, 'للحجز': -1, 'عروض': -1, 'عدستى': -1, 'باتومي': -1, 'المسافرون_العرب': -1, 'المسافرون': -1, 'سياحةوسفر': -1, 'جورجيا_بعيون_عربية': -1, 'السياحة_في_جورجيا': -1, 'Whats': -1, 'Cheapest': -1, 'Service': -1, 'سياحة_في_جورجيا': -1, 'تبليسي': -1, 'عروض_سياحية': -1, 'برنامجك': -1, 'السياحي': -1, 'برامج': -1, 'للأعداد': -1, 'جورجيا_كابيتال': -1, 'سفرك': -1, 'احتفالات': -1, 'رأس_السنة': -1, 'لاستقبال': -1, 'العام': -1, 'الجديد': -1, 'برحلة': -1, 'تنسى': -1, 'اسطنبول': -1, 'والاستمتاع': -1, 'بأجوا': -1, 'الفرح': -1, 'والنشاطات': -1, 'العائلية': -1, 'للاستفسار': -1, 'والحجز': -1, '00902124042000': -1, 'أجوا': -1, 'فنادق': -1, 'تقارير_مهن': -1, 'لغات': -1, 'لتأهيل': -1, 'وظائف': -1, 'تتطلب': -1, 'الشروط': -1, 'يسيرة': -1, 'صوره': -1, 'تجعلك': -1, 'بالسفر': -1, 'إندونيسيا': -1, 'كذلك': -1, 'تختار': -1, 'وجهتك': -1, 'مدن': -1, 'تتوجه': -1, 'يتألف': -1, 'الجزر': -1, 'تتميز': -1, 'بطبيعتها': -1, 'الساحرة': -1, 'والتي': -1, 'جنان': -1, 'السعوديه': -1, 'بلدنا': -1, 'وتستاهل': -1, 'يروح': -1, 'وأيضا': -1, 'سياحه': -1, 'عائلية': 1, '00994508225050': -1, 'ترقبوا': -1, 'أطلاق': -1, 'هويتنا': -1, 'سفريات_الملحم': -1, 'الاحسا': -1, 'الشرقية': -1, 'جولات': -1, 'الشمال': -1, 'التركي': -1, 'تنطلق': -1, 'اقامتكم': -1, 'حديثة': -1, 'مكيفة': -1, 'سائقين': -1, 'ذوي': -1, 'الأماكن': -1, 'السياحية': -1, 'توصيلات': -1, 'المقال': -1, 'قمم': -1, 'الجبال': -1, 'صورة_اليوم': -1, 'إقتصادي': -1, 'لمدة': -1, 'أيام': -1, 'بسعر': -1, 'ومناسب': -1, 'malaysia': -1, 'travel': -1, 'ميدل_بيست': -1, 'المظلة': -1, 'للتوظيف': -1, 'خدمة_العملا': -1, 'التفـاصيل': -1, 'مقتطفات': -1, 'رحلتنا': -1, 'لوادي': -1, 'الديسة': -1, 'الوجهة_الشمالية': -1, 'تبوك': -1, 'Tabuk': -1, 'Toyota': -1, 'Tours': -1, 'Hotels': -1, 'Apartments': -1, 'Reservation': -1, 'sim': -1, 'insurance': -1, 'الصيف': -1, 'الدم': 1, 'الاطعمه': 1, 'الغنيه': 1, 'بالحديد': 1, 'اللحم': 1, 'الاحمر': 1, 'السردين': 1, 'السبانخ': 1, 'وتناول': 1, 'اطعمه': 1, 'تحتوي': 1, 'ليساعد': 1, 'rsquo': -1, 'hash': -1, 'TOURS': -1, 'AROUND': -1, 'GEORGIA': -1, 'CONTACT': -1, 'WHATSAPP': -1, 'بسافر': -1, 'لرحلة': -1, 'ساعات': -1, 'اكت': -1, 'يارات': -1, 'فاهية': -1, 'حة': -1, 'Explore': -1, 'variety': -1, 'luxurious': -1, 'Suites': -1, 'Al': -1, 'Faisaliah': -1, 'فندق_الفيصلية': -1, 'أجمل': -1, 'وأحدث': -1, 'أنطاليا': -1, 'أضافية': -1, 'تشمل': -1, 'الطيران': -1, 'الاقلاع': -1, 'أقامة': -1, 'ليالي': -1, 'ومميز': -1, 'مواصلات': -1, 'خيارات': -1, 'الأستقبال': -1, 'المطار': -1, 'والأستفسار': -1, '0539098880': -1, 'تلفريك': -1, 'غابالا': -1, 'الفهد_للسياحة': -1, 'جواهر': -1, 'بالطبيعة': -1, 'الخلابة': -1, 'والمكان': -1, 'الجميل': -1, 'أذربيجان': -1, 'عوائد': -1, 'بالإمارات': -1, 'أبوظبي': -1, 'أجمل_شتا': -1, '_في_العالم': -1, 'إنتركونتيننتال': -1, 'يني': -1, 'كوليكشن': -1, 'لأول': -1, 'الأوسط': -1, 'بالسعودية': -1, 'Trips': -1, 'Families': -1, 'Youth': -1, 'cars': -1, 'Reception': -1, 'Tbilisi': -1, 'Airport': -1, 'Tourist': -1, 'guide': -1, 'يوم_التطوع_السعودي_والعالمي': -1, 'زهور_سعود': -1, 'شعورك_بكلمه': -1, 'المنصة': -1, 'للفعاليات': -1, 'المدينة': -1, 'والتابع': -1, 'لدائرة': -1, 'الاقتصاد': -1, 'والسياحة': -1, 'بدبي': -1, 'الفعاليات': -1, 'الثقافية': -1, 'والرياضية': -1, 'والترفيهية': -1, 'تقام': -1, 'فعاليات_دبي': -1, 'First': -1, 'Cliff': -1, 'Walk': -1, 'Switzerland': -1, 'switzerland': -1, 'nature': -1, 'view': -1, 'mountains': -1, 'greenery': -1, 'جبال': -1, 'مناظر': -1, 'أستمتع': -1, 'معانا': -1, 'بعروض': -1, 'tixs': -1, 'Sarajevo': -1, 'Bosnia': -1, 'سراييفو': -1, 'البوسنة': -1, 'استشارات': -1, 'أجار': -1, 'مقاولات': -1, 'ادارة_املاك': -1, 'تأجير': -1, 'بوقريص': -1, '0096599849034': -1, 'ilid': -1, 'sarajevo': -1, 'bosnia': -1, 'إسطنبول': -1, 'يحتل': -1, 'المركز': -1, 'المطارات': -1, 'الأكثر': -1, 'ازدحاما': -1, 'أوربا': -1, 'اليومية': -1, 'بحسب': -1, 'EUROCONTROL': -1, 'ويضيف': -1, '1210': -1, 'الفترة': -1, 'والأول': -1, 'الجاري': -1, 'المجموعة_العربية': -1, 'مطار_اسطنبول': -1, 'خلابة': -1, 'للطبيعة': -1, 'الجبلية': -1, 'حسمى': -1, 'أرخص': -1, 'الفنادق': -1, 'الأوروبية': -1, 'بتفيدك': -1, 'تسافر': -1, 'سفر_سياحة': -1, 'السفر': -1, 'cheapest': -1, 'للتواصل': -1, 'rlm': -1, 'georgia': -1, 'Whatsapp': -1, '00995558205050': -1, 'driver': -1, 'جبال_قوقاز': -1, 'الحضارة': -1, 'والمستقبل': -1, 'ساحرة': -1, 'لجولتنا': -1, 'لمشاهدة': -1, 'الحلقة': -1, 'كاملة': -1, 'Do': -1, 'spend': -1, 'vacation': -1, 'Contact': -1, 'advantage': -1, 'discounts': -1, 'Travel': -1, 'easier': -1, 'خدمات_سياحية': -1, 'الخيارات': -1, 'سائحون': -1, 'يجدون': -1, 'فنزويلية': -1, 'وجهتهم': -1, 'المنشودة': -1, 'فنزويلا': -1}\n"
     ]
    }
   ],
   "source": [
    "tweets = open(\"/kaggle/working/clean_tweets.txt\", 'r', encoding=\"utf-8\")\n",
    "sentiments = open(\"/kaggle/working/3_sentiment.txt\", 'r', encoding=\"utf-8\")\n",
    "result = open(\"/kaggle/working/3_stdout.txt\", 'w', encoding=\"utf-8\")\n",
    "\n",
    "tweets_scores = sentiments.read().split('\\n')\n",
    "word_score = None\n",
    "for word in newWords.keys():\n",
    "    word_score = 0\n",
    "    index = 0\n",
    "    for line in tweets:\n",
    "        line = line.split(' ')\n",
    "        if word in line:\n",
    "            word_score += float(tweets_scores[index].strip())\n",
    "        index += 1\n",
    "    if word_score > 0:\n",
    "        newWords[word] = 1\n",
    "    elif word_score < 0:\n",
    "        newWords[word] = -1\n",
    "    else:\n",
    "        newWords[word] = 0\n",
    "    result.write(word +' '+ str(newWords[word]) +'\\n')\n",
    "    tweets.seek(0)\n",
    "tweets.close()\n",
    "print(newWords)"
   ]
  },
  {
   "cell_type": "markdown",
   "id": "712e1dd1",
   "metadata": {
    "papermill": {
     "duration": 0.011958,
     "end_time": "2022-12-21T14:12:28.886433",
     "exception": false,
     "start_time": "2022-12-21T14:12:28.874475",
     "status": "completed"
    },
    "tags": []
   },
   "source": [
    "## 3- feature extraction\n",
    "- N-grams are continuous sequences of words or symbols or tokens in a document.\n",
    "- They come into play when we deal with text data in NLP(Natural Language Processing) tasks.\n",
    "- من البيانات التي قمنا بإنشائها وتصفيتها feature نعمل هنا على استخراج ال "
   ]
  },
  {
   "cell_type": "code",
   "execution_count": 8,
   "id": "c571d6ab",
   "metadata": {
    "execution": {
     "iopub.execute_input": "2022-12-21T14:12:28.912977Z",
     "iopub.status.busy": "2022-12-21T14:12:28.912466Z",
     "iopub.status.idle": "2022-12-21T14:12:29.020144Z",
     "shell.execute_reply": "2022-12-21T14:12:29.018729Z"
    },
    "papermill": {
     "duration": 0.12508,
     "end_time": "2022-12-21T14:12:29.023612",
     "exception": false,
     "start_time": "2022-12-21T14:12:28.898532",
     "status": "completed"
    },
    "tags": []
   },
   "outputs": [],
   "source": [
    "tweets = open(\"/kaggle/working/clean_tweets.txt\", 'r', encoding=\"utf-8\")\n",
    "afinnfile = open(\"/kaggle/input/sentiment-arabic-tweets/3_Afinne_arabic.csv\", 'r', encoding=\"utf-8\")\n",
    "f = open(\"/kaggle/working/featuresAndLabels.csv\", 'w',newline='',encoding='utf-8-sig')\n",
    "writer = csv.writer(f)\n",
    "\n",
    "scores = {} # initialize an empty dictionary\n",
    "for line in afinnfile:\n",
    "    line = line.strip()\n",
    "    term = line.split(',')[0]\n",
    "    score = line.split(',')[1]\n",
    "    try:\n",
    "        scores[term] = float(score) # Conver the score to an integer. It was parsed as a string.\n",
    "    except:\n",
    "        None\n",
    "afinnfile.close()\n",
    "\n",
    "# Function to extract lexicon items\n",
    "def extract(g, lex):\n",
    "    if ' '.join(g) in lex.keys():\n",
    "        return lex.get(' '.join(g))\n",
    "    elif g[0] in lex.keys():\n",
    "        return lex.get(g[0])\n",
    "    else:\n",
    "        pass\n",
    "\n",
    "# Your task\n",
    "mylist = list()\n",
    "mylist.append(['tweet', 'feature'])\n",
    "for line in tweets:\n",
    "    line = line.strip()\n",
    "    out = [extract(g, scores) for g in ngrams(line.split(), 2) if extract(g, scores)]\n",
    "    out = sum(out)\n",
    "    if out > 0:\n",
    "        mylist.append([line,\"positive\"])\n",
    "    elif out < 0:\n",
    "        mylist.append([line,\"negative\"])\n",
    "    else:\n",
    "        mylist.append([line,\"neutral\"])\n",
    "writer.writerows(mylist)\n",
    "tweets.close()\n",
    "f.close()"
   ]
  },
  {
   "cell_type": "markdown",
   "id": "058771e4",
   "metadata": {
    "papermill": {
     "duration": 0.013067,
     "end_time": "2022-12-21T14:12:29.049445",
     "exception": false,
     "start_time": "2022-12-21T14:12:29.036378",
     "status": "completed"
    },
    "tags": []
   },
   "source": [
    "## 4- Training and Testing By SVM\n",
    "-  للتأكد أن البيانات التي سنقوم بتدريبها صحيحة ،feature نقوم باستخدام بيانات جاهزة لاستخراج ال"
   ]
  },
  {
   "cell_type": "code",
   "execution_count": 9,
   "id": "80495f4f",
   "metadata": {
    "execution": {
     "iopub.execute_input": "2022-12-21T14:12:29.077101Z",
     "iopub.status.busy": "2022-12-21T14:12:29.075785Z",
     "iopub.status.idle": "2022-12-21T14:12:31.011307Z",
     "shell.execute_reply": "2022-12-21T14:12:31.009878Z"
    },
    "papermill": {
     "duration": 1.952775,
     "end_time": "2022-12-21T14:12:31.014641",
     "exception": false,
     "start_time": "2022-12-21T14:12:29.061866",
     "status": "completed"
    },
    "tags": []
   },
   "outputs": [
    {
     "name": "stdout",
     "output_type": "stream",
     "text": [
      "Accuracy score is 0.56\n",
      "              precision    recall  f1-score   support\n",
      "\n",
      "          -1       0.52      0.49      0.50       171\n",
      "           0       0.58      0.57      0.58       207\n",
      "           1       0.57      0.60      0.59       222\n",
      "\n",
      "    accuracy                           0.56       600\n",
      "   macro avg       0.56      0.55      0.56       600\n",
      "weighted avg       0.56      0.56      0.56       600\n",
      "\n"
     ]
    }
   ],
   "source": [
    "df = pd.read_csv('/kaggle/input/sentiment-arabic-tweets/4_AT-ODTSA_Dataset_RawDataV1-1.csv')\n",
    "X=df['tweet'].values\n",
    "y=df['sentiment'].values\n",
    "\n",
    "# Split the tweets into a training set and a test set\n",
    "X_train, X_test, y_train, y_test = train_test_split(df['tweet'], df['sentiment'], test_size=0.2)\n",
    "\n",
    "# Convert the tweets into numerical features\n",
    "vectorizer = CountVectorizer()\n",
    "vectorizer.fit(X_train)\n",
    "X_train = vectorizer.transform(X_train)\n",
    "X_test = vectorizer.transform(X_test)\n",
    "\n",
    "# Train the SVM model\n",
    "model = SVC(kernel='linear')\n",
    "model.fit(X_train, y_train)\n",
    "\n",
    "# Test the model on the test set\n",
    "y_pred = model.predict(X_test)\n",
    "\n",
    "# Evaluate the model\n",
    "accuracy = sum(y_pred == y_test) / len(y_test)\n",
    "print(f\"Accuracy score is {accuracy_score(y_test, y_pred):.2f}\")\n",
    "print(classification_report(y_test, y_pred))"
   ]
  },
  {
   "cell_type": "markdown",
   "id": "dcede315",
   "metadata": {
    "papermill": {
     "duration": 0.011604,
     "end_time": "2022-12-21T14:12:31.039219",
     "exception": false,
     "start_time": "2022-12-21T14:12:31.027615",
     "status": "completed"
    },
    "tags": []
   },
   "source": [
    "## 5- Drow scatter plot"
   ]
  },
  {
   "cell_type": "code",
   "execution_count": 10,
   "id": "dd7e73c9",
   "metadata": {
    "execution": {
     "iopub.execute_input": "2022-12-21T14:12:31.065898Z",
     "iopub.status.busy": "2022-12-21T14:12:31.064800Z",
     "iopub.status.idle": "2022-12-21T14:12:32.305584Z",
     "shell.execute_reply": "2022-12-21T14:12:32.304638Z"
    },
    "papermill": {
     "duration": 1.256925,
     "end_time": "2022-12-21T14:12:32.308093",
     "exception": false,
     "start_time": "2022-12-21T14:12:31.051168",
     "status": "completed"
    },
    "tags": []
   },
   "outputs": [
    {
     "data": {
      "text/plain": [
       "<matplotlib.collections.PathCollection at 0x7f5840342cd0>"
      ]
     },
     "execution_count": 10,
     "metadata": {},
     "output_type": "execute_result"
    },
    {
     "data": {
      "image/png": "[encoded data removed]",
      "text/plain": [
       "<Figure size 432x288 with 1 Axes>"
      ]
     },
     "metadata": {},
     "output_type": "display_data"
    }
   ],
   "source": [
    "def polarity(text):\n",
    "    return TextBlob(text).sentiment.polarity\n",
    "df['polarity'] = df['tweet'].apply(polarity)\n",
    "X = df['polarity']\n",
    "y = df['sentiment']\n",
    "plt.scatter(X, y, c=y, s=150, cmap='RdYlGn')"
   ]
  },
  {
   "cell_type": "code",
   "execution_count": null,
   "id": "d8b53914",
   "metadata": {
    "papermill": {
     "duration": 0.013094,
     "end_time": "2022-12-21T14:12:32.334456",
     "exception": false,
     "start_time": "2022-12-21T14:12:32.321362",
     "status": "completed"
    },
    "tags": []
   },
   "outputs": [],
   "source": []
  }
 ],
 "metadata": {
  "kernelspec": {
   "display_name": "Python 3",
   "language": "python",
   "name": "python3"
  },
  "language_info": {
   "codemirror_mode": {
    "name": "ipython",
    "version": 3
   },
   "file_extension": ".py",
   "mimetype": "text/x-python",
   "name": "python",
   "nbconvert_exporter": "python",
   "pygments_lexer": "ipython3",
   "version": "3.7.12"
  },
  "papermill": {
   "default_parameters": {},
   "duration": 77.758296,
   "end_time": "2022-12-21T14:12:33.573853",
   "environment_variables": {},
   "exception": null,
   "input_path": "__notebook__.ipynb",
   "output_path": "__notebook__.ipynb",
   "parameters": {},
   "start_time": "2022-12-21T14:11:15.815557",
   "version": "2.3.4"
  }
 },
 "nbformat": 4,
 "nbformat_minor": 5
}
