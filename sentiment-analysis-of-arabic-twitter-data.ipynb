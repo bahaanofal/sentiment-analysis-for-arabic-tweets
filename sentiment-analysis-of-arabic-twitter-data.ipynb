{
 "cells": [
  {
   "cell_type": "markdown",
   "id": "d467ba4a",
   "metadata": {
    "papermill": {
     "duration": 0.006364,
     "end_time": "2022-12-16T22:38:15.390704",
     "exception": false,
     "start_time": "2022-12-16T22:38:15.384340",
     "status": "completed"
    },
    "tags": []
   },
   "source": [
    "# Sentiment Analysis of Twitter Data"
   ]
  },
  {
   "cell_type": "markdown",
   "id": "30fe89ac",
   "metadata": {
    "papermill": {
     "duration": 0.00485,
     "end_time": "2022-12-16T22:38:15.400879",
     "exception": false,
     "start_time": "2022-12-16T22:38:15.396029",
     "status": "completed"
    },
    "tags": []
   },
   "source": [
    "### installing required libraries\n",
    "twint library used for colliction data from twitter without API."
   ]
  },
  {
   "cell_type": "code",
   "execution_count": 1,
   "id": "b03d8c8d",
   "metadata": {
    "execution": {
     "iopub.execute_input": "2022-12-16T22:38:15.413690Z",
     "iopub.status.busy": "2022-12-16T22:38:15.412934Z",
     "iopub.status.idle": "2022-12-16T22:39:04.293835Z",
     "shell.execute_reply": "2022-12-16T22:39:04.292712Z"
    },
    "papermill": {
     "duration": 48.890312,
     "end_time": "2022-12-16T22:39:04.296592",
     "exception": false,
     "start_time": "2022-12-16T22:38:15.406280",
     "status": "completed"
    },
    "tags": []
   },
   "outputs": [
    {
     "name": "stdout",
     "output_type": "stream",
     "text": [
      "Collecting twint\r\n",
      "  Downloading twint-2.1.20.tar.gz (31 kB)\r\n",
      "  Preparing metadata (setup.py) ... \u001b[?25l-\b \bdone\r\n",
      "\u001b[?25hRequirement already satisfied: aiohttp in /opt/conda/lib/python3.7/site-packages (from twint) (3.8.1)\r\n",
      "Collecting aiodns\r\n",
      "  Downloading aiodns-3.0.0-py3-none-any.whl (5.0 kB)\r\n",
      "Requirement already satisfied: beautifulsoup4 in /opt/conda/lib/python3.7/site-packages (from twint) (4.11.1)\r\n",
      "Collecting cchardet\r\n",
      "  Downloading cchardet-2.1.7-cp37-cp37m-manylinux2010_x86_64.whl (263 kB)\r\n",
      "\u001b[2K     \u001b[90m━━━━━━━━━━━━━━━━━━━━━━━━━━━━━━━━━━━━━\u001b[0m \u001b[32m263.7/263.7 kB\u001b[0m \u001b[31m656.3 kB/s\u001b[0m eta \u001b[36m0:00:00\u001b[0m\r\n",
      "\u001b[?25hCollecting elasticsearch\r\n",
      "  Downloading elasticsearch-8.5.3-py3-none-any.whl (385 kB)\r\n",
      "\u001b[2K     \u001b[90m━━━━━━━━━━━━━━━━━━━━━━━━━━━━━━━━━━━━━━━\u001b[0m \u001b[32m385.3/385.3 kB\u001b[0m \u001b[31m1.9 MB/s\u001b[0m eta \u001b[36m0:00:00\u001b[0m\r\n",
      "\u001b[?25hRequirement already satisfied: pysocks in /opt/conda/lib/python3.7/site-packages (from twint) (1.7.1)\r\n",
      "Requirement already satisfied: pandas in /opt/conda/lib/python3.7/site-packages (from twint) (1.3.5)\r\n",
      "Collecting aiohttp_socks\r\n",
      "  Downloading aiohttp_socks-0.7.1-py3-none-any.whl (9.3 kB)\r\n",
      "Collecting schedule\r\n",
      "  Downloading schedule-1.1.0-py2.py3-none-any.whl (10 kB)\r\n",
      "Requirement already satisfied: geopy in /opt/conda/lib/python3.7/site-packages (from twint) (2.2.0)\r\n",
      "Collecting fake-useragent\r\n",
      "  Downloading fake_useragent-1.1.1-py3-none-any.whl (50 kB)\r\n",
      "\u001b[2K     \u001b[90m━━━━━━━━━━━━━━━━━━━━━━━━━━━━━━━━━━━━━━━━\u001b[0m \u001b[32m50.4/50.4 kB\u001b[0m \u001b[31m4.4 MB/s\u001b[0m eta \u001b[36m0:00:00\u001b[0m\r\n",
      "\u001b[?25hCollecting googletransx\r\n",
      "  Downloading googletransx-2.4.2.tar.gz (13 kB)\r\n",
      "  Preparing metadata (setup.py) ... \u001b[?25l-\b \bdone\r\n",
      "\u001b[?25hCollecting pycares>=4.0.0\r\n",
      "  Downloading pycares-4.3.0-cp37-cp37m-manylinux_2_17_x86_64.manylinux2014_x86_64.whl (288 kB)\r\n",
      "\u001b[2K     \u001b[90m━━━━━━━━━━━━━━━━━━━━━━━━━━━━━━━━━━━━━━━\u001b[0m \u001b[32m288.1/288.1 kB\u001b[0m \u001b[31m6.4 MB/s\u001b[0m eta \u001b[36m0:00:00\u001b[0m\r\n",
      "\u001b[?25hRequirement already satisfied: asynctest==0.13.0 in /opt/conda/lib/python3.7/site-packages (from aiohttp->twint) (0.13.0)\r\n",
      "Requirement already satisfied: multidict<7.0,>=4.5 in /opt/conda/lib/python3.7/site-packages (from aiohttp->twint) (6.0.2)\r\n",
      "Requirement already satisfied: yarl<2.0,>=1.0 in /opt/conda/lib/python3.7/site-packages (from aiohttp->twint) (1.7.2)\r\n",
      "Requirement already satisfied: attrs>=17.3.0 in /opt/conda/lib/python3.7/site-packages (from aiohttp->twint) (21.4.0)\r\n",
      "Requirement already satisfied: charset-normalizer<3.0,>=2.0 in /opt/conda/lib/python3.7/site-packages (from aiohttp->twint) (2.1.0)\r\n",
      "Requirement already satisfied: frozenlist>=1.1.1 in /opt/conda/lib/python3.7/site-packages (from aiohttp->twint) (1.3.0)\r\n",
      "Requirement already satisfied: async-timeout<5.0,>=4.0.0a3 in /opt/conda/lib/python3.7/site-packages (from aiohttp->twint) (4.0.2)\r\n",
      "Requirement already satisfied: typing-extensions>=3.7.4 in /opt/conda/lib/python3.7/site-packages (from aiohttp->twint) (4.4.0)\r\n",
      "Requirement already satisfied: aiosignal>=1.1.2 in /opt/conda/lib/python3.7/site-packages (from aiohttp->twint) (1.2.0)\r\n",
      "Collecting python-socks[asyncio]<3.0.0,>=2.0.0\r\n",
      "  Downloading python_socks-2.0.3-py3-none-any.whl (49 kB)\r\n",
      "\u001b[2K     \u001b[90m━━━━━━━━━━━━━━━━━━━━━━━━━━━━━━━━━━━━━━━━\u001b[0m \u001b[32m49.2/49.2 kB\u001b[0m \u001b[31m4.5 MB/s\u001b[0m eta \u001b[36m0:00:00\u001b[0m\r\n",
      "\u001b[?25hRequirement already satisfied: soupsieve>1.2 in /opt/conda/lib/python3.7/site-packages (from beautifulsoup4->twint) (2.3.1)\r\n",
      "Collecting elastic-transport<9,>=8\r\n",
      "  Downloading elastic_transport-8.4.0-py3-none-any.whl (59 kB)\r\n",
      "\u001b[2K     \u001b[90m━━━━━━━━━━━━━━━━━━━━━━━━━━━━━━━━━━━━━━━━\u001b[0m \u001b[32m59.5/59.5 kB\u001b[0m \u001b[31m4.4 MB/s\u001b[0m eta \u001b[36m0:00:00\u001b[0m\r\n",
      "\u001b[?25hRequirement already satisfied: importlib-resources>=5.0 in /opt/conda/lib/python3.7/site-packages (from fake-useragent->twint) (5.8.0)\r\n",
      "Requirement already satisfied: importlib-metadata~=4.0 in /opt/conda/lib/python3.7/site-packages (from fake-useragent->twint) (4.13.0)\r\n",
      "Requirement already satisfied: geographiclib<2,>=1.49 in /opt/conda/lib/python3.7/site-packages (from geopy->twint) (1.52)\r\n",
      "Requirement already satisfied: requests in /opt/conda/lib/python3.7/site-packages (from googletransx->twint) (2.28.1)\r\n",
      "Requirement already satisfied: python-dateutil>=2.7.3 in /opt/conda/lib/python3.7/site-packages (from pandas->twint) (2.8.2)\r\n",
      "Requirement already satisfied: pytz>=2017.3 in /opt/conda/lib/python3.7/site-packages (from pandas->twint) (2022.1)\r\n",
      "Requirement already satisfied: numpy>=1.17.3 in /opt/conda/lib/python3.7/site-packages (from pandas->twint) (1.21.6)\r\n",
      "Requirement already satisfied: urllib3<2,>=1.26.2 in /opt/conda/lib/python3.7/site-packages (from elastic-transport<9,>=8->elasticsearch->twint) (1.26.12)\r\n",
      "Requirement already satisfied: certifi in /opt/conda/lib/python3.7/site-packages (from elastic-transport<9,>=8->elasticsearch->twint) (2022.9.24)\r\n",
      "Requirement already satisfied: zipp>=0.5 in /opt/conda/lib/python3.7/site-packages (from importlib-metadata~=4.0->fake-useragent->twint) (3.8.0)\r\n",
      "Requirement already satisfied: cffi>=1.5.0 in /opt/conda/lib/python3.7/site-packages (from pycares>=4.0.0->aiodns->twint) (1.15.0)\r\n",
      "Requirement already satisfied: six>=1.5 in /opt/conda/lib/python3.7/site-packages (from python-dateutil>=2.7.3->pandas->twint) (1.15.0)\r\n",
      "Requirement already satisfied: idna>=2.0 in /opt/conda/lib/python3.7/site-packages (from yarl<2.0,>=1.0->aiohttp->twint) (3.3)\r\n",
      "Requirement already satisfied: pycparser in /opt/conda/lib/python3.7/site-packages (from cffi>=1.5.0->pycares>=4.0.0->aiodns->twint) (2.21)\r\n",
      "Building wheels for collected packages: twint, googletransx\r\n",
      "  Building wheel for twint (setup.py) ... \u001b[?25l-\b \b\\\b \bdone\r\n",
      "\u001b[?25h  Created wheel for twint: filename=twint-2.1.20-py3-none-any.whl size=33929 sha256=d094230aa05edde1293f5a331d158f650b683b16fcc9c6933f39d85de847ad09\r\n",
      "  Stored in directory: /root/.cache/pip/wheels/44/fc/77/99887a36b5c265a87516158858697d1a0b8f32c4d4dbddbb24\r\n",
      "  Building wheel for googletransx (setup.py) ... \u001b[?25l-\b \b\\\b \bdone\r\n",
      "\u001b[?25h  Created wheel for googletransx: filename=googletransx-2.4.2-py3-none-any.whl size=15968 sha256=fda06284cf70cb169939ee220fa5a8740b32fc917ce4cf672da0dcfa483f9280\r\n",
      "  Stored in directory: /root/.cache/pip/wheels/66/d5/b1/31104b338f7fd45aa8f7d22587765db06773b13df48a89735f\r\n",
      "Successfully built twint googletransx\r\n",
      "Installing collected packages: python-socks, cchardet, schedule, elastic-transport, pycares, googletransx, fake-useragent, elasticsearch, aiohttp_socks, aiodns, twint\r\n",
      "Successfully installed aiodns-3.0.0 aiohttp_socks-0.7.1 cchardet-2.1.7 elastic-transport-8.4.0 elasticsearch-8.5.3 fake-useragent-1.1.1 googletransx-2.4.2 pycares-4.3.0 python-socks-2.0.3 schedule-1.1.0 twint-2.1.20\r\n",
      "\u001b[33mWARNING: Running pip as the 'root' user can result in broken permissions and conflicting behaviour with the system package manager. It is recommended to use a virtual environment instead: https://pip.pypa.io/warnings/venv\u001b[0m\u001b[33m\r\n",
      "\u001b[0mCollecting twint\r\n",
      "  Cloning https://github.com/twintproject/twint.git (to revision origin/master) to /tmp/pip-install-49wumfhs/twint_8a5064e9d879454aaf3b798e4fdf97b8\r\n",
      "  Running command git clone --filter=blob:none --quiet https://github.com/twintproject/twint.git /tmp/pip-install-49wumfhs/twint_8a5064e9d879454aaf3b798e4fdf97b8\r\n",
      "\u001b[33m  WARNING: Did not find branch or tag 'origin/master', assuming revision or ref.\u001b[0m\u001b[33m\r\n",
      "\u001b[0m  Running command git checkout -q origin/master\r\n",
      "  Resolved https://github.com/twintproject/twint.git to commit origin/master\r\n",
      "  Preparing metadata (setup.py) ... \u001b[?25l-\b \bdone\r\n",
      "\u001b[?25hRequirement already satisfied: aiohttp in /opt/conda/lib/python3.7/site-packages (from twint) (3.8.1)\r\n",
      "Requirement already satisfied: aiodns in /opt/conda/lib/python3.7/site-packages (from twint) (3.0.0)\r\n",
      "Requirement already satisfied: beautifulsoup4 in /opt/conda/lib/python3.7/site-packages (from twint) (4.11.1)\r\n",
      "Requirement already satisfied: cchardet in /opt/conda/lib/python3.7/site-packages (from twint) (2.1.7)\r\n",
      "Requirement already satisfied: dataclasses in /opt/conda/lib/python3.7/site-packages (from twint) (0.8)\r\n",
      "Requirement already satisfied: elasticsearch in /opt/conda/lib/python3.7/site-packages (from twint) (8.5.3)\r\n",
      "Requirement already satisfied: pysocks in /opt/conda/lib/python3.7/site-packages (from twint) (1.7.1)\r\n",
      "Requirement already satisfied: pandas in /opt/conda/lib/python3.7/site-packages (from twint) (1.3.5)\r\n",
      "Requirement already satisfied: aiohttp_socks in /opt/conda/lib/python3.7/site-packages (from twint) (0.7.1)\r\n",
      "Requirement already satisfied: schedule in /opt/conda/lib/python3.7/site-packages (from twint) (1.1.0)\r\n",
      "Requirement already satisfied: geopy in /opt/conda/lib/python3.7/site-packages (from twint) (2.2.0)\r\n",
      "Requirement already satisfied: fake-useragent in /opt/conda/lib/python3.7/site-packages (from twint) (1.1.1)\r\n",
      "Requirement already satisfied: googletransx in /opt/conda/lib/python3.7/site-packages (from twint) (2.4.2)\r\n",
      "Requirement already satisfied: pycares>=4.0.0 in /opt/conda/lib/python3.7/site-packages (from aiodns->twint) (4.3.0)\r\n",
      "Requirement already satisfied: async-timeout<5.0,>=4.0.0a3 in /opt/conda/lib/python3.7/site-packages (from aiohttp->twint) (4.0.2)\r\n",
      "Requirement already satisfied: attrs>=17.3.0 in /opt/conda/lib/python3.7/site-packages (from aiohttp->twint) (21.4.0)\r\n",
      "Requirement already satisfied: multidict<7.0,>=4.5 in /opt/conda/lib/python3.7/site-packages (from aiohttp->twint) (6.0.2)\r\n",
      "Requirement already satisfied: yarl<2.0,>=1.0 in /opt/conda/lib/python3.7/site-packages (from aiohttp->twint) (1.7.2)\r\n",
      "Requirement already satisfied: charset-normalizer<3.0,>=2.0 in /opt/conda/lib/python3.7/site-packages (from aiohttp->twint) (2.1.0)\r\n",
      "Requirement already satisfied: asynctest==0.13.0 in /opt/conda/lib/python3.7/site-packages (from aiohttp->twint) (0.13.0)\r\n",
      "Requirement already satisfied: typing-extensions>=3.7.4 in /opt/conda/lib/python3.7/site-packages (from aiohttp->twint) (4.4.0)\r\n",
      "Requirement already satisfied: frozenlist>=1.1.1 in /opt/conda/lib/python3.7/site-packages (from aiohttp->twint) (1.3.0)\r\n",
      "Requirement already satisfied: aiosignal>=1.1.2 in /opt/conda/lib/python3.7/site-packages (from aiohttp->twint) (1.2.0)\r\n",
      "Requirement already satisfied: python-socks[asyncio]<3.0.0,>=2.0.0 in /opt/conda/lib/python3.7/site-packages (from aiohttp_socks->twint) (2.0.3)\r\n",
      "Requirement already satisfied: soupsieve>1.2 in /opt/conda/lib/python3.7/site-packages (from beautifulsoup4->twint) (2.3.1)\r\n",
      "Requirement already satisfied: elastic-transport<9,>=8 in /opt/conda/lib/python3.7/site-packages (from elasticsearch->twint) (8.4.0)\r\n",
      "Requirement already satisfied: importlib-metadata~=4.0 in /opt/conda/lib/python3.7/site-packages (from fake-useragent->twint) (4.13.0)\r\n",
      "Requirement already satisfied: importlib-resources>=5.0 in /opt/conda/lib/python3.7/site-packages (from fake-useragent->twint) (5.8.0)\r\n",
      "Requirement already satisfied: geographiclib<2,>=1.49 in /opt/conda/lib/python3.7/site-packages (from geopy->twint) (1.52)\r\n",
      "Requirement already satisfied: requests in /opt/conda/lib/python3.7/site-packages (from googletransx->twint) (2.28.1)\r\n",
      "Requirement already satisfied: python-dateutil>=2.7.3 in /opt/conda/lib/python3.7/site-packages (from pandas->twint) (2.8.2)\r\n",
      "Requirement already satisfied: pytz>=2017.3 in /opt/conda/lib/python3.7/site-packages (from pandas->twint) (2022.1)\r\n",
      "Requirement already satisfied: numpy>=1.17.3 in /opt/conda/lib/python3.7/site-packages (from pandas->twint) (1.21.6)\r\n",
      "Requirement already satisfied: certifi in /opt/conda/lib/python3.7/site-packages (from elastic-transport<9,>=8->elasticsearch->twint) (2022.9.24)\r\n",
      "Requirement already satisfied: urllib3<2,>=1.26.2 in /opt/conda/lib/python3.7/site-packages (from elastic-transport<9,>=8->elasticsearch->twint) (1.26.12)\r\n",
      "Requirement already satisfied: zipp>=0.5 in /opt/conda/lib/python3.7/site-packages (from importlib-metadata~=4.0->fake-useragent->twint) (3.8.0)\r\n",
      "Requirement already satisfied: cffi>=1.5.0 in /opt/conda/lib/python3.7/site-packages (from pycares>=4.0.0->aiodns->twint) (1.15.0)\r\n",
      "Requirement already satisfied: six>=1.5 in /opt/conda/lib/python3.7/site-packages (from python-dateutil>=2.7.3->pandas->twint) (1.15.0)\r\n",
      "Requirement already satisfied: idna>=2.0 in /opt/conda/lib/python3.7/site-packages (from yarl<2.0,>=1.0->aiohttp->twint) (3.3)\r\n",
      "Requirement already satisfied: pycparser in /opt/conda/lib/python3.7/site-packages (from cffi>=1.5.0->pycares>=4.0.0->aiodns->twint) (2.21)\r\n",
      "Building wheels for collected packages: twint\r\n",
      "  Building wheel for twint (setup.py) ... \u001b[?25l-\b \b\\\b \bdone\r\n",
      "\u001b[?25h  Created wheel for twint: filename=twint-2.1.21-py3-none-any.whl size=38871 sha256=396bfb686d6c6db581322c7c3699cc7f3ebaf79119f94d1ed6813e25b6f99d8b\r\n",
      "  Stored in directory: /tmp/pip-ephem-wheel-cache-dnyco5wa/wheels/8d/dc/9f/74b4483d5f997036f04aec7f42bd4b3c80f04264920c368068\r\n",
      "Successfully built twint\r\n",
      "Installing collected packages: twint\r\n",
      "  Attempting uninstall: twint\r\n",
      "    Found existing installation: twint 2.1.20\r\n",
      "    Uninstalling twint-2.1.20:\r\n",
      "      Successfully uninstalled twint-2.1.20\r\n",
      "Successfully installed twint-2.1.21\r\n",
      "\u001b[33mWARNING: Running pip as the 'root' user can result in broken permissions and conflicting behaviour with the system package manager. It is recommended to use a virtual environment instead: https://pip.pypa.io/warnings/venv\u001b[0m\u001b[33m\r\n",
      "\u001b[0mRequirement already satisfied: nest_asyncio in /opt/conda/lib/python3.7/site-packages (1.5.5)\r\n",
      "\u001b[33mWARNING: Running pip as the 'root' user can result in broken permissions and conflicting behaviour with the system package manager. It is recommended to use a virtual environment instead: https://pip.pypa.io/warnings/venv\u001b[0m\u001b[33m\r\n",
      "\u001b[0m"
     ]
    }
   ],
   "source": [
    "!pip install twint\n",
    "!pip install --upgrade git+https://github.com/twintproject/twint.git@origin/master#egg=twint\n",
    "#this prevents async problems/ runtime errors\n",
    "!pip install nest_asyncio"
   ]
  },
  {
   "cell_type": "markdown",
   "id": "8bff514c",
   "metadata": {
    "papermill": {
     "duration": 0.009831,
     "end_time": "2022-12-16T22:39:04.316605",
     "exception": false,
     "start_time": "2022-12-16T22:39:04.306774",
     "status": "completed"
    },
    "tags": []
   },
   "source": [
    "### import required libraries"
   ]
  },
  {
   "cell_type": "code",
   "execution_count": 2,
   "id": "108b3165",
   "metadata": {
    "execution": {
     "iopub.execute_input": "2022-12-16T22:39:04.338501Z",
     "iopub.status.busy": "2022-12-16T22:39:04.338089Z",
     "iopub.status.idle": "2022-12-16T22:39:06.517941Z",
     "shell.execute_reply": "2022-12-16T22:39:06.516986Z"
    },
    "papermill": {
     "duration": 2.19386,
     "end_time": "2022-12-16T22:39:06.520498",
     "exception": false,
     "start_time": "2022-12-16T22:39:04.326638",
     "status": "completed"
    },
    "tags": []
   },
   "outputs": [],
   "source": [
    "import twint\n",
    "import nest_asyncio\n",
    "nest_asyncio.apply()\n",
    "import json\n",
    "import re\n",
    "from nltk import ngrams\n",
    "import csv\n",
    "import pandas as pd\n",
    "from sklearn.svm import SVC\n",
    "from sklearn.model_selection import train_test_split\n",
    "from sklearn.feature_extraction.text import CountVectorizer\n",
    "from sklearn.metrics import accuracy_score, classification_report, confusion_matrix, ConfusionMatrixDisplay\n",
    "from textblob import TextBlob\n",
    "import matplotlib.pyplot as plt\n",
    "import seaborn as sns; sns.set() # for plot styling"
   ]
  },
  {
   "cell_type": "markdown",
   "id": "2fefaaa4",
   "metadata": {
    "papermill": {
     "duration": 0.009666,
     "end_time": "2022-12-16T22:39:06.541684",
     "exception": false,
     "start_time": "2022-12-16T22:39:06.532018",
     "status": "completed"
    },
    "tags": []
   },
   "source": [
    "### Collection data\n",
    "Instantiate and configure the twint-object for get data from twitter.\n"
   ]
  },
  {
   "cell_type": "code",
   "execution_count": 3,
   "id": "29128267",
   "metadata": {
    "_kg_hide-output": false,
    "collapsed": true,
    "execution": {
     "iopub.execute_input": "2022-12-16T22:39:06.563452Z",
     "iopub.status.busy": "2022-12-16T22:39:06.562757Z",
     "iopub.status.idle": "2022-12-16T22:39:15.225192Z",
     "shell.execute_reply": "2022-12-16T22:39:15.223547Z"
    },
    "jupyter": {
     "outputs_hidden": true
    },
    "papermill": {
     "duration": 8.676346,
     "end_time": "2022-12-16T22:39:15.227877",
     "exception": false,
     "start_time": "2022-12-16T22:39:06.551531",
     "status": "completed"
    },
    "tags": []
   },
   "outputs": [
    {
     "name": "stdout",
     "output_type": "stream",
     "text": [
      "1603865877945802752 2022-12-16 21:33:18 +0000 <pro_travel1> جورجيا  أستمتع بأحلي الأماكن لل السياحة في جورجيا وكمان هنعرفك علي الأستثمار في جورجيا اتصل علي :00995596355000  #سياحة #دبي  https://t.co/1hc1so8akg\n",
      "1603862185150644225 2022-12-16 21:18:37 +0000 <georgiatours6> جورجيا  ✅Tours all over Georgia  ✅Private Cars 🚗   ✅ Hotels / Apartments Reservation 📞 WhatsApp   https://t.co/ypacQ4XC0R.  #سياحة  https://t.co/UFpPyaJbqR\n",
      "1603859676466233346 2022-12-16 21:08:39 +0000 <safari_news> استمتع بعروض وفعاليات جزيرة فيلا الخاصة في #المالديف   https://t.co/jk8rvjvKQ0  #فنادق #سياحة  https://t.co/aJg7hqs0dY\n",
      "1603859314304761859 2022-12-16 21:07:13 +0000 <Dam_xnl> #سفير_امستردام  #سياحة   عروض سياحية  امستردام &amp; بروكسل  https://t.co/IzbGSVvcwk\n",
      "1603859188848943111 2022-12-16 21:06:43 +0000 <Dam_xnl> #سفير_امستردام  #سياحة   عروض سياحية  امستردام &amp; بروج  https://t.co/mb94TkOdX6\n",
      "1603859066455040001 2022-12-16 21:06:14 +0000 <Dam_xnl> #سفير_امستردام  #سياحة   عروض سياحية  #باريس  https://t.co/zocCBm0RhN\n",
      "1603858970862419970 2022-12-16 21:05:51 +0000 <Dam_xnl> #سفير_امستردام  #سياحة   عروض سياحية  #امستردام  https://t.co/plado9kaaf\n",
      "1603858841820663808 2022-12-16 21:05:20 +0000 <Dam_xnl> #سفير_امستردام  #سياحة   عروض سياحية  https://t.co/50rv9E8eRB\n",
      "1603858747624939544 2022-12-16 21:04:58 +0000 <safari_news> تسهيلات للقادمين من جمهورية #تركيا إلى #مكة المكرمة و #المدينة المنورة   https://t.co/0Ctq9ZhSaR  #سياحة  https://t.co/eCdV88aEmR\n",
      "1603855277933137958 2022-12-16 20:51:11 +0000 <jamalburhan> #الحبلة من حبال سكانها إلى عرباتها المعلقة..! بين نزول.. وصعود..! تستمر آمال الحياة.. في وطن مشرق.. شامخ.. بهمم الرجال.. وقمم طويق الجبال..! :: يتبع #عسير #سياحة 🌻 #السياحة_السعودية #السياحة_البيئية ☘️ #السياحة_البيئية_السعودية  https://t.co/WaLQ84YHSA\n",
      "1603855042464911376 2022-12-16 20:50:14 +0000 <safari_news> نصائح هامة قبل سفرك إلى #اسطنبول   https://t.co/IVcAkUiFnR  #سياحة  https://t.co/nBbTg177dw\n",
      "1603854981358096390 2022-12-16 20:50:00 +0000 <Oceanislands22> شلالات لا تنقطع في الطريق الرابط بين مدينة #بنتوته و   #نوراليا في #سريلانكا   . . . . .  #سفر #سياحة #السعودية #الرياض  https://t.co/ydQXpI5hPQ\n",
      "1603854747911348224 2022-12-16 20:49:04 +0000 <_1llilo> افضل سياحة عائلية في جورجيا واتساب: 00995596366000 #سياحة #سفر  https://t.co/xDMYt4tX2T\n",
      "1603853926373199876 2022-12-16 20:45:48 +0000 <Appear333An> #الاجواء_الحلوة #النصر #سياحة #سويسرا #رسالة_اليوم #صوت_المطر  https://t.co/cdqV2ZRIak\n",
      "1603849469455261697 2022-12-16 20:28:06 +0000 <QalWQalt> افضل عروض في جورجيا مع جورجيا كابيتال للتواصل واتساب: 00995514205050 #سياحة #سفر  https://t.co/jVTIW2bYxg\n",
      "1603847376569045006 2022-12-16 20:19:47 +0000 <safari_news> كل ما يحتاجة الطفل أثناء رحلات السفر   https://t.co/iKOIhxc6qL  #سياحة  https://t.co/bPtOJzGbwi\n",
      "1603847237037133830 2022-12-16 20:19:14 +0000 <safari_news> بالصور .. أشهر مدن #ايطاليا المناسبة لشهر العسل   https://t.co/YZg34SSMMQ  #سياحة  https://t.co/C9MwVcVns5\n",
      "1603847093143351296 2022-12-16 20:18:39 +0000 <safari_news> بالصور .. استمتع برحلة ممتعة إلى الجزيرة الكنز #بورتوريكو في #الكاريبي   https://t.co/DkV5obGVJn  #سياحة  https://t.co/0KlVtZO0Vd\n",
      "1603846922233696256 2022-12-16 20:17:58 +0000 <safari_news> بالصور .. #كرواتيا الوجهة الأمثل للسياحة في كل الأوقات   https://t.co/q93LfNjbS0  #سياحة  https://t.co/vP9RiMXFGu\n",
      "1603846436470374401 2022-12-16 20:16:03 +0000 <safari_news> بالصور .. أجمل المعالم السياحية الاستوائية للسفر في فصل الشتاء   https://t.co/t6MVrmsWsk  #سياحة  https://t.co/Rx0Nk5qlpc\n",
      "1603845729138737153 2022-12-16 20:13:14 +0000 <safari_news> بالصور .. أجمل وجهات سياحية لقضاء شهر العسل في الشتاء   https://t.co/NGFOJntDns  #سياحة  https://t.co/bD0YKOuptK\n",
      "1603845212979499008 2022-12-16 20:11:11 +0000 <safari_news> بالصور .. #برشلونة الوجهة الأمثل للسياحة في كل الفصول   https://t.co/upJ15usBv6  #سياحة  https://t.co/nd3YRdhWSw\n",
      "1603844674837483528 2022-12-16 20:09:03 +0000 <safari_news> بالصور .. أجمل الوجهات لقضاء شهر العسل في #يناير   https://t.co/odyZdyK7bW  #سياحة  https://t.co/a9koDTzJZ9\n",
      "1603844177690755073 2022-12-16 20:07:04 +0000 <safari_news> بالصور .. أجمل 10 منتجعات سياحية في #جدة   https://t.co/B0Rf2hZnVE  #فنادق #سياحة  https://t.co/9MAczxlzzN\n",
      "1603843785733115913 2022-12-16 20:05:31 +0000 <safari_news> أخطاء يجب تجنبها عند السفر إلى #فرنسا   https://t.co/zKfuFchnGE  #سياحة  https://t.co/48Hm9rsXxh\n",
      "1603843533433180161 2022-12-16 20:04:30 +0000 <safari_news> بالصور .. أجمل المعالم السياحية الجذابة في 2022   https://t.co/1gsI4zh3ae #سياحة  https://t.co/czDYMzhX7y\n",
      "1603840927813865472 2022-12-16 19:54:09 +0000 <QalWQalt> افضل #سياحة عائلية في اذربيجان واتساب: 00994508225050  https://t.co/yk0Is39bJC\n",
      "1603839141300428800 2022-12-16 19:47:03 +0000 <_1llilo> #تبليسى #جورجيا #جورجيا_تبليسي #سياحة #عطلات #اجازة #سافر #رحلات_طوال_العام #رحلات #عوايل #عوائل #للحجز #عروض #السعودية #عدستى #قطر #الامارات #البحرين #عمان #باتومي #المسافرون_العرب #المسافرون #سياحةوسفر #جورجيا_بعيون_عربية #السياحة_في_جورجيا  https://t.co/hYyB1s6jKS\n",
      "1603838528235966489 2022-12-16 19:44:37 +0000 <Ialgeria3> 📍دار الخامسة الدشرة الحمراء بولاية بسكرة 🌴 بلاد تمور دڨلة نور الجزائرية 🇩🇿 📍Dar El khamsa,Biskra 🌴, Algeria 🇩🇿 #saharadedertalgeria  #mapofalgeria  #travelling #traveler #viajar #beautifuldestinations #algeria #Welcome_to_Algeria  #الجزائر #سياحة  https://t.co/8Fcb0DYVnm\n",
      "1603832344003022848 2022-12-16 19:20:03 +0000 <_1llilo> تبليسى #جورجيا #جورجيا_تبليسي #سياحة #عطلات #اجازة #سافر #رحلات_طوال_العام #رحلات #عوائل #للحجز #عروض #السعودية #عدستى #قطر #الامارات #البحرين #عمان #باتومي #المسافرون_العرب #المسافرون #جورجيا_بعيون_عربية #جورجيا_كابيتال #السياحة_في_جورجيا  https://t.co/HoQaXQq6qd\n",
      "1603827301162033152 2022-12-16 19:00:00 +0000 <Sama_Almosafer> #موريشيوس  🇲🇺  🗓️ 5 ليالي / 6 أيام   🏡 غرفة مزدوجة شاملة الإفطار 🚙 سيارة - جولات سياحية يومية  ✈️ استقبال وتوديع  💵  5111 ريال لشخصين   📌 3 إلى 24 ديسمبر    ☎️ للحجز  ( واتساب فقط ):   https://t.co/2GfqCvEauG أو  https://t.co/0WplO2XSUP  #سياحة #رحلات  https://t.co/7CuVo0ro6q\n",
      "1603824210249383941 2022-12-16 18:47:43 +0000 <issa_alenazi> فيروزية البحر تلتقي بلازوردية اشعة الشمس أمام  شواطيء #املج  #تبوك  #سفر  #سياحة  https://t.co/PYbMCoKhVT\n",
      "1603816247660945408 2022-12-16 18:16:05 +0000 <geo_travels1> &amp;rlm;✈️Trip around #georgia🇬🇪 🔴📞Whatsapp : 00995558205050 🔴🚗 Rent Car With driver 🔴🏢 Rent flats &amp;amp; hotels 🔴💲Cheapest Service #جورجيا #تبليسي #باتومي #جبال_قوقاز #سياحة #سعوديه #رياض #الامارات #قطر #الكويت #الخليج  https://t.co/MISqYX5IIW\n",
      "1603814390670802968 2022-12-16 18:08:42 +0000 <fy_hwlnda> #هولندا #امستردام #السعودية #سياحة #الكويت #قطر #الامارات  https://t.co/1w0KIVUECL\n",
      "1603813571175104523 2022-12-16 18:05:27 +0000 <rahalatek> جولات و أنشطة مدينة انطاليا الساحرة 💙  . . . #تركيا #اسطنبول #انطاليا #سياحة #سفر #turkey #istanbul #antalya @ Antalya, Turkey  https://t.co/hrUlJ9xA0z\n",
      "1603811205612572672 2022-12-16 17:56:03 +0000 <pro_travel1> TOURS AROUND #GEORGIA  CONTACT US ON  WHATSAPP 00995596355000  #سياحة #سفر  https://t.co/qPGndQ6Xga\n",
      "1603809696476934144 2022-12-16 17:50:03 +0000 <_1llilo> سياحة في جورجيا  هدايا للعرسان الجداد لأحلي شهر عسل في جورجيا  للأستفسار اتصل واتساب علي: 00995596366000 #سياحة #دبي  https://t.co/Ag0J1WAtFk\n",
      "1603808692188504064 2022-12-16 17:46:04 +0000 <QalWQalt> Trip around  Georgia!!!  What app : 00995514205050 ✔ Car With Driver  ✔apartment Rent  ✔ flats Reserve  ✔hotels #سياحة #سفر #جورجيا #تبليسي  https://t.co/F9iQ6bfxaI\n",
      "1603807588444819456 2022-12-16 17:41:41 +0000 <e_tourr> جسر السلام تبليسي في جورجيا #جورجيا #سياحة #سفر #تبليسي #باتومي #عروض #سياحية #etour #fyp #اكسبلور  https://t.co/0KB6K1GWof\n",
      "1603807587194982400 2022-12-16 17:41:40 +0000 <e_tourr> انشطة باتومي بوليفارد | Batumi Boulevard #جورجيا #سياحة #سفر #تبليسي #باتومي #عروض #سياحية #etour #fyp #اكسبلور  https://t.co/VA4H1REO2k\n",
      "1603806478720278529 2022-12-16 17:37:16 +0000 <Elaph> سفينة \"كوستا توسكانا\" السياحية الفاخرة تصل إلى مرسى دبي #سفينة #كوستا_توسكانا #سياحة  #مرسى_دبي   https://t.co/pdqoNRD2TV\n",
      "1603802511659483152 2022-12-16 17:21:30 +0000 <noona_e1> من اعمالي #بوست #سياحة @Maram_des0 @wafadesign90 @Designers_Sup @dam_designers @OCreativeJobs @Design_mem25  https://t.co/mAn0c8zPjU\n",
      "1603800167777505281 2022-12-16 17:12:11 +0000 <saharjawhari> مبنى متحف الشاي في الصين على شكل إبريق #ابداع #سياحة  https://t.co/ljdOCwU9a5\n",
      "1603799636614950912 2022-12-16 17:10:05 +0000 <QalWQalt> 🔴✈️Trip around #Georgia!!!  🔴📞Whats app : 00995514205050  🔴🚗Car With Driver  🔴🏢 Rent flats &amp;amp; Reserve hotels  🔴💲Cheapest Service #سياحة_في_جورجيا #تبليسي #باتومي #المسافرون_العرب #سياحة #عروض_سياحية  #cheapest  https://t.co/VOT34JblPy\n",
      "1603796902864367616 2022-12-16 16:59:13 +0000 <_1llilo> 🔴✈️Trip around #Georgia!!!  🔴📞What&amp;rsquo;s app : 00995596366000  🔴🚗Car With Driver  🔴🏢 Rent flats &amp;amp; Reserve hotels  🔴💲Cheapest Service #hash   #سياحة_في_جورجيا #تبليسي #باتومي #المسافرون_العرب #سياحة #عروض_سياحية  https://t.co/xLT4ZQlqe2\n",
      "1603788804602482697 2022-12-16 16:27:02 +0000 <pro_travel1> ندعوك للاستمتاع باجواء الصيف معانا فى جورجيا واتساب: 00995596355000 #سياحة #سفر  https://t.co/674sI6WEET\n",
      "1603788050764419078 2022-12-16 16:24:02 +0000 <_1llilo> سياحة في جورجيا  خصومات خاصة للأعداد الكبيرة  للأستفسار اتصل علي: 00995596366000 #سياحة #سفر  https://t.co/CBUjwLtogE\n",
      "1603787659536744449 2022-12-16 16:22:29 +0000 <ajmannews> دبي هاربر يستقبل سفينة كوستا توسكانا الإيطالية.. لأول مرة  https://t.co/42158GN8Ck #أخبار_السياحة  #سياحة  #ترفيه  #سفر #دبي  https://t.co/jQ6q9CXX5X\n",
      "1603783467652759552 2022-12-16 16:05:50 +0000 <rlalg1> جورجيا جورجيا هى دولة الطبيعة الساحرة التى تشبة النمسا فى طبيعتها وأيطاليا فى مبانيها التراثية وأجمل طبيعة للاجواء فى اوروبا 📞  https://t.co/BI3bERLWCb  #المسافر #سياحة #سفر #المصيف  https://t.co/U4I6rjV3VF\n",
      "1603780426350612480 2022-12-16 15:53:45 +0000 <ejazahtime> عروض #تركيا ١٢ ليلة😍👌🏻 احجز الان مع إجازة تايم للعطلات واستمتع بسياحة شتوية في اسطنبول 🇹🇷⛄️ . #اسطنبول #سفر #شتاء #كأس_العالم_قطر_2022 #سياحة  https://t.co/7AGk5D5kID\n",
      "1603779944215101440 2022-12-16 15:51:50 +0000 <georgiatours6> جورجيا Your vacation in Georgia best hotel in Georgia 🇬🇪  The best prices in Georgia include:  ✔ Airport pickup  ✔ Group tours including transportation  ✔ Hotel  breakfast 📞  https://t.co/RQIvXYiXrn #سياحة  https://t.co/UI7Sk8ogHt\n",
      "1603779417892966400 2022-12-16 15:49:44 +0000 <Touri_SA> احجز الآن #كروز  World Europa العملاق من #دبي أو #أبوظبي أو #الدوحة  رحلات لمدة 7 ليالي في الخليج العربي  سيتمكن الضيف من حجز الرحلة انطلاقاً من دبي أو أبو ظبي أو الدوحة. أحلى شي  أن هذا #الكروز سيمر لأول مرة مدينة #الدمام في #السعودية   #كروز_الخليج #كروز_وورد_يوروبا #سياحة #سفر  https://t.co/6gzqyVeneJ\n",
      "1603778309665472513 2022-12-16 15:45:20 +0000 <MagilooMagda> #المنتزه #خربت ناس خلايجة راحو مش مصدقين الى شافوه ومش مصدقين انى فى بلد #بتخرب  شوية الاماكن الحلوة الى عندها الناس ديه جاية من اخر الدنيا عشان بيحبو المكان ده زى ماهو #بجناينو وزكرياتو #وعظمتو راحو لقو نفسهم فى مكان تانى خالص #مسخ شبه الى عملوه قال ويقلك #سياحة قال #اسكندرية\n",
      "1603773683830591488 2022-12-16 15:26:57 +0000 <elgendy_maher> #المدينة 🇸🇦  Book with Georgia Travels   ✅ Reservation of hotels and resorts  🏠🏢 Reservation of luxury apartments 🏠🏢  Tours  🚘  📞 Whats  https://t.co/A6C5R0z7jn  #سياحة  https://t.co/4eyYGNH9kz\n",
      "1603762129382711296 2022-12-16 14:41:02 +0000 <_1llilo> قال رسول الله ﷺ(إن أشد الناس عذابا يوم القيامة المصورون) رياض الصالحين #سياحة #سفر\n",
      "1603760116834004993 2022-12-16 14:33:02 +0000 <QalWQalt> افضل #سياحة عائلية في اذربيجان واتساب: 00994508225050  https://t.co/sBHemrwPNy\n",
      "1603756502891773952 2022-12-16 14:18:41 +0000 <saharjawhari> من ولاية واد السوف بصحراء الجزائر 🇩🇿 #سياحة  https://t.co/fRPFOG1lSL\n",
      "1603755830867697664 2022-12-16 14:16:01 +0000 <saharjawhari> # الأقصر .. مدينة ثلث آثار العالم .  هي مدينة في صعيد مصر في موقع المدينة المصرية القديمة طيبة, و تتميز بأنها يوجد بها أكبر متحف في الهواء الطلق في العالم,   من كورنيش الأقصر #سياحة  https://t.co/6F5C4rOHON\n",
      "1603744663457841153 2022-12-16 13:31:38 +0000 <sha3r99> #سياحة  #يوم_الجمعة  جولة تهامية٤💐  https://t.co/2z7PEcWJOf\n",
      "1603736710524698627 2022-12-16 13:00:02 +0000 <Sama_Almosafer> #موريشيوس  🇲🇺  🗓️ 5 ليالي / 6 أيام   🏡 غرفة مزدوجة شاملة الإفطار 🚙 سيارة - جولات سياحية يومية  ✈️ استقبال وتوديع  💵  7236 ريال لشخصين   📌 3 إلى 24 ديسمبر    ☎️ للحجز  ( واتساب فقط ):   https://t.co/2GfqCvVLme أو  https://t.co/0WplO2Ghwf  #سياحة #رحلات  https://t.co/1VWiqJeGJg\n",
      "1603734204985942022 2022-12-16 12:50:05 +0000 <_1llilo> #تبليسى #جورجيا #جورجيا_تبليسي #سياحة #عطلات #اجازة #سافر #رحلات_طوال_العام #رحلات #عوايل #عوائل #للحجز #عروض #السعودية #عدستى #قطر #الامارات #البحرين #عمان #باتومي #المسافرون_العرب #المسافرون #سياحةوسفر #جورجيا_بعيون_عربية #السياحة_في_جورجيا  https://t.co/BGL0ImR9Bj\n",
      "1603727655357935617 2022-12-16 12:24:03 +0000 <_1llilo> تبليسى #جورجيا #جورجيا_تبليسي #سياحة #عطلات #اجازة #سافر #رحلات_طوال_العام #رحلات #عوائل #للحجز #عروض #السعودية #عدستى #قطر #الامارات #البحرين #عمان #باتومي #المسافرون_العرب #المسافرون #جورجيا_بعيون_عربية #جورجيا_كابيتال #السياحة_في_جورجيا  https://t.co/MjKgzYOblV\n",
      "1603726967500578821 2022-12-16 12:21:19 +0000 <sha3r99> #شي_تحبه_مع_البرد  #سياحة  #يوم_الجمعة   جولة تهامية ٣💐:  https://t.co/qNg6vl4Lvd\n",
      "1603726002978541570 2022-12-16 12:17:29 +0000 <sha3r99> #سياحة  #ساعه_استجابة  #يوم_الجمعة   جولة تهامية٢💐:  https://t.co/uvmGWVD76N\n",
      "1603725550819983360 2022-12-16 12:15:41 +0000 <sha3r99> #جمعة_مباركة  #سياحة   جولة تهامية 💐  https://t.co/pO7jaT12zr\n",
      "1603721880179032064 2022-12-16 12:01:06 +0000 <tourinlibya> منازل جميلة وسط طبيعة مدينة شحات في ليبيا 🇱🇾  Beautiful houses in the middle of the nature of the city of Shahat in Libya 🇱🇾  Photo by: مصطفى كريم  #ليبيا #libya #السياحة_في_ليبيا #سياحة #سفر #tourinlibya #tourisminlibya #toursim  https://t.co/yBbWknU3Jr\n",
      "1603720517889929216 2022-12-16 11:55:41 +0000 <_1llilo> ندعوك للاستمتاع باجواء الصيف معانا فى جورجيا للأستفسار واتساب: 00995596366000 #سياحة #دبي  https://t.co/4Itdz73Mzs\n",
      "1603720106785345537 2022-12-16 11:54:03 +0000 <smiletravel01> #جورجيا #سياحة #سفر  In Georgia 🇬🇪  More than seven years experience in Georgia 🇬🇪  Integrated teams working at your comfort throughout the trip 📞 Whats  https://t.co/SFqe16Jwuc  #صلوا_علي_شفيعكم_نبيكم  #شاركنا_دعاء_لك_ولمن_تحب  #شي_تحبه_مع_البرد  #يوم_الجمعه  https://t.co/tIdenV1AbE\n",
      "1603719856032870401 2022-12-16 11:53:04 +0000 <QalWQalt> Trip around  Georgia!!!  What app : 00995514205050 ✔ Car With Driver  ✔apartment Rent  ✔ flats Reserve  ✔hotels #سياحة #سفر #السعودية #رحلات  https://t.co/MR9Rx4Didr\n",
      "1603715679584419842 2022-12-16 11:36:28 +0000 <ajmannews> ويز إير أبوظبي توسّع شبكتها برحلات إلى المدينة المنورة  https://t.co/F2Zf0YZ0c6 #أخبار_السياحة  #سياحة  #ترفيه  #سفر #أبوظبي #السعودية  https://t.co/z85Pzx6Krv\n",
      "1603714051950792705 2022-12-16 11:30:00 +0000 <dw_arabic> بعد قرن من إعدامهما.. منزل #ريا_وسكينة  مازال يجتذب السيّاح #مصر #سياحة #الإسكندرية  https://t.co/6HagV3jZh5\n",
      "1603712315827793920 2022-12-16 11:23:06 +0000 <ger_capital> رحلة الي جورجيا  احجز رحلتك معنا وأحصل علي تأمين السفر وشرايح انترنت مجانااااااا  للحجز او التواصل كلمنا واتساب على 00995514205050 تبليسى #جورجيا #جورجيا_تبليسي #سياحة #عطلات #اجازة #سافر  https://t.co/8M9eQ6kSgI\n",
      "1603709791477436416 2022-12-16 11:13:04 +0000 <QalWQalt> 🔴✈️Trip around #Georgia!!!  🔴📞Whats app : 00995514205050  🔴🚗Car With Driver  🔴🏢 Rent flats &amp;amp; Reserve hotels  🔴💲Cheapest Service #سياحة_في_جورجيا #تبليسي #باتومي #المسافرون_العرب #سياحة #عروض_سياحية  #جورجيا  https://t.co/8zSfHhIzPr\n",
      "1603705759623106560 2022-12-16 10:57:03 +0000 <pro_travel1> سياحة في جورجيا خصومات خاصة للأعداد الكبيرة اتصل علي: 00995596355000 #سياحة #دبي  https://t.co/YnEqjZaz67\n",
      "1603703541537075201 2022-12-16 10:48:14 +0000 <5u468> وظيفة للنساء بالمدينة المنورة #سياحة #مشاة  https://t.co/FpmBW55zt1\n",
      "1603701483798925312 2022-12-16 10:40:03 +0000 <saharjawhari> من أجمل وأغرب انواع الاشجار في العالم. توجد فى اليابان فقط وهي من اشجار الكرز التي تمتاز باللون الابيض الكثيف وتتواجد بمعظم الأماكن العامة في اليابان وخصوصاُ في الحدائق والمنتزهات، ومن أشهر هذه الأماكن منتزه قلعة إيدو العريقة والتي بنيت سنة 1457 #سياحة #جماليات  https://t.co/JcrK9harQu\n",
      "1603701477402460160 2022-12-16 10:40:02 +0000 <Elaph> #الولايات_المتحدة #أفريقيا #حيوانات #ترفيه #سياحة #بيئة   https://t.co/uWRqYYJ5V9\n",
      "1603701233126060033 2022-12-16 10:39:03 +0000 <ger_capital> السياحة في دولة جورجيا  أفضل العروض بأفضل ألأسعار مع جورجيا كابيتال  واتساب: 00995514205050 تبليسى #جورجيا #جورجيا_تبليسي #سياحة #عطلات #اجازة #سافر #رحلات_طوال_العام  https://t.co/BW2t2ucR7D\n",
      "1603692746320924672 2022-12-16 10:05:20 +0000 <ger_capital> جورجيا هنساعدك في توفير أحسن برنامج سياحي لك مع جورجيا كابيتال  هتحصل أفضل العروض بمناسبة اول الرحلات بعد كورونا.  للتواصل واتساب:  https://t.co/9AVhYLOtY0 #سياحة #دبي  https://t.co/KjTWlB8VWP\n",
      "1603692422608740352 2022-12-16 10:04:03 +0000 <_1llilo> 🔴✈️Trip around #Georgia!!!  🔴📞What&amp;rsquo;s app : 00995596366000  🔴🚗Car With Driver  🔴🏢 Rent flats &amp;amp; Reserve hotels  🔴💲Cheapest Service #hash   #سياحة_في_جورجيا #تبليسي #باتومي #المسافرون_العرب #سياحة #عروض_سياحية  https://t.co/DMoyalpHSs\n",
      "1603688883371364352 2022-12-16 09:49:59 +0000 <thailand_lover> شهدت #تايلاند استثمارات أجنبية تزيد عن 112 مليار بات خلال الاشهر الـ11 من هذا العام ، بزيادة كبيرة بلغت 74% عن نفس الفترة من العام الماضي. #تايلند #سفر #سياحة #طيران #بانكوك #بوكيت #بتايا #السعودية #thailand #travel  https://t.co/oAcB4CYOdw\n",
      "1603687743434932225 2022-12-16 09:45:27 +0000 <thailand_lover> قالت وزارة التجارة الخارجية (DFT) إن #تايلاند ستحقق على الأرجح هدفها المتمثل في تصدير 7.5 مليون طن من الأرز هذا العام ، وقد تتجاوز هذا الهدف. #تايلند #سفر #سياحة #طيران #بانكوك #بوكيت #بتايا #السعودية #thailand #travel  https://t.co/lNjGGzF0mU\n",
      "1603686634179874816 2022-12-16 09:41:03 +0000 <_1llilo> اسال عن عروض الصيف فى جورجيا واتساب: 00995596366000 #سياحة #دبي  https://t.co/XkoWiTr6Ul\n",
      "1603686546590384130 2022-12-16 09:40:42 +0000 <thailand_lover> بلدية #بتايا تعمل مع شركة سويسرية متخصصة ع اطلاق مشروع تلفريك بداية العام القادم، للحد من مشكلة الازدحام المروري. يتكون من 3 مسارات ع طول طريق شاطئ بتايا ، كوه لارن ، وتاب فرايا هيل. #تايلند #سفر #سياحة #طيران #بانكوك #بوكيت #السعودية #thailand #travel  https://t.co/S7BAMyEZhe\n",
      "1603678100352421888 2022-12-16 09:07:08 +0000 <QalWQalt> افضل #سياحة عائلية في اذربيجان واتساب: 00994508225050  https://t.co/gmgsbrZl3R\n",
      "1603670063348867072 2022-12-16 08:35:12 +0000 <alsumariatv> بلدان لن تتوقعها.. تعرّف على أكثر الوجهات بحثًا في \"#غوغل\" خلال 2022  https://t.co/SsJj0sW2Rn #السومرية #سياحة  https://t.co/GSb6feMXrG\n",
      "1603668022459109376 2022-12-16 08:27:05 +0000 <el_laten> احجز معانا رحلتك الي جورجيا وهديتك تأمين السفر مجانا وخصومات خاصة للحجز المسبق لصيف 2022  واتساب علي: 00995514206060 #سياحة  https://t.co/GnIPeXfD6u\n",
      "1603667755126792196 2022-12-16 08:26:02 +0000 <_1llilo> قال رسول الله ﷺ(إذا أقيمت الصلاة فلا صلاة إلا المكتوبة) رياض الصالحين #سياحة #سفر\n",
      "1603666243449262081 2022-12-16 08:20:01 +0000 <Nermeenayman__> تستخدم أكياس الشاي الأحمر والأخضر للعينين لتخفيف الانتفاخات ولمعالجة الهالات السوداء، ضعيها مايقارب ١٠ إلى ١٥ دقيقة #سياحة #سفر\n",
      "1603657730446659584 2022-12-16 07:46:12 +0000 <e_tourr> برنامج 10 ايام (9 ليالي) تبليسي #جورجيا #سياحة #سفر #تبليسي #باتومي #عروض #سياحية #etour #fyp #اكسبلور  https://t.co/bvtOumq1vJ\n",
      "1603657188194426880 2022-12-16 07:44:02 +0000 <DaniaHosny> ندعوك للاستمتاع باجواء الصيف معانا فى جورجيا واتساب: 00995596355000 #سياحة #سفر  https://t.co/ogw6qohJSa\n",
      "1603634937365774336 2022-12-16 06:15:37 +0000 <travelzad> LUNA MIA   Schwangau الريف الالماني  https://t.co/2JclSzGyXx #الريف #الالمانى #سياحة #اوروبية #معالم #معلومات #زاد_المسافر  https://t.co/pb8X5GAx1d\n",
      "1603634792775290880 2022-12-16 06:15:03 +0000 <DaniaHosny> اختار برنامجك السياحي الي جورجيا من عدة برامج 00995596355000 واتساب #سياحة #سفر  https://t.co/zYEvzJYpOx\n",
      "1603634786387447810 2022-12-16 06:15:01 +0000 <Nermeenayman__> من أسباب ظهور الهالات السوداء - قلةالنوم - احتباس السوائل تحت العين بسبب كثرة الأملاح والتدخين - نقص الحديد - الجفاف.. اكثرو من شرب الماء #سياحة #دبي\n",
      "1603634111024926720 2022-12-16 06:12:20 +0000 <jamalburhan> سياح من خارج المملكة في #منتجع_الكهوف ببن عبق اشجار البن.. في جبل شدا بمحافظة المخواة منطقة #الباحة مؤسس المنتجع أ. ناصر الشدوي @nalshadwi يتبع #سياحة 🌻 #السياحة_السعودية #السياحة_البيئية ☘️ #السياحة_البيئية_السعودية  https://t.co/ANv2YaEIA8\n",
      "1603628251242381313 2022-12-16 05:49:03 +0000 <_1llilo> #تبليسى #جورجيا #جورجيا_تبليسي #سياحة #عطلات #اجازة #سافر #رحلات_طوال_العام #رحلات #عوايل #عوائل #للحجز #عروض #السعودية #عدستى #قطر #الامارات #البحرين #عمان #باتومي #المسافرون_العرب #المسافرون #سياحةوسفر #جورجيا_بعيون_عربية #السياحة_في_جورجيا  https://t.co/6oHP3gXXS7\n",
      "1603621203972739072 2022-12-16 05:21:03 +0000 <_1llilo> تبليسى #جورجيا #جورجيا_تبليسي #سياحة #عطلات #اجازة #سافر #رحلات_طوال_العام #رحلات #عوائل #للحجز #عروض #السعودية #عدستى #قطر #الامارات #البحرين #عمان #باتومي #المسافرون_العرب #المسافرون #جورجيا_بعيون_عربية #جورجيا_كابيتال #السياحة_في_جورجيا  https://t.co/K7hDwtWjn3\n",
      "1603620199164280835 2022-12-16 05:17:03 +0000 <QalWQalt> 🔴✈️Trip around #Georgia!!!  🔴📞Whats app : 00995514205050  🔴🚗Car With Driver  🔴🏢 Rent flats &amp;amp; Reserve hotels  🔴💲Cheapest Service #سياحة_في_جورجيا #تبليسي #باتومي #المسافرون_العرب #سياحة #عروض_سياحية  #سياحة #سفر  https://t.co/rpma9s8pd1\n",
      "1603615995263946756 2022-12-16 05:00:21 +0000 <uaerentcar> \"قال ﷺ :\" أكثروا من الصلاة عليّ ليلة الجمعة ويوم الجمعة فإن صلاتكم معروضة عليّ #جمعة_مباركة #اريزونا_لتأجير_السيارات #تاجير_سيارات #تاجير_سيارات_في_دبي #تأجير #سيارات #دبي #الامارات #الشارقة #الرياض #جدة #السعودية #ابو_ظبي #سيارة #كيا #هونداي #تويوتا #عجمان #سفر #سياحة  https://t.co/fXplACL7SV\n",
      "1603606105677959169 2022-12-16 04:21:03 +0000 <DaniaHosny> السياحة في جورجيا و اذربيجان  برامج اقتصادية و متميزة علي حسب الطلب  واتساب علي: 00995596355000  #سياحة #سفر  https://t.co/h4Yc7px62y\n",
      "1603594274490044417 2022-12-16 03:34:03 +0000 <QalWQalt> افضل #سياحة عائلية في اذربيجان واتساب: 00994508225050  https://t.co/f9YgQ7ukzF\n",
      "1603593276715438080 2022-12-16 03:30:05 +0000 <QalWQalt> ايجار سيارات مع سائق وبدون سائق في جورجيا 00995514205050 واتساب #سياحة #سفر  https://t.co/zKaSw1gkJA\n"
     ]
    }
   ],
   "source": [
    "c = twint.Config()\n",
    "c.Store_object = True\n",
    "c.Pandas =True\n",
    "c.Search = \"#سياحة\"\n",
    "# c.Since = '2022-01-01'\n",
    "# c.Until = '2022-11-30'\n",
    "c.Limit = 100\n",
    "c.Lang = 'ar'\n",
    "c.Filter_retweets = False\n",
    "c.Store_json = True\n",
    "c.Output = \"1_tweets.json\"\n",
    "twint.run.Search(c)\n",
    "# Quick check\n",
    "# twint.storage.panda.Tweets_df.head(20)"
   ]
  },
  {
   "cell_type": "markdown",
   "id": "1bc727b9",
   "metadata": {
    "papermill": {
     "duration": 0.011238,
     "end_time": "2022-12-16T22:39:15.250998",
     "exception": false,
     "start_time": "2022-12-16T22:39:15.239760",
     "status": "completed"
    },
    "tags": []
   },
   "source": [
    "## 1- Loading and Cleaning Twitter Data"
   ]
  },
  {
   "cell_type": "code",
   "execution_count": 4,
   "id": "1a0031a9",
   "metadata": {
    "execution": {
     "iopub.execute_input": "2022-12-16T22:39:15.276291Z",
     "iopub.status.busy": "2022-12-16T22:39:15.275611Z",
     "iopub.status.idle": "2022-12-16T22:39:15.314640Z",
     "shell.execute_reply": "2022-12-16T22:39:15.313720Z"
    },
    "papermill": {
     "duration": 0.054173,
     "end_time": "2022-12-16T22:39:15.317065",
     "exception": false,
     "start_time": "2022-12-16T22:39:15.262892",
     "status": "completed"
    },
    "tags": []
   },
   "outputs": [],
   "source": [
    "# Open the input file\n",
    "input_file = open('/kaggle/input/sentiment-arabic-tweets/1_tweets.json','r', encoding=\"utf-8\")\n",
    "clean_tweets = open('/kaggle/working/clean_tweets.txt','w', encoding=\"utf-8\")\n",
    "\n",
    "\n",
    "# Load the first few lines\n",
    "for line in input_file:\n",
    "    tweet = json.loads(line)\n",
    "    temp = re.sub(\"@[A-Za-z0-9_]+\",\"@User\", tweet['tweet'])\n",
    "    temp = re.sub(r\"http\\S+\", \"URL\", temp)\n",
    "    temp = re.sub(r\"www.\\S+\", \"URL\", temp)\n",
    "    temp = re.sub('[()!\\'?]', '', temp)\n",
    "    temp = re.sub('\\[.*?\\]','', temp)\n",
    "    temp = re.sub(\"[^أ-يA-z0-9@]\",\" \", temp)\n",
    "    clean_tweets.write(temp + '\\n')\n",
    "\n",
    "# Close the input files\n",
    "input_file.close()\n",
    "clean_tweets.close()"
   ]
  },
  {
   "cell_type": "markdown",
   "id": "72640be4",
   "metadata": {
    "papermill": {
     "duration": 0.011152,
     "end_time": "2022-12-16T22:39:15.339757",
     "exception": false,
     "start_time": "2022-12-16T22:39:15.328605",
     "status": "completed"
    },
    "tags": []
   },
   "source": [
    "## 2- Derive the sentiment of each tweet"
   ]
  },
  {
   "cell_type": "markdown",
   "id": "82b6ce5d",
   "metadata": {
    "papermill": {
     "duration": 0.011006,
     "end_time": "2022-12-16T22:39:15.362675",
     "exception": false,
     "start_time": "2022-12-16T22:39:15.351669",
     "status": "completed"
    },
    "tags": []
   },
   "source": [
    "put the lexicon/Afinn file in dict as {term:score}"
   ]
  },
  {
   "cell_type": "code",
   "execution_count": 5,
   "id": "a2cd3ea8",
   "metadata": {
    "execution": {
     "iopub.execute_input": "2022-12-16T22:39:15.387231Z",
     "iopub.status.busy": "2022-12-16T22:39:15.386539Z",
     "iopub.status.idle": "2022-12-16T22:39:15.472050Z",
     "shell.execute_reply": "2022-12-16T22:39:15.470505Z"
    },
    "papermill": {
     "duration": 0.100647,
     "end_time": "2022-12-16T22:39:15.474498",
     "exception": false,
     "start_time": "2022-12-16T22:39:15.373851",
     "status": "completed"
    },
    "tags": []
   },
   "outputs": [
    {
     "name": "stdout",
     "output_type": "stream",
     "text": [
      "42772\n"
     ]
    }
   ],
   "source": [
    "afinnfile = open(\"/kaggle/input/sentiment-arabic-tweets/3_Afinne_arabic.csv\", 'r', encoding=\"utf-8\")\n",
    "scores = {} # initialize an empty dictionary\n",
    "for line in afinnfile:\n",
    "    line = line.strip()\n",
    "    term = line.split(',')[0]\n",
    "    score = line.split(',')[1]\n",
    "    try:\n",
    "        scores[term] = float(score) # Conver the score to an integer. It was parsed as a string.\n",
    "    except:\n",
    "        None\n",
    "afinnfile.close()\n",
    "print(len(scores))\n",
    "# print(scores.items( )) # Print every (term, score) pair in the dictionary"
   ]
  },
  {
   "cell_type": "markdown",
   "id": "f57f2293",
   "metadata": {
    "papermill": {
     "duration": 0.010775,
     "end_time": "2022-12-16T22:39:15.496393",
     "exception": false,
     "start_time": "2022-12-16T22:39:15.485618",
     "status": "completed"
    },
    "tags": []
   },
   "source": [
    "- make score for each tweets in sentiment file\n",
    "- make newWords dectionary for words that not exist in clean_tweets file"
   ]
  },
  {
   "cell_type": "code",
   "execution_count": 6,
   "id": "cb9b9961",
   "metadata": {
    "execution": {
     "iopub.execute_input": "2022-12-16T22:39:15.520229Z",
     "iopub.status.busy": "2022-12-16T22:39:15.519823Z",
     "iopub.status.idle": "2022-12-16T22:39:15.543327Z",
     "shell.execute_reply": "2022-12-16T22:39:15.541527Z"
    },
    "papermill": {
     "duration": 0.038488,
     "end_time": "2022-12-16T22:39:15.545976",
     "exception": false,
     "start_time": "2022-12-16T22:39:15.507488",
     "status": "completed"
    },
    "tags": []
   },
   "outputs": [
    {
     "name": "stdout",
     "output_type": "stream",
     "text": [
      "3573\n"
     ]
    }
   ],
   "source": [
    "tweets = open(\"/kaggle/working/clean_tweets.txt\", 'r', encoding=\"utf-8\")\n",
    "sentiments = open(\"/kaggle/working/3_sentiment.txt\", 'w', encoding=\"utf-8\")\n",
    "newWords = {}\n",
    "for line in tweets:\n",
    "    line = line.strip()\n",
    "    total_score = 0\n",
    "    for word in line.split(' '):\n",
    "        wordScore = scores.get(word, 0)\n",
    "        total_score = total_score + wordScore\n",
    "        if wordScore == 0 and word != 'URL' and word != 'User':\n",
    "            newWords[word] = newWords.get(word, 0)\n",
    "    sentiments.write(str(round(total_score, 3)) + \"\\n\")        \n",
    "tweets.close()\n",
    "sentiments.close()\n",
    "print(len(newWords))"
   ]
  },
  {
   "cell_type": "markdown",
   "id": "676c7d50",
   "metadata": {
    "papermill": {
     "duration": 0.011159,
     "end_time": "2022-12-16T22:39:15.568878",
     "exception": false,
     "start_time": "2022-12-16T22:39:15.557719",
     "status": "completed"
    },
    "tags": []
   },
   "source": [
    "give score for new words in newWords dictionary"
   ]
  },
  {
   "cell_type": "code",
   "execution_count": 7,
   "id": "c5f0f303",
   "metadata": {
    "execution": {
     "iopub.execute_input": "2022-12-16T22:39:15.593222Z",
     "iopub.status.busy": "2022-12-16T22:39:15.592843Z",
     "iopub.status.idle": "2022-12-16T22:39:22.769311Z",
     "shell.execute_reply": "2022-12-16T22:39:22.768309Z"
    },
    "papermill": {
     "duration": 7.19174,
     "end_time": "2022-12-16T22:39:22.771886",
     "exception": false,
     "start_time": "2022-12-16T22:39:15.580146",
     "status": "completed"
    },
    "tags": []
   },
   "outputs": [],
   "source": [
    "tweets = open(\"/kaggle/working/clean_tweets.txt\", 'r', encoding=\"utf-8\")\n",
    "sentiments = open(\"/kaggle/working/3_sentiment.txt\", 'r', encoding=\"utf-8\")\n",
    "result = open(\"/kaggle/working/3_stdout.txt\", 'w', encoding=\"utf-8\")\n",
    "\n",
    "tweets_scores = sentiments.read().split('\\n')\n",
    "word_score = None\n",
    "for word in newWords.keys():\n",
    "    word_score = 0\n",
    "    index = 0\n",
    "    for line in tweets:\n",
    "        line = line.split(' ')\n",
    "        if word in line:\n",
    "            word_score += float(tweets_scores[index].strip())\n",
    "        index += 1\n",
    "    if word_score > 0:\n",
    "        newWords[word] = 1\n",
    "    elif word_score < 0:\n",
    "        newWords[word] = -1\n",
    "    else:\n",
    "        newWords[word] = 0\n",
    "    result.write(word +' '+ str(newWords[word]) +'\\n')\n",
    "    tweets.seek(0)\n",
    "tweets.close()\n",
    "# print(newWords)"
   ]
  },
  {
   "cell_type": "markdown",
   "id": "77241eae",
   "metadata": {
    "papermill": {
     "duration": 0.010964,
     "end_time": "2022-12-16T22:39:22.794319",
     "exception": false,
     "start_time": "2022-12-16T22:39:22.783355",
     "status": "completed"
    },
    "tags": []
   },
   "source": [
    "## feature extraction\n",
    "- N-grams are continuous sequences of words or symbols or tokens in a document.\n",
    "- They come into play when we deal with text data in NLP(Natural Language Processing) tasks.\n",
    "- من البيانات التي قمنا بإنشائها وتصفيتها feature نعمل هنا على استخراج ال "
   ]
  },
  {
   "cell_type": "code",
   "execution_count": 8,
   "id": "2459fcce",
   "metadata": {
    "execution": {
     "iopub.execute_input": "2022-12-16T22:39:22.818712Z",
     "iopub.status.busy": "2022-12-16T22:39:22.818297Z",
     "iopub.status.idle": "2022-12-16T22:39:22.922457Z",
     "shell.execute_reply": "2022-12-16T22:39:22.921361Z"
    },
    "papermill": {
     "duration": 0.119959,
     "end_time": "2022-12-16T22:39:22.925762",
     "exception": false,
     "start_time": "2022-12-16T22:39:22.805803",
     "status": "completed"
    },
    "tags": []
   },
   "outputs": [],
   "source": [
    "tweets = open(\"/kaggle/working/clean_tweets.txt\", 'r', encoding=\"utf-8\")\n",
    "afinnfile = open(\"/kaggle/input/sentiment-arabic-tweets/3_Afinne_arabic.csv\", 'r', encoding=\"utf-8\")\n",
    "f = open(\"/kaggle/working/featuresAndLabels.csv\", 'w',newline='',encoding='utf-8-sig')\n",
    "writer = csv.writer(f)\n",
    "\n",
    "scores = {} # initialize an empty dictionary\n",
    "for line in afinnfile:\n",
    "    line = line.strip()\n",
    "    term = line.split(',')[0]\n",
    "    score = line.split(',')[1]\n",
    "    try:\n",
    "        scores[term] = float(score) # Conver the score to an integer. It was parsed as a string.\n",
    "    except:\n",
    "        None\n",
    "afinnfile.close()\n",
    "\n",
    "# Function to extract lexicon items\n",
    "def extract(g, lex):\n",
    "    if ' '.join(g) in lex.keys():\n",
    "        return lex.get(' '.join(g))\n",
    "    elif g[0] in lex.keys():\n",
    "        return lex.get(g[0])\n",
    "    else:\n",
    "        pass\n",
    "\n",
    "# Your task\n",
    "mylist = list()\n",
    "mylist.append(['tweet', 'feature'])\n",
    "for line in tweets:\n",
    "    line = line.strip()\n",
    "    out = [extract(g, scores) for g in ngrams(line.split(), 2) if extract(g, scores)]\n",
    "    out = sum(out)\n",
    "    if out > 0:\n",
    "        mylist.append([line,\"positive\"])\n",
    "    elif out < 0:\n",
    "        mylist.append([line,\"negative\"])\n",
    "    else:\n",
    "        mylist.append([line,'neutral'])\n",
    "writer.writerows(mylist)\n",
    "tweets.close()\n",
    "f.close()"
   ]
  },
  {
   "cell_type": "markdown",
   "id": "74894c4c",
   "metadata": {
    "papermill": {
     "duration": 0.011039,
     "end_time": "2022-12-16T22:39:22.948570",
     "exception": false,
     "start_time": "2022-12-16T22:39:22.937531",
     "status": "completed"
    },
    "tags": []
   },
   "source": [
    "## Training and Testing By SVM\n",
    "-  للتأكد أن البيانات التي سنقوم بتدريبها صحيحة ،feature نقوم باستخدام بيانات جاهزة لاستخراج ال"
   ]
  },
  {
   "cell_type": "code",
   "execution_count": 9,
   "id": "a4885ea2",
   "metadata": {
    "execution": {
     "iopub.execute_input": "2022-12-16T22:39:22.973085Z",
     "iopub.status.busy": "2022-12-16T22:39:22.972371Z",
     "iopub.status.idle": "2022-12-16T22:39:24.802107Z",
     "shell.execute_reply": "2022-12-16T22:39:24.800928Z"
    },
    "papermill": {
     "duration": 1.845618,
     "end_time": "2022-12-16T22:39:24.805532",
     "exception": false,
     "start_time": "2022-12-16T22:39:22.959914",
     "status": "completed"
    },
    "tags": []
   },
   "outputs": [
    {
     "name": "stdout",
     "output_type": "stream",
     "text": [
      "Accuracy score is 0.57\n",
      "              precision    recall  f1-score   support\n",
      "\n",
      "          -1       0.53      0.46      0.49       183\n",
      "           0       0.61      0.59      0.60       208\n",
      "           1       0.57      0.66      0.61       209\n",
      "\n",
      "    accuracy                           0.57       600\n",
      "   macro avg       0.57      0.57      0.57       600\n",
      "weighted avg       0.57      0.57      0.57       600\n",
      "\n"
     ]
    }
   ],
   "source": [
    "\n",
    "df = pd.read_csv('/kaggle/input/sentiment-arabic-tweets/4_AT-ODTSA_Dataset_RawDataV1-1.csv')\n",
    "X=df['tweet'].values\n",
    "y=df['sentiment'].values\n",
    "\n",
    "\n",
    "# Split the tweets into a training set and a test set\n",
    "X_train, X_test, y_train, y_test = train_test_split(df['tweet'], df['sentiment'], test_size=0.2)\n",
    "\n",
    "# Convert the tweets into numerical features\n",
    "vectorizer = CountVectorizer()\n",
    "vectorizer.fit(X_train)\n",
    "X_train = vectorizer.transform(X_train)\n",
    "X_test = vectorizer.transform(X_test)\n",
    "\n",
    "# Train the SVM model\n",
    "model = SVC(kernel='linear')\n",
    "model.fit(X_train, y_train)\n",
    "\n",
    "# Test the model on the test set\n",
    "y_pred = model.predict(X_test)\n",
    "\n",
    "# Evaluate the model\n",
    "accuracy = sum(y_pred == y_test) / len(y_test)\n",
    "print(f\"Accuracy score is {accuracy_score(y_test, y_pred):.2f}\")\n",
    "print(classification_report(y_test, y_pred))"
   ]
  },
  {
   "cell_type": "code",
   "execution_count": 10,
   "id": "64d0776c",
   "metadata": {
    "execution": {
     "iopub.execute_input": "2022-12-16T22:39:24.831139Z",
     "iopub.status.busy": "2022-12-16T22:39:24.830761Z",
     "iopub.status.idle": "2022-12-16T22:39:26.056561Z",
     "shell.execute_reply": "2022-12-16T22:39:26.055406Z"
    },
    "papermill": {
     "duration": 1.241038,
     "end_time": "2022-12-16T22:39:26.058782",
     "exception": false,
     "start_time": "2022-12-16T22:39:24.817744",
     "status": "completed"
    },
    "tags": []
   },
   "outputs": [
    {
     "data": {
      "text/plain": [
       "<matplotlib.collections.PathCollection at 0x7f8b642527d0>"
      ]
     },
     "execution_count": 10,
     "metadata": {},
     "output_type": "execute_result"
    },
    {
     "data": {
      "image/png": "[encoded data removed]",
      "text/plain": [
       "<Figure size 432x288 with 1 Axes>"
      ]
     },
     "metadata": {},
     "output_type": "display_data"
    }
   ],
   "source": [
    "def polarity(text):\n",
    "    return TextBlob(text).sentiment.polarity\n",
    "df['polarity'] = df['tweet'].apply(polarity)\n",
    "X = df['polarity']\n",
    "y = df['sentiment']\n",
    "plt.scatter(X, y, c=y, s=150, cmap='RdYlGn')\n"
   ]
  },
  {
   "cell_type": "code",
   "execution_count": null,
   "id": "85367b33",
   "metadata": {
    "papermill": {
     "duration": 0.012082,
     "end_time": "2022-12-16T22:39:26.082689",
     "exception": false,
     "start_time": "2022-12-16T22:39:26.070607",
     "status": "completed"
    },
    "tags": []
   },
   "outputs": [],
   "source": []
  }
 ],
 "metadata": {
  "kernelspec": {
   "display_name": "Python 3",
   "language": "python",
   "name": "python3"
  },
  "language_info": {
   "codemirror_mode": {
    "name": "ipython",
    "version": 3
   },
   "file_extension": ".py",
   "mimetype": "text/x-python",
   "name": "python",
   "nbconvert_exporter": "python",
   "pygments_lexer": "ipython3",
   "version": "3.7.12"
  },
  "papermill": {
   "default_parameters": {},
   "duration": 79.830993,
   "end_time": "2022-12-16T22:39:27.016780",
   "environment_variables": {},
   "exception": null,
   "input_path": "__notebook__.ipynb",
   "output_path": "__notebook__.ipynb",
   "parameters": {},
   "start_time": "2022-12-16T22:38:07.185787",
   "version": "2.3.4"
  }
 },
 "nbformat": 4,
 "nbformat_minor": 5
}
